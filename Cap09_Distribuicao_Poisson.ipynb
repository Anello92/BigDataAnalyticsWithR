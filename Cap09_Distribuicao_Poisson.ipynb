{
  "nbformat": 4,
  "nbformat_minor": 0,
  "metadata": {
    "colab": {
      "name": "Cap09-Distribuicao-Poisson.ipynb",
      "provenance": []
    },
    "kernelspec": {
      "name": "python3",
      "display_name": "Python 3"
    }
  },
  "cells": [
    {
      "cell_type": "code",
      "metadata": {
        "id": "FCEwW_kFFhU0",
        "colab_type": "code",
        "colab": {}
      },
      "source": [
        "# Distribuição Poisson\n",
        "\n",
        "\n",
        "# A Distribuição Poisson é muito útil para calcular a probabilidade de um certo número de eventos \n",
        "# que ocorrerá em um específico intervalo de tempo ou espaço. \n",
        "\n",
        "# Nós poderíamos usar este tipo de distribuição para determinar a probabilidade de 10 clientes \n",
        "# entrarem em uma loja nos próximos 30 minutos ou a probabilidade de 2 acidentes de carro ocorrerem \n",
        "# em um determinado cruzamento no próximo mês. \n",
        "\n",
        "# A Distribuição Poisson é um modelo para o número de eventos observados numa unidade de tempo ou de espaço, \n",
        "# dado que a taxa de eventos por unidade é constante e os eventos ocorrem de modo independente. \n",
        "\n",
        "# O único parâmetro da Poisson é λ (lambda), que representa a taxa de eventos por unidade.\n",
        "\n",
        "# Se um certo número de objetos está distribuído ao acaso por uma área, e esta área é dividida em quadrículas de \n",
        "# mesmo tamanho, o número de objetos por quadrículas pode ser descrito por uma Distribuição Poisson. Neste caso, \n",
        "# o parâmetro λ será o total de objetos dividido pelo total de quadrículas.\n",
        "\n",
        "# Distribuição Binomial, o número de sucessos observados é limitado ao número de possibilidades. \n",
        "# Distribuição Poisson, o número de resultados pode ser qualquer um.\n",
        "\n",
        "# A Distribuição Poisson não conta o número de sucessos, como na distribuição binomial.\n",
        "# A Distribuição Poisson conta o número de ocorrências de um evento particular sobre um intervalo \n",
        "# específico de tempo ou espaço. \n",
        "\n",
        "\n",
        "# Exemplo: Considere um processo que têm uma taxa de 0,5 defeitos por unidade. \n",
        "# Qual a probabilidade de uma unidade apresentar dois defeitos? E nenhum defeito?\n",
        "?dpois\n",
        "dpois(2, 0.5)\n",
        "dpois(0, 0.5)\n"
      ],
      "execution_count": 0,
      "outputs": []
    }
  ]
}