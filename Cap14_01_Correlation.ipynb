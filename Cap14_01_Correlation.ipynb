{
  "nbformat": 4,
  "nbformat_minor": 0,
  "metadata": {
    "colab": {
      "name": "Cap14-01-Correlation.ipynb",
      "provenance": [],
      "toc_visible": true
    },
    "kernelspec": {
      "name": "python3",
      "display_name": "Python 3"
    }
  },
  "cells": [
    {
      "cell_type": "code",
      "metadata": {
        "id": "HlytUnrXCwLh",
        "colab_type": "code",
        "colab": {
          "base_uri": "https://localhost:8080/",
          "height": 50
        },
        "outputId": "abdc5e02-6082-45d4-ca91-6d387fa41762"
      },
      "source": [
        "# activate R magic\n",
        "%load_ext rpy2.ipython"
      ],
      "execution_count": 26,
      "outputs": [
        {
          "output_type": "stream",
          "text": [
            "The rpy2.ipython extension is already loaded. To reload it, use:\n",
            "  %reload_ext rpy2.ipython\n"
          ],
          "name": "stdout"
        }
      ]
    },
    {
      "cell_type": "markdown",
      "metadata": {
        "id": "Eool4aCUPw8-",
        "colab_type": "text"
      },
      "source": [
        "# Análise de Correlação \n",
        "### Este código contém comandos para análise de correlação.\n"
      ]
    },
    {
      "cell_type": "code",
      "metadata": {
        "id": "ByUqsFxIEA0P",
        "colab_type": "code",
        "colab": {
          "base_uri": "https://localhost:8080/",
          "height": 319
        },
        "outputId": "179bb347-052e-4bc2-a96c-620a7ea7a7e4"
      },
      "source": [
        "%%R\n",
        "# Variável que controla a execução do script\n",
        "Azure <- FALSE\n",
        "\n",
        "if(Azure){\n",
        "  source(\"Tools.R\")\n",
        "  bikes <- maml.mapInputPort(1)\n",
        "  bikes$dteday <- set.asPOSIXct(bikes)\n",
        "}else{\n",
        "  bikes <- read.csv(\"bikes.csv\", sep = \",\", header = TRUE, stringsAsFactors = FALSE )\n",
        "}\n",
        "\n",
        "str(bikes)\n",
        "\n",
        "cols <- c(\"mnth\", \"hr\", \"holiday\", \"workingday\",\n",
        "          \"weathersit\", \"temp\", \"hum\", \"windspeed\",\n",
        "          \"isWorking\", \"monthCount\", \"dayWeek\", \n",
        "          \"workTime\", \"xformHr\", \"cnt\")"
      ],
      "execution_count": 27,
      "outputs": [
        {
          "output_type": "stream",
          "text": [
            "'data.frame':\t17379 obs. of  17 variables:\n",
            " $ instant   : int  1 2 3 4 5 6 7 8 9 10 ...\n",
            " $ dteday    : chr  \"2011-01-01\" \"2011-01-01\" \"2011-01-01\" \"2011-01-01\" ...\n",
            " $ season    : int  1 1 1 1 1 1 1 1 1 1 ...\n",
            " $ yr        : int  0 0 0 0 0 0 0 0 0 0 ...\n",
            " $ mnth      : int  1 1 1 1 1 1 1 1 1 1 ...\n",
            " $ hr        : int  0 1 2 3 4 5 6 7 8 9 ...\n",
            " $ holiday   : int  0 0 0 0 0 0 0 0 0 0 ...\n",
            " $ weekday   : int  6 6 6 6 6 6 6 6 6 6 ...\n",
            " $ workingday: int  0 0 0 0 0 0 0 0 0 0 ...\n",
            " $ weathersit: int  1 1 1 1 1 2 1 1 1 1 ...\n",
            " $ temp      : num  0.24 0.22 0.22 0.24 0.24 0.24 0.22 0.2 0.24 0.32 ...\n",
            " $ atemp     : num  0.288 0.273 0.273 0.288 0.288 ...\n",
            " $ hum       : num  0.81 0.8 0.8 0.75 0.75 0.75 0.8 0.86 0.75 0.76 ...\n",
            " $ windspeed : num  0 0 0 0 0 0.0896 0 0 0 0 ...\n",
            " $ casual    : int  3 8 5 3 0 0 2 1 1 8 ...\n",
            " $ registered: int  13 32 27 10 1 1 0 2 7 6 ...\n",
            " $ cnt       : int  16 40 32 13 1 1 2 3 8 14 ...\n"
          ],
          "name": "stdout"
        }
      ]
    },
    {
      "cell_type": "markdown",
      "metadata": {
        "id": "iQ0umI55xMpd",
        "colab_type": "text"
      },
      "source": [
        "## Definindo as colunas para a análise de correlação \n"
      ]
    },
    {
      "cell_type": "markdown",
      "metadata": {
        "id": "6VVmC6RSQZ93",
        "colab_type": "text"
      },
      "source": [
        "#**Métodos de Correlação**\n",
        "#### Pearson - coeficiente para medir o grau de relacionamento entre duas variáveis com relação linear\n",
        "#### Spearman - teste não paramétrico, para medir o grau de relacionamento entre duas variaveis\n",
        "#### Kendall - teste não paramétrico, para medir a força de dependência entre duas variaveis\n"
      ]
    },
    {
      "cell_type": "markdown",
      "metadata": {
        "id": "MvVRk_p9xiUX",
        "colab_type": "text"
      },
      "source": [
        "##**Vetor de Métodos**"
      ]
    },
    {
      "cell_type": "code",
      "metadata": {
        "id": "xVZhJQfVEAw4",
        "colab_type": "code",
        "colab": {}
      },
      "source": [
        "%%R\n",
        "# Vetor com os métodos de correlação\n",
        "metodos <- c(\"pearson\", \"spearman\")"
      ],
      "execution_count": 0,
      "outputs": []
    },
    {
      "cell_type": "markdown",
      "metadata": {
        "id": "-OxkGwoXx-Dy",
        "colab_type": "text"
      },
      "source": [
        "##**lapply**"
      ]
    },
    {
      "cell_type": "code",
      "metadata": {
        "id": "Tcmgr1x1EAuN",
        "colab_type": "code",
        "colab": {}
      },
      "source": [
        "%%R\n",
        "# Aplicando os métodos de correlação com a função cor()\n",
        "cors <- lapply(metodos, function(method) (cor(bikes[, cols], method = method)))"
      ],
      "execution_count": 0,
      "outputs": []
    },
    {
      "cell_type": "code",
      "metadata": {
        "id": "Mac_P1BR2zMY",
        "colab_type": "code",
        "colab": {}
      },
      "source": [
        "%%R\n",
        "install.packages(\"lattice\")"
      ],
      "execution_count": 0,
      "outputs": []
    },
    {
      "cell_type": "code",
      "metadata": {
        "id": "3N7g-ZCSEArJ",
        "colab_type": "code",
        "colab": {}
      },
      "source": [
        "%%R\n",
        "# Preprando o plot\n",
        "require(lattice)\n",
        "plot.cors <- function(x, labs){\n",
        "  diag(x) <- 0.0 \n",
        "  plot( levelplot(x, \n",
        "                  main = paste(\"Plot de Correlação usando Método\", labs),\n",
        "                  scales = list(x = list(rot = 90), cex = 1.0)) )\n",
        "}"
      ],
      "execution_count": 0,
      "outputs": []
    },
    {
      "cell_type": "code",
      "metadata": {
        "id": "vYXBxcCNEAoY",
        "colab_type": "code",
        "colab": {
          "base_uri": "https://localhost:8080/",
          "height": 118
        },
        "outputId": "89872ccb-1301-485d-9ef7-6d0880650423"
      },
      "source": [
        "%%R\n",
        "# Mapa de Correlação\n",
        "Map(plot.cors, cors, metodos)\n"
      ],
      "execution_count": 31,
      "outputs": [
        {
          "output_type": "stream",
          "text": [
            "R[write to console]: Error in mapply(FUN = f, ..., SIMPLIFY = FALSE) : object 'cors' not found\n",
            "Calls: <Anonymous> -> <Anonymous> -> withVisible -> Map -> mapply\n",
            "\n"
          ],
          "name": "stderr"
        },
        {
          "output_type": "stream",
          "text": [
            "\n",
            "Error in mapply(FUN = f, ..., SIMPLIFY = FALSE) : object 'cors' not found\n",
            "Calls: <Anonymous> -> <Anonymous> -> withVisible -> Map -> mapply\n"
          ],
          "name": "stdout"
        }
      ]
    },
    {
      "cell_type": "code",
      "metadata": {
        "id": "AJegwL4tEAld",
        "colab_type": "code",
        "colab": {}
      },
      "source": [
        "%%R\n",
        "# Gera saida no Azure ML\n",
        "if(Azure) maml.mapOutputPort('bikes')"
      ],
      "execution_count": 0,
      "outputs": []
    }
  ]
}