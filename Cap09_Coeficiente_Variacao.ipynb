{
  "nbformat": 4,
  "nbformat_minor": 0,
  "metadata": {
    "colab": {
      "name": "Cap09-Coeficiente-Variacao.ipynb",
      "provenance": []
    },
    "kernelspec": {
      "name": "python3",
      "display_name": "Python 3"
    }
  },
  "cells": [
    {
      "cell_type": "code",
      "metadata": {
        "id": "FCEwW_kFFhU0",
        "colab_type": "code",
        "colab": {}
      },
      "source": [
        "# Medidas de Dispersão - Coeficiente de Variação\n",
        "\n",
        "# Obs: Caso tenha problemas com a acentuação, consulte este link:\n",
        "# https://support.rstudio.com/hc/en-us/articles/200532197-Character-Encoding\n",
        "\n",
        "# Configurando o diretório de trabalho\n",
        "# Coloque entre aspas o diretório de trabalho que você está usando no seu computador\n",
        "# Não use diretórios com espaço no nome\n",
        "setwd(\"C:/FCD/BigDataRAzure/Cap09\")\n",
        "getwd()\n",
        "\n",
        "\n",
        "##### Coeficiente de Variação #####\n",
        "\n",
        "# O coeficiente de variação indica a quantidade de variação de um conjunto de dados em relação a média. \n",
        "# O valor é dado por uma relação direta do quociente entre o desvio com a média da amostra.\n",
        "\n",
        "# O coeficiente de variação (CV), mede o desvio padrão em termos de percentual da média. \n",
        "# Um CV alto, indica alta variabilidade dos dados, ou seja, menos consistência dos dados. \n",
        "# Um CV menor, indica mais consistência dentro do conjunto de dados.\n",
        "\n",
        "# Quando comparamos a consistência entre 2 conjuntos de dados em relação a suas médias, \n",
        "# é melhor feito quando utilizamos coeficiente de variação. \n",
        "\n",
        "\n",
        "# Exemplo: Imagine que um investidor está decidindo se compra ações da Nike ou Adidas na bolsa de valores. \n",
        "# O valor médio da ação de cada empresa e o desvio padrão, são dados a seguir. \n",
        "# Qual deve ser a escolha do investidor?\n",
        "\n",
        "# Nike ==> Valor médio da ação = $55.62 / desvio padrão = $5.10 \n",
        "# Adidas ==> Valor médio da ação = $24.86 / desvio padrão = $3.60 \n",
        "\n",
        "# CV = (desvio/media) * 100\n",
        "CV_Nike   = (5.10/55.62) * 100\n",
        "CV_Adidas = (3.60/24.86) * 100\n",
        "\n",
        "print(CV_Nike)\n",
        "print(CV_Adidas)\n",
        "\n",
        "# Conclusão\n",
        "\n",
        "# Um investidor se sentiria mais seguro em adquirir ações da Nike, pois o preço das ações \n",
        "# teria uma variação menor, podendo assim evitar perdas e permitindo ao investidor ter \n",
        "# um investimento mais seguro.\n",
        "\n",
        "\n"
      ],
      "execution_count": 0,
      "outputs": []
    }
  ]
}