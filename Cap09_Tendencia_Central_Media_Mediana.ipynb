{
  "nbformat": 4,
  "nbformat_minor": 0,
  "metadata": {
    "colab": {
      "name": "Cap09-Tendencia-Central-Media-Mediana.ipynb",
      "provenance": []
    },
    "kernelspec": {
      "name": "python3",
      "display_name": "Python 3"
    }
  },
  "cells": [
    {
      "cell_type": "code",
      "metadata": {
        "id": "aM4wx9LMEqv8",
        "colab_type": "code",
        "colab": {}
      },
      "source": [
        "# Medidas de Tendência Central - Média e Mediana\n",
        "\n",
        "##### Medidas de Tendência Central #####\n",
        "\n",
        "# As medidas de tendência central são valores representativos da distribuição \n",
        "# em torno da qual as outras medidas se distribuem. \n",
        "\n",
        "# Duas medidas são as mais utilizadas: a média aritmética e a mediana.\n",
        "\n",
        "\n",
        "##### Média #####\n",
        "\n",
        "# A média aritmética de um conjunto de n valores, como o próprio nome indica, é obtida somando-se \n",
        "# todas as medidas e dividindo-se a soma por n. \n",
        "\n",
        "# Representamos cada valor individual por uma letra (x, y, z, etc.) seguida por um sub-índice, ou seja, \n",
        "# representamos os n valores da amostra por x1, x2, x3, …, xn, onde x1 é a primeira observação, \n",
        "# x2 é a segunda e assim por diante. \n",
        "\n",
        "# Exemplo: A lista abaixo possui as notas de 10 alunos de um curso de graduação no exame final. Calcule a média.\n",
        "notas = c(6.4, 7.3, 9.8, 7.3, 7.9, 8.2, 9.1, 5.6, 8.5, 6.8) \n",
        "notas\n",
        "?mean\n",
        "mean(notas)  \n",
        "print(mean(notas))\n",
        "\n",
        "\n",
        "##### Mediana #####\n",
        "\n",
        "# A mediana é uma medida alternativa à média aritmética para representar o centro da distribuição, \n",
        "# muito usada em estatística descritiva. \n",
        "\n",
        "# A mediana de um conjunto de medidas (x1, x2, x3, …, xn) é um valor M tal que pelo menos 50% das medidas \n",
        "# são menores ou iguais a M e pelo menos 50% das medidas são maiores ou iguais a M. \n",
        "\n",
        "# Em outras palavras, 50% das medidas ficam abaixo da mediana e 50% acima.\n",
        "\n",
        "# Se o número de elementos for ímpar, a mediana é o elemento do meio: n / 2\n",
        "# Se o número de elementos for par, a mediana ainda é o elemento do meio, mas calculado assim: (n + 1) / 2\n",
        "\n",
        "# Exemplo: Os dados da lista abaixo são tempos de vida (em dias) de 8 lâmpadas. Calcule a média e a mediana.\n",
        "tempos = c(400, 350, 510, 550, 690, 720, 750, 2000)\n",
        "mean(tempos)\n",
        "?median\n",
        "median(tempos) \n",
        "\n",
        "\n",
        "\n",
        "\n",
        "\n",
        "\n",
        "\n",
        "\n",
        "\n",
        "\n",
        "\n"
      ],
      "execution_count": 0,
      "outputs": []
    },
    {
      "cell_type": "markdown",
      "metadata": {
        "id": "EP8bsUP8Esgy",
        "colab_type": "text"
      },
      "source": [
        ""
      ]
    }
  ]
}