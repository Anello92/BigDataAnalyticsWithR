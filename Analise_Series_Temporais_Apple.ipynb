{
  "nbformat": 4,
  "nbformat_minor": 0,
  "metadata": {
    "colab": {
      "name": "Analise_Series_Temporais_Apple.ipynb",
      "provenance": []
    },
    "kernelspec": {
      "name": "python3",
      "display_name": "Python 3"
    }
  },
  "cells": [
    {
      "cell_type": "code",
      "metadata": {
        "id": "n5EVriLzDEkd",
        "colab_type": "code",
        "colab": {}
      },
      "source": [
        "# activate R magic\n",
        "%load_ext rpy2.ipython"
      ],
      "execution_count": null,
      "outputs": []
    },
    {
      "cell_type": "markdown",
      "metadata": {
        "id": "ru4rIEGbud_y",
        "colab_type": "text"
      },
      "source": [
        "#**Análise de Séries Temporais**\n",
        "\n",
        "zoo - Z's Ordered Observations\n",
        "\n"
      ]
    },
    {
      "cell_type": "code",
      "metadata": {
        "id": "Ozb-ttxeuKEe",
        "colab_type": "code",
        "colab": {}
      },
      "source": [
        "# https://cran.r-project.org/web/packages/zoo/zoo.pdf"
      ],
      "execution_count": null,
      "outputs": []
    },
    {
      "cell_type": "markdown",
      "metadata": {
        "id": "_ZB-pZyMurEH",
        "colab_type": "text"
      },
      "source": [
        "Esse pacote possui métodos para indexação totalmente ordenada\n",
        "\n",
        "Destina-se particularmente a **séries temporais irregulares** de vetores numéricos, matrizes e fatores"
      ]
    },
    {
      "cell_type": "code",
      "metadata": {
        "id": "GI3F5zuuuJ-H",
        "colab_type": "code",
        "colab": {}
      },
      "source": [
        "%%R\n",
        "## Pacote zoo\n",
        "install.packages(\"zoo\")\n",
        "library(\"zoo\")"
      ],
      "execution_count": null,
      "outputs": []
    },
    {
      "cell_type": "code",
      "metadata": {
        "id": "zdXYqlzQuJ8E",
        "colab_type": "code",
        "colab": {}
      },
      "source": [
        "%%R\n",
        "?read.zoo"
      ],
      "execution_count": null,
      "outputs": []
    },
    {
      "cell_type": "code",
      "metadata": {
        "id": "LTGTGgi2u49M",
        "colab_type": "code",
        "colab": {}
      },
      "source": [
        "%%R\n",
        "aapl <- read.zoo(\"apple.csv\", sep = \",\", header = TRUE, format = \"%Y-%m-%d\")"
      ],
      "execution_count": 6,
      "outputs": []
    },
    {
      "cell_type": "code",
      "metadata": {
        "id": "z8ZcylDgvjsZ",
        "colab_type": "code",
        "colab": {
          "base_uri": "https://localhost:8080/",
          "height": 50
        },
        "outputId": "d0dfb761-b8ca-4370-adbb-5ecbbb75c294"
      },
      "source": [
        "%%R\n",
        "head(aapl)"
      ],
      "execution_count": 8,
      "outputs": [
        {
          "output_type": "stream",
          "text": [
            "2000-01-03 2000-01-04 2000-01-05 2000-01-06 2000-01-07 2000-01-10 \n",
            "     27.58      25.25      25.62      23.40      24.51      24.08 \n"
          ],
          "name": "stdout"
        }
      ]
    },
    {
      "cell_type": "code",
      "metadata": {
        "id": "N4VMi2TPvp59",
        "colab_type": "code",
        "colab": {
          "base_uri": "https://localhost:8080/",
          "height": 50
        },
        "outputId": "d24d6fe7-e391-4baa-f661-9766d17a192c"
      },
      "source": [
        "%%R\n",
        "tail(aapl)"
      ],
      "execution_count": 9,
      "outputs": [
        {
          "output_type": "stream",
          "text": [
            "2013-04-17 2013-04-18 2013-04-19 2013-04-22 2013-04-23 2013-04-24 \n",
            "    402.80     392.05     390.53     398.67     406.13     405.46 \n"
          ],
          "name": "stdout"
        }
      ]
    },
    {
      "cell_type": "code",
      "metadata": {
        "id": "V43YFU9WvtOz",
        "colab_type": "code",
        "colab": {}
      },
      "source": [
        "%%R\n",
        "#View(aapl)"
      ],
      "execution_count": null,
      "outputs": []
    },
    {
      "cell_type": "code",
      "metadata": {
        "id": "iO8d3S1RvzF5",
        "colab_type": "code",
        "colab": {
          "base_uri": "https://localhost:8080/",
          "height": 497
        },
        "outputId": "7aeb0728-5ee8-4114-fe10-32159635f876"
      },
      "source": [
        "%%R\n",
        "#Plot\n",
        "plot(aapl,\n",
        "     main = \"Preço de Fechamento das Ações da Apple na NASDAQ\", \n",
        "     ylab = \"Preço (USD)\", \n",
        "     xlab = \"Data\")"
      ],
      "execution_count": 10,
      "outputs": [
        {
          "output_type": "display_data",
          "data": {
            "image/png": "[encoded data removed]"
          },
          "metadata": {
            "tags": []
          }
        }
      ]
    },
    {
      "cell_type": "markdown",
      "metadata": {
        "id": "NxPZw-SEwNk6",
        "colab_type": "text"
      },
      "source": [
        "##**Cotação Máxima** - Linguagem R base"
      ]
    },
    {
      "cell_type": "code",
      "metadata": {
        "id": "ccQ9QQZCwMJI",
        "colab_type": "code",
        "colab": {
          "base_uri": "https://localhost:8080/",
          "height": 50
        },
        "outputId": "84cc6df3-7a8b-4eca-9915-de1117163e06"
      },
      "source": [
        "%%R\n",
        "# Visualizando o valor mais alto de cotação\n",
        "aapl[which.max(aapl)]"
      ],
      "execution_count": 11,
      "outputs": [
        {
          "output_type": "stream",
          "text": [
            "2012-09-19 \n",
            "    694.86 \n"
          ],
          "name": "stdout"
        }
      ]
    },
    {
      "cell_type": "markdown",
      "metadata": {
        "id": "D8__NHoUweqs",
        "colab_type": "text"
      },
      "source": [
        "##**Calcular retorno simples**"
      ]
    },
    {
      "cell_type": "code",
      "metadata": {
        "id": "Z2VLRD4HwXLJ",
        "colab_type": "code",
        "colab": {}
      },
      "source": [
        "%%R\n",
        "# Ao trabalhar com séries temporais, o retorno normalmente é mais importante que o preço\n",
        "ret_simple <- diff(aapl) / lag(aapl, k = -1) * 100"
      ],
      "execution_count": 12,
      "outputs": []
    },
    {
      "cell_type": "markdown",
      "metadata": {
        "id": "xDkb7yyqwoe2",
        "colab_type": "text"
      },
      "source": [
        "##**Podemos obter estatísticas {zoo} sobre o retorno simples**"
      ]
    },
    {
      "cell_type": "code",
      "metadata": {
        "id": "4ZhyZ8kawtrd",
        "colab_type": "code",
        "colab": {}
      },
      "source": [
        "%%R\n",
        "# A função coredata do pacote zoo permite extrair apenas os dados (e não as datas) de nosso dataset\n",
        "?coredata"
      ],
      "execution_count": null,
      "outputs": []
    },
    {
      "cell_type": "code",
      "metadata": {
        "id": "TSahwdJ2wxNg",
        "colab_type": "code",
        "colab": {
          "base_uri": "https://localhost:8080/",
          "height": 50
        },
        "outputId": "e76fce0f-2fcb-4c63-c196-c888587ebbb4"
      },
      "source": [
        "%%R\n",
        "# Podemos ver que o valor mínimo de perda foi de 51.86%\n",
        "summary(coredata(ret_simple))"
      ],
      "execution_count": 13,
      "outputs": [
        {
          "output_type": "stream",
          "text": [
            "     Min.   1st Qu.    Median      Mean   3rd Qu.      Max. \n",
            "-51.85888  -1.32475   0.07901   0.12527   1.55332  13.91131 \n"
          ],
          "name": "stdout"
        }
      ]
    },
    {
      "cell_type": "markdown",
      "metadata": {
        "id": "z9GUOHDZw5wg",
        "colab_type": "text"
      },
      "source": [
        "**Verificando o dia em que ocorreu a maior drawdown:**\n",
        "\n",
        "Uma pesquisa rápida na internet mostra que no dia que houve a perda, a Apple anunciou redução nos lucros, com valores abaixo do esperado pelo mercado. \n",
        "\n",
        "Poderiamos acrescentar esta informação em seu Financial Analytics,\n",
        "junto com indicadores econômicos da sua própria empresa e/ou de outras empresas concorrentes."
      ]
    },
    {
      "cell_type": "markdown",
      "metadata": {
        "id": "A1VmYJz0xy05",
        "colab_type": "text"
      },
      "source": [
        "##**Coletar o dia específico do maior drawdown** - which.min"
      ]
    },
    {
      "cell_type": "code",
      "metadata": {
        "id": "qrqko6HEwxKI",
        "colab_type": "code",
        "colab": {
          "base_uri": "https://localhost:8080/",
          "height": 50
        },
        "outputId": "fcf039f0-59af-4d29-eebd-003fd32d50f1"
      },
      "source": [
        "%%R\n",
        "ret_simple[which.min(ret_simple)]"
      ],
      "execution_count": 14,
      "outputs": [
        {
          "output_type": "stream",
          "text": [
            "2000-09-29 \n",
            " -51.85888 \n"
          ],
          "name": "stdout"
        }
      ]
    },
    {
      "cell_type": "markdown",
      "metadata": {
        "id": "fbP0X_zCxQs-",
        "colab_type": "text"
      },
      "source": [
        "##**Visualizando o retorno**"
      ]
    },
    {
      "cell_type": "code",
      "metadata": {
        "id": "uSS_vBOLwxHI",
        "colab_type": "code",
        "colab": {
          "base_uri": "https://localhost:8080/",
          "height": 497
        },
        "outputId": "227e14ea-d025-4146-f0af-4929a4c7d24c"
      },
      "source": [
        "%%R\n",
        "# Nitidamente tivemos um outlie (-51%), o que impacta na média de retorno das ações da Apple\n",
        "hist(ret_simple, breaks = 100, main = \"Histograma de Retornos Simples\", xlab = \"%\")"
      ],
      "execution_count": 16,
      "outputs": [
        {
          "output_type": "display_data",
          "data": {
            "image/png": "[encoded data removed]"
          },
          "metadata": {
            "tags": []
          }
        }
      ]
    },
    {
      "cell_type": "markdown",
      "metadata": {
        "id": "QDlbVinOyZNW",
        "colab_type": "text"
      },
      "source": [
        "##**subset combinado com which.max** - Janela de tempo com consulta"
      ]
    },
    {
      "cell_type": "code",
      "metadata": {
        "id": "1aYsGtfXyPKm",
        "colab_type": "code",
        "colab": {
          "base_uri": "https://localhost:8080/",
          "height": 50
        },
        "outputId": "60a604b9-40e0-469b-e878-919cd1d271ad"
      },
      "source": [
        "%%R\n",
        "# Podmeos restringir nossa análise a subset dos dados, \n",
        "# em análise de séries temporais, chamamos de window (janela)\n",
        "# Coletando dados apenas de 2013\n",
        "aapl_2013 <- window(aapl, start = '2013-01-01', end = '2013-12-31')\n",
        "aapl_2013[which.max(aapl_2013)]"
      ],
      "execution_count": 17,
      "outputs": [
        {
          "output_type": "stream",
          "text": [
            "2013-01-02 \n",
            "    545.85 \n"
          ],
          "name": "stdout"
        }
      ]
    },
    {
      "cell_type": "markdown",
      "metadata": {
        "id": "4OX4YPdAyvgF",
        "colab_type": "text"
      },
      "source": [
        "##**Atenção**"
      ]
    },
    {
      "cell_type": "markdown",
      "metadata": {
        "id": "7Jbi-cqZykMl",
        "colab_type": "text"
      },
      "source": [
        "Os quartis da distribuição de retorno são interessantes em perspectiva de gestão de risco. \n",
        "\n",
        "Podemos, por exemplo, determinar o valor de risco de 1 dia usando esta abordagem. Assim, a probabilidade de que o retorno seja inferior a 7% em qualquer dia é de apenas 1%. \n",
        "\n",
        "Mas se este dia ocorrer (e isso ocorrerá aproximadamente 2,5 vezes por ano), 7% é o valor mínimo de perda."
      ]
    },
    {
      "cell_type": "code",
      "metadata": {
        "id": "bbl7j09zuJ4t",
        "colab_type": "code",
        "colab": {
          "base_uri": "https://localhost:8080/",
          "height": 50
        },
        "outputId": "c6300875-1747-43f2-89e2-80b145b947ed"
      },
      "source": [
        "%%R\n",
        "quantile(ret_simple, \n",
        "         probs = 0.01)"
      ],
      "execution_count": 18,
      "outputs": [
        {
          "output_type": "stream",
          "text": [
            "       1% \n",
            "-7.042678 \n"
          ],
          "name": "stdout"
        }
      ]
    }
  ]
}