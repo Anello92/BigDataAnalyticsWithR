{
  "nbformat": 4,
  "nbformat_minor": 0,
  "metadata": {
    "colab": {
      "name": "Cap09-Histogramas.ipynb",
      "provenance": []
    },
    "kernelspec": {
      "name": "python3",
      "display_name": "Python 3"
    }
  },
  "cells": [
    {
      "cell_type": "code",
      "metadata": {
        "id": "FCEwW_kFFhU0",
        "colab_type": "code",
        "colab": {}
      },
      "source": [
        "##### Histograma #####\n",
        "\n",
        "# Um histograma é um modelo de gráfico que representa uma distribuição de frequências \n",
        "# através de um agrupamento de classes, de forma que se pode contabilizar as ocorrências dos \n",
        "# dados em cada classe. \n",
        "\n",
        "# Possibilita visualizar a distribuição de medidas, a dispersão, simetria dos dados e tendências centrais.\n",
        "\n",
        "# Os conceitos de Frequência Absoluta e Frequência Relativa são importantes na construção de um histograma. \n",
        "\n",
        "# Por frequência absoluta, entende-se o número de observações correspondente a cada classe. \n",
        "\n",
        "# A frequência relativa, por sua vez, diz respeito ao quociente entre a frequência absoluta da classe \n",
        "# correspondente e a soma das frequências absolutas. \n",
        "\n",
        "# A soma das áreas de todos os retângulos do histograma deve ser igual a 1.\n",
        "\n",
        "# Como fazer um histograma manualmente?\n",
        "\n",
        "# 1- Ordenar os valores\n",
        "# 2- Encontrar a amplitude total: A = xmax − xmin. Assim, os intervalos devem cobrir uma faixa de, no mínimo, o valor da amplitude.\n",
        "# 3- Estimar o número de classes: 2k ≤ n. Sendo que n é igual a raiz quadrada do número total de observações.\n",
        "# 4- Estimar o tamanho de cada intervalo de classe: C = A/k\n",
        "# 5- Contar o número de observações que caem em cada intervalo de classe (subintervalo), frequência.\n",
        "# 6- Determinar a frequência relativa do intervalo: Frequência relativa = frequência/total de observações.\n",
        "# 7- Construir o gráfico.\n",
        "\n",
        "# Exemplo: Os seguintes dados representam o número de acidentes diários em um complexo industrial \n",
        "# (colocados em ordem crescente), durante o período de 50 dias. Represente o histograma desses dados.\n",
        "\n",
        "dados = c(18, 20, 20, 21, 22, 24, 25, 25, 26, 27, 29, 29, \n",
        "          30, 30, 31, 31, 32, 33, 34, 35, 36, 36, 37, 37, \n",
        "          37, 37, 38, 38, 38, 40, 41, 43, 44, 44, 45, 45, \n",
        "          45, 46, 47, 48, 49, 50, 51, 53, 54, 54, 56, 58, 62, 65)\n",
        "\n",
        "hist(dados, main = \"Número de Acidentes Diários\", xlab = \"Acidentes\", ylab = \"Frequência\")\n",
        "hist(dados, main = \"Número de Acidentes Diários\", xlab = \"Acidentes\", ylab = \"Frequência\", breaks = 6)\n",
        "hist(dados, main = \"Número de Acidentes Diários\", xlab = \"Acidentes\", ylab = \"Frequência\", breaks = 5)\n",
        "?hist\n"
      ],
      "execution_count": 0,
      "outputs": []
    }
  ]
}