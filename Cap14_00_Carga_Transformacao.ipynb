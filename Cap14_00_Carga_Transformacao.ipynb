{
  "nbformat": 4,
  "nbformat_minor": 0,
  "metadata": {
    "colab": {
      "name": "Cap14-00-Carga-Transformacao.ipynb",
      "provenance": []
    },
    "kernelspec": {
      "name": "python3",
      "display_name": "Python 3"
    }
  },
  "cells": [
    {
      "cell_type": "code",
      "metadata": {
        "id": "Jn0gntLpClnn",
        "colab_type": "code",
        "colab": {}
      },
      "source": [
        "# activate R magic\n",
        "%load_ext rpy2.ipython"
      ],
      "execution_count": 0,
      "outputs": []
    },
    {
      "cell_type": "markdown",
      "metadata": {
        "id": "T5cspBDUNzbY",
        "colab_type": "text"
      },
      "source": [
        "# Coleta e Transformação de Dados\n",
        "\n",
        "### Este código contém comandos para filtrar e transformar os dados de aluguel de bikes do nosso dataset."
      ]
    },
    {
      "cell_type": "code",
      "metadata": {
        "id": "9MQbk9sJD9Xw",
        "colab_type": "code",
        "colab": {}
      },
      "source": [
        "%%R\n",
        "# Variável que controla a execução do script\n",
        "Azure <- FALSE\n",
        "\n",
        "# Execução de acordo com o valor da variável Azure\n",
        "if(Azure){\n",
        "  source(\"Tools.R\")\n",
        "  bikes <- maml.mapInputPort(1)\n",
        "  bikes$dteday <- set.asPOSIXct(bikes)\n",
        "}else{\n",
        "  source(\"Tools.R\")\n",
        "  bikes <- read.csv(\"bikes.csv\", sep = \",\", header = TRUE, stringsAsFactors = FALSE )\n",
        "\n",
        "----------------------------------------------------------------------------------------\n",
        "\n",
        "  # Selecionar as variáveis mais relevantesque serão usadas\n",
        "    cols <- c(\"dteday\", \"mnth\", \"hr\", \"holiday\",\n",
        "              \"workingday\", \"weathersit\", \"temp\",\n",
        "              \"hum\", \"windspeed\", \"cnt\")\n",
        "  \n",
        "----------------------------------------------------------------------------------------\n",
        "\n",
        "  # Criando um subset dos dados\n",
        "  bikes <- bikes[, cols]\n",
        "  \n",
        "  # Transformar o objeto de data - Esta linha gera dois valores NA\n",
        "  bikes$dteday <- char.toPOSIXct(bikes)\n",
        "  \n",
        "  # Esta linha abaixo corrige\n",
        "  bikes <- na.omit(bikes)\n",
        "\n",
        "   # Normalizar as variaveis preditoras numericas \n",
        "  cols <- c(\"temp\", \"hum\", \"windspeed\") \n",
        "  bikes[, cols] <- scale(bikes[, cols])  \n",
        "}"
      ],
      "execution_count": 0,
      "outputs": []
    },
    {
      "cell_type": "code",
      "metadata": {
        "id": "1vqFHr54D89E",
        "colab_type": "code",
        "colab": {
          "base_uri": "https://localhost:8080/",
          "height": 212
        },
        "outputId": "a4e8c4c7-9f79-4468-eef9-ad70acc5da5c"
      },
      "source": [
        "%%R\n",
        "#?scale\n",
        "str(bikes)"
      ],
      "execution_count": 6,
      "outputs": [
        {
          "output_type": "stream",
          "text": [
            "'data.frame':\t17379 obs. of  10 variables:\n",
            " $ dteday    : POSIXct, format: \"2011-01-01 00:00:00\" \"2011-01-01 01:00:00\" ...\n",
            " $ mnth      : int  1 1 1 1 1 1 1 1 1 1 ...\n",
            " $ hr        : int  0 1 2 3 4 5 6 7 8 9 ...\n",
            " $ holiday   : int  0 0 0 0 0 0 0 0 0 0 ...\n",
            " $ workingday: int  0 0 0 0 0 0 0 0 0 0 ...\n",
            " $ weathersit: int  1 1 1 1 1 2 1 1 1 1 ...\n",
            " $ temp      : num  -1.33 -1.44 -1.44 -1.33 -1.33 ...\n",
            " $ hum       : num  0.947 0.896 0.896 0.636 0.636 ...\n",
            " $ windspeed : num  -1.55 -1.55 -1.55 -1.55 -1.55 ...\n",
            " $ cnt       : int  16 40 32 13 1 1 2 3 8 14 ...\n"
          ],
          "name": "stdout"
        }
      ]
    },
    {
      "cell_type": "code",
      "metadata": {
        "id": "oyCKBwEgD86R",
        "colab_type": "code",
        "colab": {}
      },
      "source": [
        "%%R\n",
        "# Criar uma nova variável para indicar dia da semana (workday)\n",
        "bikes$isWorking <- ifelse(bikes$workingday & !bikes$holiday, 1, 0)  \n",
        "# Se as duas condições forem verdadeiras = 1, caso contrário 0. Cria a nova variável bikes$isWorking"
      ],
      "execution_count": 0,
      "outputs": []
    },
    {
      "cell_type": "code",
      "metadata": {
        "id": "2OTf_n3XD83X",
        "colab_type": "code",
        "colab": {}
      },
      "source": [
        "%%R\n",
        "# Adicionar uma coluna com a quantidade de meses, o que vai ajudar a criar o modelo\n",
        "bikes <- month.count(bikes)"
      ],
      "execution_count": 0,
      "outputs": []
    },
    {
      "cell_type": "code",
      "metadata": {
        "id": "-p3HDxYsD80g",
        "colab_type": "code",
        "colab": {}
      },
      "source": [
        "%%R\n",
        "# Criar um fator ordenado para o dia da semana, comecando por segunda-feira\n",
        "# Neste fator é convertido para ordenado numérico para ser compativel com os tipos de dados do Azure ML\n",
        "bikes$dayWeek <- as.factor(weekdays(bikes$dteday))\n",
        "# Extrair weekdays da coluna dteday e converter para fator. Criar nova variável $dayweek\n"
      ],
      "execution_count": 0,
      "outputs": []
    },
    {
      "cell_type": "code",
      "metadata": {
        "id": "2uSTxR6-D8xs",
        "colab_type": "code",
        "colab": {
          "base_uri": "https://localhost:8080/",
          "height": 35
        },
        "outputId": "91013b14-0f0b-4813-f46f-431286dc4736"
      },
      "source": [
        "%%R\n",
        "# ==> Analise o dataframe bikes. \n",
        "# Se os nomes dos dias da semana estiverem em português na coluna bikes$dayWeek, \n",
        "# execute o Bloco1 abaixo, caso contrátio, execute o Bloco2 com os nomes em inglês. \n",
        "# Execute um bloco ou o outro.\n",
        "str(bikes$dayWeek)"
      ],
      "execution_count": 14,
      "outputs": [
        {
          "output_type": "stream",
          "text": [
            " Factor w/ 7 levels \"Friday\",\"Monday\",..: 3 3 3 3 3 3 3 3 3 3 ...\n"
          ],
          "name": "stdout"
        }
      ]
    },
    {
      "cell_type": "markdown",
      "metadata": {
        "id": "CqA0go0Xr5qR",
        "colab_type": "text"
      },
      "source": [
        "---"
      ]
    },
    {
      "cell_type": "markdown",
      "metadata": {
        "id": "3NIbCs-1rpH7",
        "colab_type": "text"
      },
      "source": [
        "# Se o bloco de dias da semana estiver em Português"
      ]
    },
    {
      "cell_type": "code",
      "metadata": {
        "id": "b6DY04_2D8uy",
        "colab_type": "code",
        "colab": {}
      },
      "source": [
        "%%R\n",
        "# Bloco1\n",
        "# Se o seu sistema operacional estiver em portugês, execute o comando abaixo.\n",
        "bikes$dayWeek <- as.numeric(ordered(bikes$dayWeek, \n",
        "                                    levels = c(\"segunda-feira\", \n",
        "                                               \"terça-feira\", \n",
        "                                               \"quarta-feira\", \n",
        "                                               \"quinta-feira\", \n",
        "                                               \"sexta-feira\", \n",
        "                                               \"sábado\", \n",
        "                                               \"domingo\")))"
      ],
      "execution_count": 0,
      "outputs": []
    },
    {
      "cell_type": "markdown",
      "metadata": {
        "id": "yyEzXuadryMl",
        "colab_type": "text"
      },
      "source": [
        "# Se o bloco de dias da semana estiver em Inglês"
      ]
    },
    {
      "cell_type": "code",
      "metadata": {
        "id": "vo35LbIfD8sH",
        "colab_type": "code",
        "colab": {}
      },
      "source": [
        "%%R\n",
        "# Bloco2\n",
        "# Se o seu sistema operacional estiver em inglês, execute o comando abaixo.\n",
        "bikes$dayWeek <- as.numeric(ordered(bikes$dayWeek, \n",
        "                                    levels = c(\"Monday\", \n",
        "                                               \"Tuesday\", \n",
        "                                               \"Wednesday\", \n",
        "                                               \"Thursday\", \n",
        "                                               \"Friday\", \n",
        "                                               \"Saturday\", \n",
        "                                               \"Sunday\")))\n"
      ],
      "execution_count": 0,
      "outputs": []
    },
    {
      "cell_type": "markdown",
      "metadata": {
        "id": "mizVeYFmr3rC",
        "colab_type": "text"
      },
      "source": [
        "---"
      ]
    },
    {
      "cell_type": "code",
      "metadata": {
        "id": "IoMj29nlPT3X",
        "colab_type": "code",
        "colab": {
          "base_uri": "https://localhost:8080/",
          "height": 35
        },
        "outputId": "2062fc34-629a-4b83-d429-147d86d3b066"
      },
      "source": [
        "%%R\n",
        "# Agora os dias da semana devem estar como valores numéricos\n",
        "# Se estiverem como valores NA, volte e verifique se você seguiu as instruções acima.\n",
        "str(bikes$dayWeek)\n"
      ],
      "execution_count": 17,
      "outputs": [
        {
          "output_type": "stream",
          "text": [
            " num [1:17379] NA NA NA NA NA NA NA NA NA NA ...\n"
          ],
          "name": "stdout"
        }
      ]
    },
    {
      "cell_type": "code",
      "metadata": {
        "id": "kGeSdhhwqa5A",
        "colab_type": "code",
        "colab": {
          "base_uri": "https://localhost:8080/",
          "height": 266
        },
        "outputId": "b4efbe2c-2b07-4e6a-9b19-99132adfd69c"
      },
      "source": [
        "%%R\n",
        "str(bikes)"
      ],
      "execution_count": 18,
      "outputs": [
        {
          "output_type": "stream",
          "text": [
            "'data.frame':\t17379 obs. of  13 variables:\n",
            " $ dteday    : POSIXct, format: \"2011-01-01 00:00:00\" \"2011-01-01 01:00:00\" ...\n",
            " $ mnth      : int  1 1 1 1 1 1 1 1 1 1 ...\n",
            " $ hr        : int  0 1 2 3 4 5 6 7 8 9 ...\n",
            " $ holiday   : int  0 0 0 0 0 0 0 0 0 0 ...\n",
            " $ workingday: int  0 0 0 0 0 0 0 0 0 0 ...\n",
            " $ weathersit: int  1 1 1 1 1 2 1 1 1 1 ...\n",
            " $ temp      : num  -1.33 -1.44 -1.44 -1.33 -1.33 ...\n",
            " $ hum       : num  0.947 0.896 0.896 0.636 0.636 ...\n",
            " $ windspeed : num  -1.55 -1.55 -1.55 -1.55 -1.55 ...\n",
            " $ cnt       : int  16 40 32 13 1 1 2 3 8 14 ...\n",
            " $ isWorking : num  0 0 0 0 0 0 0 0 0 0 ...\n",
            " $ monthCount: num  1 1 1 1 1 1 1 1 1 1 ...\n",
            " $ dayWeek   : num  NA NA NA NA NA NA NA NA NA NA ...\n"
          ],
          "name": "stdout"
        }
      ]
    },
    {
      "cell_type": "markdown",
      "metadata": {
        "id": "ENx98v3mtipa",
        "colab_type": "text"
      },
      "source": [
        "# Feature Engineering | Engenharia de Atributos\n",
        "## Adicionando novas variáveis "
      ]
    },
    {
      "cell_type": "code",
      "metadata": {
        "id": "J3oa4SOcPY6s",
        "colab_type": "code",
        "colab": {}
      },
      "source": [
        "%%R\n",
        "# Adiciona uma variável com valores únicos para o horário do dia em dias de semana e dias de fim de semana\n",
        "# Com isso diferenciamos as horas dos dias de semana, das horas em dias de fim de semana\n",
        "bikes$workTime <- ifelse(bikes$isWorking, bikes$hr, bikes$hr + 24) "
      ],
      "execution_count": 0,
      "outputs": []
    },
    {
      "cell_type": "code",
      "metadata": {
        "id": "zO4pxyJAPbWy",
        "colab_type": "code",
        "colab": {}
      },
      "source": [
        "%%R\n",
        "# Transforma os valores de hora na madrugada, quando a demanda por bibicletas é praticamente nula \n",
        "bikes$xformHr <- ifelse(bikes$hr > 4, bikes$hr - 5, bikes$hr + 19)"
      ],
      "execution_count": 0,
      "outputs": []
    },
    {
      "cell_type": "code",
      "metadata": {
        "id": "GYmK3M5cPbTC",
        "colab_type": "code",
        "colab": {}
      },
      "source": [
        "%%R\n",
        "# Adiciona uma variável com valores únicos para o horário do dia para dias de semana e dias de fim de semana\n",
        "# Considerando horas da madrugada\n",
        "bikes$xformWorkHr <- ifelse(bikes$isWorking, bikes$xformHr, bikes$xformHr + 24) "
      ],
      "execution_count": 0,
      "outputs": []
    },
    {
      "cell_type": "markdown",
      "metadata": {
        "id": "Q7t9Qj0gqnvx",
        "colab_type": "text"
      },
      "source": [
        "# O trabalho que fizemos até aqui também é chamado de Feature Engineering ou Engenharia de Atributos"
      ]
    },
    {
      "cell_type": "code",
      "metadata": {
        "id": "DIm5va4ND8o7",
        "colab_type": "code",
        "colab": {
          "base_uri": "https://localhost:8080/",
          "height": 319
        },
        "outputId": "8f760865-7ca4-409e-a9ad-59cb2918de79"
      },
      "source": [
        "%%R\n",
        " str(bikes)\n",
        "# View(bikes)\n",
        "\n",
        "\n",
        "# Gera saída no Azure ML\n",
        "if(Azure) maml.mapOutputPort('bikes')"
      ],
      "execution_count": 26,
      "outputs": [
        {
          "output_type": "stream",
          "text": [
            "'data.frame':\t17379 obs. of  16 variables:\n",
            " $ dteday     : POSIXct, format: \"2011-01-01 00:00:00\" \"2011-01-01 01:00:00\" ...\n",
            " $ mnth       : int  1 1 1 1 1 1 1 1 1 1 ...\n",
            " $ hr         : int  0 1 2 3 4 5 6 7 8 9 ...\n",
            " $ holiday    : int  0 0 0 0 0 0 0 0 0 0 ...\n",
            " $ workingday : int  0 0 0 0 0 0 0 0 0 0 ...\n",
            " $ weathersit : int  1 1 1 1 1 2 1 1 1 1 ...\n",
            " $ temp       : num  -1.33 -1.44 -1.44 -1.33 -1.33 ...\n",
            " $ hum        : num  0.947 0.896 0.896 0.636 0.636 ...\n",
            " $ windspeed  : num  -1.55 -1.55 -1.55 -1.55 -1.55 ...\n",
            " $ cnt        : int  16 40 32 13 1 1 2 3 8 14 ...\n",
            " $ isWorking  : num  0 0 0 0 0 0 0 0 0 0 ...\n",
            " $ monthCount : num  1 1 1 1 1 1 1 1 1 1 ...\n",
            " $ dayWeek    : num  NA NA NA NA NA NA NA NA NA NA ...\n",
            " $ workTime   : num  24 25 26 27 28 29 30 31 32 33 ...\n",
            " $ xformHr    : num  19 20 21 22 23 0 1 2 3 4 ...\n",
            " $ xformWorkHr: num  43 44 45 46 47 24 25 26 27 28 ...\n"
          ],
          "name": "stdout"
        }
      ]
    }
  ]
}