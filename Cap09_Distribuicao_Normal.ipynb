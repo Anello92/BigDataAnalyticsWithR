{
  "nbformat": 4,
  "nbformat_minor": 0,
  "metadata": {
    "colab": {
      "name": "Cap09-Distribuicao-Normal.ipynb",
      "provenance": []
    },
    "kernelspec": {
      "name": "python3",
      "display_name": "Python 3"
    }
  },
  "cells": [
    {
      "cell_type": "code",
      "metadata": {
        "id": "FCEwW_kFFhU0",
        "colab_type": "code",
        "colab": {}
      },
      "source": [
        "# Distribuição Normal\n",
        "\n",
        "# A Distribuição Normal, ou Gaussiana, é a mais importante distribuição contínua. \n",
        "# Isso por conta de vários fatores, entre eles, o teorema central do limite, o qual é um resultado essencial \n",
        "# em aplicações práticas e teóricas, pois garante que, mesmo que os dados não sejam distribuídos segundo uma normal, \n",
        "# a média dos dados converge para uma distribuição normal conforme o número de dados aumenta.\n",
        "\n",
        "# O R inclui funcionalidades para operações com distribuições de probabilidades. \n",
        "# Para cada distribuição há 4 operações básicas indicadas pelas letras:\n",
        "\n",
        "# d: calcula a densidade de probabilidade f(x) no ponto\n",
        "# p: calcula a função de probabilidade acumulada F(x) no ponto\n",
        "# q: calcula o quantil correspondente a uma dada probabilidade\n",
        "# r: retira uma amostra da distribuição\n",
        "\n",
        "# Para utlizar as funções combina-se uma das letras acima com uma abreviatura do nome da distribuição. \n",
        "# Por exemplo, para calcular probabilidades usamos: pnorm para normal, pexp para exponencial, \n",
        "# pbinom para binomial, ppois para Poisson e assim por diante.\n",
        "\n",
        "# x <- rnorm(n, mean, sd)\n",
        "# Onde n é o tamanho da amostra e mean e sd são parâmetros opcionais relacionados à média e desvio padrão, \n",
        "# respectivamente.\n",
        "\n",
        "# Distribuição Normal\n",
        "?rnorm\n",
        "x <- rnorm(100)\n",
        "hist(x)\n",
        "\n",
        "# Densidade\n",
        "# # Observe que o gráfico gerado assemelha-se a uma Gaussiana e não apresenta assimentria. \n",
        "# Quando o gráfico da distribuição possui tal forma, há grandes chances de se tratar de uma distribuição normal.\n",
        "x <- seq(-6, 6, by=0.01)\n",
        "y <- dnorm(x)\n",
        "plot(x, y, type=\"l\")\n"
      ],
      "execution_count": 0,
      "outputs": []
    }
  ]
}