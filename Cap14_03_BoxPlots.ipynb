{
  "nbformat": 4,
  "nbformat_minor": 0,
  "metadata": {
    "colab": {
      "name": "Cap14-03-BoxPlots.ipynb",
      "provenance": []
    },
    "kernelspec": {
      "name": "python3",
      "display_name": "Python 3"
    }
  },
  "cells": [
    {
      "cell_type": "code",
      "metadata": {
        "id": "1QJMDtC9DFnl",
        "colab_type": "code",
        "colab": {}
      },
      "source": [
        "# activate R magic\n",
        "%load_ext rpy2.ipython"
      ],
      "execution_count": 0,
      "outputs": []
    },
    {
      "cell_type": "markdown",
      "metadata": {
        "id": "UD-K-h0qRrLy",
        "colab_type": "text"
      },
      "source": [
        "# Analisando BoxPlots\n",
        "\n",
        "## Este código contém comandos para análise de variáveis usando BoxPlots"
      ]
    },
    {
      "cell_type": "code",
      "metadata": {
        "id": "Uc0OOgtcENEU",
        "colab_type": "code",
        "colab": {}
      },
      "source": [
        "%%R\n",
        "# Variável que controla a execução do script\n",
        "Azure <- FALSE\n",
        "\n",
        "if(Azure){\n",
        "  source(\"src/Tools.R\")\n",
        "  Bikes <- maml.mapInputPort(1)\n",
        "  Bikes$dteday <- set.asPOSIXct(Bikes)\n",
        "}else{\n",
        "   bikes <- read.csv(\"bikes.csv\", sep = \",\", header = TRUE, stringsAsFactors = FALSE )\n",
        " }\n"
      ],
      "execution_count": 0,
      "outputs": []
    },
    {
      "cell_type": "code",
      "metadata": {
        "id": "fWGoB7UDENBd",
        "colab_type": "code",
        "colab": {}
      },
      "source": [
        "%%R\n",
        "# Convertendo a variável dayWeek para fator ordenado e plotando em ordem de tempo\n",
        "bikes$dayWeek <- fact.conv(bikes$dayWeek)"
      ],
      "execution_count": 0,
      "outputs": []
    },
    {
      "cell_type": "code",
      "metadata": {
        "id": "BW25gTPPEM-x",
        "colab_type": "code",
        "colab": {}
      },
      "source": [
        "%%R\n",
        "# Demanda de bikes x potenciais variáveis preditoras\n",
        "labels <- list(\"Boxplots - Demanda de Bikes por Hora\",\n",
        "               \"Boxplots - Demanda de Bikes por Estação\",\n",
        "               \"Boxplots - Demanda de Bikes por Dia Útil\",\n",
        "               \"Boxplots - Demanda de Bikes por Dia da Semana\")"
      ],
      "execution_count": 0,
      "outputs": []
    },
    {
      "cell_type": "code",
      "metadata": {
        "id": "5yvHEv23EM7z",
        "colab_type": "code",
        "colab": {}
      },
      "source": [
        "%%R\n",
        "xAxis <- list(\"hr\", \"weathersit\", \"isWorking\", \"dayWeek\")"
      ],
      "execution_count": 0,
      "outputs": []
    },
    {
      "cell_type": "code",
      "metadata": {
        "id": "hJhWoYMvEM4c",
        "colab_type": "code",
        "colab": {}
      },
      "source": [
        "%%R\n",
        "# Função para criar os boxplots\n",
        "plot.boxes  <- function(X, label){ \n",
        "  ggplot(bikes, aes_string(x = X, y = \"cnt\", group = X)) + \n",
        "    geom_boxplot( ) + \n",
        "    ggtitle(label) +\n",
        "    theme(text = element_text(size = 18)) \n",
        "  }\n",
        "\n",
        "Map(plot.boxes, xAxis, labels)\n"
      ],
      "execution_count": 0,
      "outputs": []
    },
    {
      "cell_type": "code",
      "metadata": {
        "id": "FDiWgdRoEM1f",
        "colab_type": "code",
        "colab": {}
      },
      "source": [
        "%%R\n",
        "# Gera saída no Azure ML\n",
        "if(Azure) maml.mapOutputPort('bikes')"
      ],
      "execution_count": 0,
      "outputs": []
    }
  ]
}