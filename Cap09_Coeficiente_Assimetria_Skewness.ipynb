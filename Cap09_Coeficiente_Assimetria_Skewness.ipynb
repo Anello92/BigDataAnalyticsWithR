{
  "nbformat": 4,
  "nbformat_minor": 0,
  "metadata": {
    "colab": {
      "name": "Cap09-Coeficiente-Assimetria-Skewness.ipynb",
      "provenance": []
    },
    "kernelspec": {
      "name": "python3",
      "display_name": "Python 3"
    }
  },
  "cells": [
    {
      "cell_type": "code",
      "metadata": {
        "id": "FCEwW_kFFhU0",
        "colab_type": "code",
        "colab": {}
      },
      "source": [
        "# Coeficiente de Assimetria (Skewness)\n",
        "\n",
        "# Obs: Caso tenha problemas com a acentuação, consulte este link:\n",
        "# https://support.rstudio.com/hc/en-us/articles/200532197-Character-Encoding\n",
        "\n",
        "# Configurando o diretório de trabalho\n",
        "# Coloque entre aspas o diretório de trabalho que você está usando no seu computador\n",
        "# Não use diretórios com espaço no nome\n",
        "setwd(\"C:/FCD/BigDataRAzure/Cap09\")\n",
        "getwd()\n",
        "\n",
        "\n",
        "##### Coeficiente de Assimetria #####\n",
        "\n",
        "# O coeficiente de assimetria é o que permite dizer se uma determinada distribuição é assimétrica ou não.\n",
        "\n",
        "# Exemplo: Os seguintes dados representam o número de acidentes diários em um complexo industrial \n",
        "# (colocados em ordem crescente), durante o período de 50 dias. Represente o histograma desses dados.\n",
        "\n",
        "dados = c(18, 20, 20, 21, 22, 24, 25, 25, 26, 27, 29, 29, \n",
        "          30, 30, 31, 31, 32, 33, 34, 35, 36, 36, 37, 37, \n",
        "          37, 37, 38, 38, 38, 40, 41, 43, 44, 44, 45, 45, \n",
        "          45, 46, 47, 48, 49, 50, 51, 53, 54, 54, 56, 58, 62, 65)\n",
        "\n",
        "hist(dados, main = \"Número de Acidentes Diários\", xlab = \"Acidentes\", ylab = \"Frequência\")\n",
        "\n",
        "mean(dados)\n",
        "sd(dados)\n",
        "median(dados)\n",
        "\n",
        "library(moments)\n",
        "?skewness\n",
        "SK = skewness(dados)\n",
        "print(SK)\n",
        "\n",
        "# Sk ≈ 0: dados simétricos. Tanto a cauda do lado direito quanto a do lado esquerdo da função densidade de probabilidade são iguais.\n",
        "# Sk < 0: assimetria negativa. A cauda do lado esquerdo da função densidade de probabilidade é maior que a do lado direito.\n",
        "# Sk > 0: assimetria positiva. A cauda do lado direito da função densidade de probabilidade é maior que a do lado esquerdo.\n",
        "\n",
        "# O coeficiente de assimetria é 0.2549279. \n",
        "# Como o coeficiente de assimetria é maior que 0, diz-se que a curva apresenta assimetria positiva \n",
        "# e a cauda do lado direito da função densidade de probabilidade é maior que no lado esquerdo. \n",
        "# Ao observar também o Histograma, percebe-se que há maior densidade de dados do lado direito. \n",
        "\n",
        "# Outro exemplo\n",
        "set.seed(1234)\n",
        "x = rnorm(1000)\n",
        "hist(x)\n",
        "skewness(x)\n",
        "\n",
        "\n",
        "\n",
        "\n",
        "\n"
      ],
      "execution_count": 0,
      "outputs": []
    }
  ]
}