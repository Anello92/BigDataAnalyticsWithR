{
  "nbformat": 4,
  "nbformat_minor": 0,
  "metadata": {
    "colab": {
      "name": "Cap07-Plyr-Ddply-Split-Apply-Combine.ipynb",
      "provenance": []
    },
    "kernelspec": {
      "name": "python3",
      "display_name": "Python 3"
    },
    "accelerator": "GPU"
  },
  "cells": [
    {
      "cell_type": "code",
      "metadata": {
        "id": "2h-2I4CviFCR",
        "colab_type": "code",
        "colab": {}
      },
      "source": [
        "# activate R magic\n",
        "%load_ext rpy2.ipython"
      ],
      "execution_count": 0,
      "outputs": []
    },
    {
      "cell_type": "markdown",
      "metadata": {
        "id": "ePBoCqqLEs23",
        "colab_type": "text"
      },
      "source": [
        "#**Split-Apply-Combine** - plyr"
      ]
    },
    {
      "cell_type": "code",
      "metadata": {
        "id": "notIAmigE5b6",
        "colab_type": "code",
        "colab": {}
      },
      "source": [
        "%%R\n",
        "# Instalando os pacotes\n",
        "install.packages(\"plyr\")\n",
        "install.packages(\"gapminder\")\n",
        "install.packages(\"dplyr\")\n",
        "\n",
        "library(plyr)\n",
        "library(dplyr)\n",
        "library(gapminder) \n",
        "# é um conjunto de dados sobre os países, renda percapita, população, expectativa de vida - Muito interessante\n",
        "# https://www.gapminder.org"
      ],
      "execution_count": 0,
      "outputs": []
    },
    {
      "cell_type": "markdown",
      "metadata": {
        "id": "S9NqMUY1HioK",
        "colab_type": "text"
      },
      "source": [
        "#**ddply()** - {plyr}\n",
        "## Split data frame, apply function and return results in a data frame."
      ]
    },
    {
      "cell_type": "code",
      "metadata": {
        "id": "TifAXTc1FGvL",
        "colab_type": "code",
        "colab": {}
      },
      "source": [
        "%%R\n",
        "?ddply #Split\n",
        "df <- ddply(gapminder, #pegamos o dataset\n",
        "            ~ continent, #escolhemos a variável a sumarizar\n",
        "            summarize, #aplicamnos a sumarização\n",
        "            max_le = max(lifeExp)) #retornando valor máximo de expectativa de vida"
      ],
      "execution_count": 0,
      "outputs": []
    },
    {
      "cell_type": "code",
      "metadata": {
        "id": "71AmHYdjIS_f",
        "colab_type": "code",
        "outputId": "91ec41ec-af31-4b26-ed45-9a227c8fbaef",
        "colab": {
          "base_uri": "https://localhost:8080/",
          "height": 70
        }
      },
      "source": [
        "%%R\n",
        "str(df)"
      ],
      "execution_count": 5,
      "outputs": [
        {
          "output_type": "stream",
          "text": [
            "'data.frame':\t5 obs. of  2 variables:\n",
            " $ continent: Factor w/ 5 levels \"Africa\",\"Americas\",..: 1 2 3 4 5\n",
            " $ max_le   : num  76.4 80.7 82.6 81.8 81.2\n"
          ],
          "name": "stdout"
        }
      ]
    },
    {
      "cell_type": "code",
      "metadata": {
        "id": "T9Tdb_P4Ic9N",
        "colab_type": "code",
        "outputId": "5275f2bc-5bb7-41a7-9edd-568ca0e4ddb7",
        "colab": {
          "base_uri": "https://localhost:8080/",
          "height": 87
        }
      },
      "source": [
        "%%R\n",
        "glimpse(df)"
      ],
      "execution_count": 6,
      "outputs": [
        {
          "output_type": "stream",
          "text": [
            "Rows: 5\n",
            "Columns: 2\n",
            "$ continent <fct> Africa, Americas, Asia, Europe, Oceania\n",
            "$ max_le    <dbl> 76.442, 80.653, 82.603, 81.757, 81.235\n"
          ],
          "name": "stdout"
        }
      ]
    },
    {
      "cell_type": "code",
      "metadata": {
        "id": "iHrsjtYqIS6Z",
        "colab_type": "code",
        "outputId": "115037f3-8722-4dc8-a6f1-cdf68c2316f6",
        "colab": {
          "base_uri": "https://localhost:8080/",
          "height": 123
        }
      },
      "source": [
        "%%R\n",
        "head(df)"
      ],
      "execution_count": 7,
      "outputs": [
        {
          "output_type": "stream",
          "text": [
            "  continent max_le\n",
            "1    Africa 76.442\n",
            "2  Americas 80.653\n",
            "3      Asia 82.603\n",
            "4    Europe 81.757\n",
            "5   Oceania 81.235\n"
          ],
          "name": "stdout"
        }
      ]
    },
    {
      "cell_type": "code",
      "metadata": {
        "id": "V2VvFYXIISxh",
        "colab_type": "code",
        "outputId": "ccf7e5b8-2571-43de-ea50-886e5fdfcbbf",
        "colab": {
          "base_uri": "https://localhost:8080/",
          "height": 34
        }
      },
      "source": [
        "%%R\n",
        "levels(df$continent) #temos cinco continentes"
      ],
      "execution_count": 8,
      "outputs": [
        {
          "output_type": "stream",
          "text": [
            "[1] \"Africa\"   \"Americas\" \"Asia\"     \"Europe\"   \"Oceania\" \n"
          ],
          "name": "stdout"
        }
      ]
    },
    {
      "cell_type": "markdown",
      "metadata": {
        "id": "-OSF7_86uu0V",
        "colab_type": "text"
      },
      "source": [
        "#**length(unique(country))**\n"
      ]
    },
    {
      "cell_type": "code",
      "metadata": {
        "id": "NaTx2MPYFGzV",
        "colab_type": "code",
        "outputId": "80938720-19ba-407d-dc72-8bae1d9bf078",
        "colab": {
          "base_uri": "https://localhost:8080/",
          "height": 123
        }
      },
      "source": [
        "%%R\n",
        "ddply(gapminder, #dataset gapminder\n",
        "      ~ continent, #variável continente\n",
        "      summarize, #sumarizar\n",
        "      n_uniq_countries = length(unique(country)))#retornar a quantidade única de países para cada continente"
      ],
      "execution_count": 9,
      "outputs": [
        {
          "output_type": "stream",
          "text": [
            "  continent n_uniq_countries\n",
            "1    Africa               52\n",
            "2  Americas               25\n",
            "3      Asia               33\n",
            "4    Europe               30\n",
            "5   Oceania                2\n"
          ],
          "name": "stdout"
        }
      ]
    },
    {
      "cell_type": "code",
      "metadata": {
        "id": "uY1Slz-GFG23",
        "colab_type": "code",
        "outputId": "4106b5f6-e6f9-41d5-ecd8-e91e1f599176",
        "colab": {
          "base_uri": "https://localhost:8080/",
          "height": 123
        }
      },
      "source": [
        "%%R\n",
        "ddply(gapminder, \n",
        "      ~ continent, \n",
        "      function(x) c(n_uniq_countries = length(unique(x$country))))\n",
        "#criando própria função, gerando mesmo resultado anterior"
      ],
      "execution_count": 10,
      "outputs": [
        {
          "output_type": "stream",
          "text": [
            "  continent n_uniq_countries\n",
            "1    Africa               52\n",
            "2  Americas               25\n",
            "3      Asia               33\n",
            "4    Europe               30\n",
            "5   Oceania                2\n"
          ],
          "name": "stdout"
        }
      ]
    },
    {
      "cell_type": "code",
      "metadata": {
        "id": "JA3pS8vIFG6Y",
        "colab_type": "code",
        "outputId": "c87b0496-f437-4334-f84b-17933d9fdfae",
        "colab": {
          "base_uri": "https://localhost:8080/",
          "height": 123
        }
      },
      "source": [
        "%%R\n",
        "ddply(gapminder,#dataset\n",
        "      ~ continent, #variável continenete a agrupar\n",
        "      summarize,#sumarizar\n",
        "      min = min(lifeExp), #para cada continente retornar valor minimo de lifeExp\n",
        "      max = max(lifeExp), #para cada continente retornar valor mámixo de lifeExp\n",
        "      median = median(gdpPercap)) #para cada continente retoranar mediana de gdpPercap"
      ],
      "execution_count": 11,
      "outputs": [
        {
          "output_type": "stream",
          "text": [
            "  continent    min    max    median\n",
            "1    Africa 23.599 76.442  1192.138\n",
            "2  Americas 37.579 80.653  5465.510\n",
            "3      Asia 28.801 82.603  2646.787\n",
            "4    Europe 43.585 81.757 12081.749\n",
            "5   Oceania 69.120 81.235 17983.304\n"
          ],
          "name": "stdout"
        }
      ]
    },
    {
      "cell_type": "code",
      "metadata": {
        "id": "HrkBII5dFG9g",
        "colab_type": "code",
        "outputId": "fc68c455-2e28-4237-d333-5c1ee15815af",
        "colab": {
          "base_uri": "https://localhost:8080/",
          "height": 230
        }
      },
      "source": [
        "%%R\n",
        "# Usando um dataset do ggplot\n",
        "library(ggplot2)\n",
        "str(mpg) #dataset mpg vem junto com ggplot2"
      ],
      "execution_count": 21,
      "outputs": [
        {
          "output_type": "stream",
          "text": [
            "tibble [234 × 11] (S3: tbl_df/tbl/data.frame)\n",
            " $ manufacturer: chr [1:234] \"audi\" \"audi\" \"audi\" \"audi\" ...\n",
            " $ model       : chr [1:234] \"a4\" \"a4\" \"a4\" \"a4\" ...\n",
            " $ displ       : num [1:234] 1.8 1.8 2 2 2.8 2.8 3.1 1.8 1.8 2 ...\n",
            " $ year        : int [1:234] 1999 1999 2008 2008 1999 1999 2008 1999 1999 2008 ...\n",
            " $ cyl         : int [1:234] 4 4 4 4 6 6 6 4 4 4 ...\n",
            " $ trans       : chr [1:234] \"auto(l5)\" \"manual(m5)\" \"manual(m6)\" \"auto(av)\" ...\n",
            " $ drv         : chr [1:234] \"f\" \"f\" \"f\" \"f\" ...\n",
            " $ cty         : int [1:234] 18 21 20 21 16 18 18 18 16 20 ...\n",
            " $ hwy         : int [1:234] 29 29 31 30 26 26 27 26 25 28 ...\n",
            " $ fl          : chr [1:234] \"p\" \"p\" \"p\" \"p\" ...\n",
            " $ class       : chr [1:234] \"compact\" \"compact\" \"compact\" \"compact\" ...\n"
          ],
          "name": "stdout"
        }
      ]
    },
    {
      "cell_type": "code",
      "metadata": {
        "id": "lUNIo-xzTjYp",
        "colab_type": "code",
        "colab": {
          "base_uri": "https://localhost:8080/",
          "height": 247
        },
        "outputId": "8a2ac9a5-8c4a-4bce-8bf0-17029160944a"
      },
      "source": [
        "%%R\n",
        "glimpse(mpg)"
      ],
      "execution_count": 18,
      "outputs": [
        {
          "output_type": "stream",
          "text": [
            "Rows: 234\n",
            "Columns: 11\n",
            "$ manufacturer <chr> \"audi\", \"audi\", \"audi\", \"audi\", \"audi\", \"audi\", \"audi\", …\n",
            "$ model        <chr> \"a4\", \"a4\", \"a4\", \"a4\", \"a4\", \"a4\", \"a4\", \"a4 quattro\", …\n",
            "$ displ        <dbl> 1.8, 1.8, 2.0, 2.0, 2.8, 2.8, 3.1, 1.8, 1.8, 2.0, 2.0, 2…\n",
            "$ year         <int> 1999, 1999, 2008, 2008, 1999, 1999, 2008, 1999, 1999, 20…\n",
            "$ cyl          <int> 4, 4, 4, 4, 6, 6, 6, 4, 4, 4, 4, 6, 6, 6, 6, 6, 6, 8, 8,…\n",
            "$ trans        <chr> \"auto(l5)\", \"manual(m5)\", \"manual(m6)\", \"auto(av)\", \"aut…\n",
            "$ drv          <chr> \"f\", \"f\", \"f\", \"f\", \"f\", \"f\", \"f\", \"4\", \"4\", \"4\", \"4\", \"…\n",
            "$ cty          <int> 18, 21, 20, 21, 16, 18, 18, 18, 16, 20, 19, 15, 17, 17, …\n",
            "$ hwy          <int> 29, 29, 31, 30, 26, 26, 27, 26, 25, 28, 27, 25, 25, 25, …\n",
            "$ fl           <chr> \"p\", \"p\", \"p\", \"p\", \"p\", \"p\", \"p\", \"p\", \"p\", \"p\", \"p\", \"…\n",
            "$ class        <chr> \"compact\", \"compact\", \"compact\", \"compact\", \"compact\", \"…\n"
          ],
          "name": "stdout"
        }
      ]
    },
    {
      "cell_type": "code",
      "metadata": {
        "id": "4rGTQGJkFHBn",
        "colab_type": "code",
        "outputId": "3e1af9cf-2a38-4871-aaef-362229d4876b",
        "colab": {
          "base_uri": "https://localhost:8080/",
          "height": 105
        }
      },
      "source": [
        "%%R\n",
        "# Trabalhando com um subset do dataset\n",
        "data <- mpg[,c(1,7:9)]#todas as linhas e coluna 1, 7, 8 e 9\n",
        "str(data)\n"
      ],
      "execution_count": 14,
      "outputs": [
        {
          "output_type": "stream",
          "text": [
            "tibble [234 × 4] (S3: tbl_df/tbl/data.frame)\n",
            " $ manufacturer: chr [1:234] \"audi\" \"audi\" \"audi\" \"audi\" ...\n",
            " $ drv         : chr [1:234] \"f\" \"f\" \"f\" \"f\" ...\n",
            " $ cty         : int [1:234] 18 21 20 21 16 18 18 18 16 20 ...\n",
            " $ hwy         : int [1:234] 29 29 31 30 26 26 27 26 25 28 ...\n"
          ],
          "name": "stdout"
        }
      ]
    },
    {
      "cell_type": "code",
      "metadata": {
        "id": "j-QNrGMBxHmq",
        "colab_type": "code",
        "colab": {
          "base_uri": "https://localhost:8080/",
          "height": 123
        },
        "outputId": "560b83cd-0bac-4e0b-ebe9-3737a52c05f6"
      },
      "source": [
        "%%R\n",
        "  glimpse(data)"
      ],
      "execution_count": 19,
      "outputs": [
        {
          "output_type": "stream",
          "text": [
            "Rows: 234\n",
            "Columns: 4\n",
            "$ manufacturer <chr> \"audi\", \"audi\", \"audi\", \"audi\", \"audi\", \"audi\", \"audi\", …\n",
            "$ drv          <chr> \"f\", \"f\", \"f\", \"f\", \"f\", \"f\", \"f\", \"4\", \"4\", \"4\", \"4\", \"…\n",
            "$ cty          <int> 18, 21, 20, 21, 16, 18, 18, 18, 16, 20, 19, 15, 17, 17, …\n",
            "$ hwy          <int> 29, 29, 31, 30, 26, 26, 27, 26, 25, 28, 27, 25, 25, 25, …\n"
          ],
          "name": "stdout"
        }
      ]
    },
    {
      "cell_type": "code",
      "metadata": {
        "id": "24Eb1gJTFg5Y",
        "colab_type": "code",
        "outputId": "bf2b8759-7245-4b2e-8242-3f6fef1b8005",
        "colab": {
          "base_uri": "https://localhost:8080/",
          "height": 301
        }
      },
      "source": [
        "%%R\n",
        "# Sumarizando e Agregando Dados\n",
        "ddply(data, \n",
        "      .(manufacturer), #agrupar por montadora - entender sintaxe do ponto\n",
        "      summarize, #sumarizar\n",
        "      avgcty = mean(cty)) #aplicar média "
      ],
      "execution_count": 15,
      "outputs": [
        {
          "output_type": "stream",
          "text": [
            "   manufacturer   avgcty\n",
            "1          audi 17.61111\n",
            "2     chevrolet 15.00000\n",
            "3         dodge 13.13514\n",
            "4          ford 14.00000\n",
            "5         honda 24.44444\n",
            "6       hyundai 18.64286\n",
            "7          jeep 13.50000\n",
            "8    land rover 11.50000\n",
            "9       lincoln 11.33333\n",
            "10      mercury 13.25000\n",
            "11       nissan 18.07692\n",
            "12      pontiac 17.00000\n",
            "13       subaru 19.28571\n",
            "14       toyota 18.52941\n",
            "15   volkswagen 20.92593\n"
          ],
          "name": "stdout"
        }
      ]
    },
    {
      "cell_type": "code",
      "metadata": {
        "id": "ptD8CB9UFg2c",
        "colab_type": "code",
        "outputId": "b33aaad4-9536-45ac-c5b0-bbe8cbcc280c",
        "colab": {
          "base_uri": "https://localhost:8080/",
          "height": 301
        }
      },
      "source": [
        "%%R\n",
        "# Várias funções em uma única chamada\n",
        "ddply(data, #dataset data\n",
        "      .(manufacturer), #coluna montadora\n",
        "      summarize, #sumarizar\n",
        "      avgcty = mean(cty), #média\n",
        "      sdcty = sd(cty), #desvio-padrão\n",
        "      maxhwy = max(hwy)) #máximo "
      ],
      "execution_count": 16,
      "outputs": [
        {
          "output_type": "stream",
          "text": [
            "   manufacturer   avgcty     sdcty maxhwy\n",
            "1          audi 17.61111 1.9745108     31\n",
            "2     chevrolet 15.00000 2.9249881     30\n",
            "3         dodge 13.13514 2.4850907     24\n",
            "4          ford 14.00000 1.9148542     26\n",
            "5         honda 24.44444 1.9436506     36\n",
            "6       hyundai 18.64286 1.4990840     31\n",
            "7          jeep 13.50000 2.5071327     22\n",
            "8    land rover 11.50000 0.5773503     18\n",
            "9       lincoln 11.33333 0.5773503     18\n",
            "10      mercury 13.25000 0.5000000     19\n",
            "11       nissan 18.07692 3.4268921     32\n",
            "12      pontiac 17.00000 1.0000000     28\n",
            "13       subaru 19.28571 0.9138735     27\n",
            "14       toyota 18.52941 4.0469614     37\n",
            "15   volkswagen 20.92593 4.5567020     44\n"
          ],
          "name": "stdout"
        }
      ]
    },
    {
      "cell_type": "code",
      "metadata": {
        "id": "HiEJJqBNFgy9",
        "colab_type": "code",
        "outputId": "2a41b40c-01da-4c71-ce1f-3e86f8b3521c",
        "colab": {
          "base_uri": "https://localhost:8080/",
          "height": 425
        }
      },
      "source": [
        "%%R\n",
        "# Sumarizando os dados pela combinação de variáveis/fatores\n",
        "ddply(data, \n",
        "      .(manufacturer, drv), #duas variáveis\n",
        "      summarize, \n",
        "      avgcty = mean(cty), \n",
        "      sdcty = sd(cty),\n",
        "      maxhwy = max(hwy))"
      ],
      "execution_count": 17,
      "outputs": [
        {
          "output_type": "stream",
          "text": [
            "   manufacturer drv   avgcty     sdcty maxhwy\n",
            "1          audi   4 16.81818 1.6624188     28\n",
            "2          audi   f 18.85714 1.8644545     31\n",
            "3     chevrolet   4 12.50000 1.7320508     19\n",
            "4     chevrolet   f 18.80000 1.9235384     30\n",
            "5     chevrolet   r 14.10000 1.6633300     26\n",
            "6         dodge   4 12.00000 1.7435596     19\n",
            "7         dodge   f 15.81818 1.8340219     24\n",
            "8          ford   4 13.30769 0.9473309     19\n",
            "9          ford   r 14.75000 2.4167973     26\n",
            "10        honda   f 24.44444 1.9436506     36\n",
            "11      hyundai   f 18.64286 1.4990840     31\n",
            "12         jeep   4 13.50000 2.5071327     22\n",
            "13   land rover   4 11.50000 0.5773503     18\n",
            "14      lincoln   r 11.33333 0.5773503     18\n",
            "15      mercury   4 13.25000 0.5000000     19\n",
            "16       nissan   4 13.75000 1.2583057     20\n",
            "17       nissan   f 20.00000 1.8708287     32\n",
            "18      pontiac   f 17.00000 1.0000000     28\n",
            "19       subaru   4 19.28571 0.9138735     27\n",
            "20       toyota   4 14.93333 1.4375906     22\n",
            "21       toyota   f 21.36842 3.0223340     37\n",
            "22   volkswagen   f 20.92593 4.5567020     44\n"
          ],
          "name": "stdout"
        }
      ]
    },
    {
      "cell_type": "code",
      "metadata": {
        "id": "TQRWJN9g0Cp7",
        "colab_type": "code",
        "colab": {
          "base_uri": "https://localhost:8080/",
          "height": 105
        },
        "outputId": "0e93b418-03ff-4d0f-d3ca-5ec2c92e2369"
      },
      "source": [
        "%%R\n",
        "nome <- c(\"Didi\",\"Dedé\",\"Mussum\",\"Zacarias\")\n",
        "ano.nasc <- c(1936,1936,1941,1934)\n",
        "vive <- c(\"V\",\"V\",\"F\",\"F\")\n",
        "trapalhoes <- data.frame(nome,ano.nasc,vive)\n",
        "trapalhoes\n"
      ],
      "execution_count": 25,
      "outputs": [
        {
          "output_type": "stream",
          "text": [
            "      nome ano.nasc vive\n",
            "1     Didi     1936    V\n",
            "2     Dedé     1936    V\n",
            "3   Mussum     1941    F\n",
            "4 Zacarias     1934    F\n"
          ],
          "name": "stdout"
        }
      ]
    },
    {
      "cell_type": "code",
      "metadata": {
        "id": "9ddPkfqQ0Yw8",
        "colab_type": "code",
        "colab": {}
      },
      "source": [
        ""
      ],
      "execution_count": 0,
      "outputs": []
    }
  ]
}