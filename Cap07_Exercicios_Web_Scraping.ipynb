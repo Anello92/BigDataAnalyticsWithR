{
  "nbformat": 4,
  "nbformat_minor": 0,
  "metadata": {
    "colab": {
      "name": "Cap07-Exercicios-Web-Scraping.ipynb",
      "provenance": []
    },
    "kernelspec": {
      "name": "python3",
      "display_name": "Python 3"
    }
  },
  "cells": [
    {
      "cell_type": "code",
      "metadata": {
        "id": "jIBsd-kvQHZi",
        "colab_type": "code",
        "colab": {
          "base_uri": "https://localhost:8080/",
          "height": 52
        },
        "outputId": "8244cf1a-81af-485e-a506-bc15e1ce9208"
      },
      "source": [
        "# activate R magic\n",
        "%load_ext rpy2.ipython"
      ],
      "execution_count": 43,
      "outputs": [
        {
          "output_type": "stream",
          "text": [
            "The rpy2.ipython extension is already loaded. To reload it, use:\n",
            "  %reload_ext rpy2.ipython\n"
          ],
          "name": "stdout"
        }
      ]
    },
    {
      "cell_type": "code",
      "metadata": {
        "id": "zZC4-A3eRYA1",
        "colab_type": "code",
        "colab": {}
      },
      "source": [
        "%%R\n",
        "# Formatando os dados de uma página web\n",
        "library(rvest)\n",
        "library(stringr)\n",
        "library(tidyr)"
      ],
      "execution_count": 0,
      "outputs": []
    },
    {
      "cell_type": "markdown",
      "metadata": {
        "id": "C-bMLNCXkHBC",
        "colab_type": "text"
      },
      "source": [
        "#**read_html()**"
      ]
    },
    {
      "cell_type": "code",
      "metadata": {
        "id": "rFz6YDXURX4E",
        "colab_type": "code",
        "colab": {}
      },
      "source": [
        "%%R\n",
        "#Exercício 1 - Faça a leitura da url abaixo e grave no objeto pagina\n",
        "pagina <- read_html(\"http://forecast.weather.gov/MapClick.php?lat=42.31674913306716&lon=-71.42487878862437&site=all&smap=1#.VRsEpZPF84I\")\n",
        "#read_html() função do pacot rvest"
      ],
      "execution_count": 0,
      "outputs": []
    },
    {
      "cell_type": "markdown",
      "metadata": {
        "id": "BWcyzQLpkBWi",
        "colab_type": "text"
      },
      "source": [
        "#**html_nodes()** - Extrair blocos específicos de uma página Web"
      ]
    },
    {
      "cell_type": "code",
      "metadata": {
        "id": "qy7iqdwORXzs",
        "colab_type": "code",
        "colab": {}
      },
      "source": [
        "%%R\n",
        "# Exercício 2 - Da página coletada no item anterior, extraia o texto que contenha as tags:\n",
        "# \"#detailed-forecast-body b  \n",
        "# .forecast-text\"\n",
        "previsao <- html_nodes(pagina, \"#detailed-forecast-body b , .forecast-text\")"
      ],
      "execution_count": 0,
      "outputs": []
    },
    {
      "cell_type": "markdown",
      "metadata": {
        "id": "dieip3YLkchl",
        "colab_type": "text"
      },
      "source": [
        "#**html_text()** - transformar o node extraído para texto\n",
        "\n",
        "## Aplicar paste() para deixar o resultado mais visual"
      ]
    },
    {
      "cell_type": "code",
      "metadata": {
        "id": "nG96DqX-RXvt",
        "colab_type": "code",
        "colab": {
          "base_uri": "https://localhost:8080/",
          "height": 55
        },
        "outputId": "0ca9d0a5-3bd7-4e74-ab85-18f8ca127f89"
      },
      "source": [
        "%%R\n",
        "# Exercício 3 - Transforme o item anterior em texto\n",
        "texto <- html_text(previsao)\n",
        "paste(texto, collapse = \" \")"
      ],
      "execution_count": 47,
      "outputs": [
        {
          "output_type": "stream",
          "text": [
            "[1] \"Today Sunny, with a high near 90. Southwest wind 7 to 11 mph, with gusts as high as 23 mph.  Tonight Patchy fog after 3am.  Otherwise, increasing clouds, with a low around 64. Southwest wind around 9 mph.  Thursday Mostly cloudy, with a high near 83. Southwest wind 8 to 10 mph.  Thursday Night A chance of rain before 9pm, then a chance of showers after 9pm.  Mostly cloudy, with a low around 66. South wind 6 to 9 mph, with gusts as high as 22 mph.  Chance of precipitation is 30%. Friday A chance of showers, with thunderstorms also possible after 2pm.  Mostly cloudy, with a high near 81. Southwest wind around 8 mph, with gusts as high as 22 mph.  Chance of precipitation is 30%. Friday Night A chance of showers and thunderstorms, then showers likely and possibly a thunderstorm after 4am.  Mostly cloudy, with a low around 66. South wind 7 to 9 mph, with gusts as high as 20 mph.  Chance of precipitation is 60%. Saturday Showers likely and possibly a thunderstorm before 7am, then a chance of showers.  Patchy fog between 7am and 8am.  Otherwise, mostly cloudy, with a high near 81. Southwest wind around 6 mph.  Chance of precipitation is 60%. Saturday Night Mostly cloudy, with a low around 58. West wind 3 to 5 mph.  Sunday Mostly sunny, with a high near 73. Northwest wind 3 to 6 mph.  Sunday Night Mostly clear, with a low around 48. North wind 3 to 5 mph.  Monday Mostly sunny, with a high near 67. Northwest wind around 6 mph.  Monday Night Partly cloudy, with a low around 46. Northwest wind 3 to 5 mph.  Tuesday Sunny, with a high near 70. North wind 3 to 5 mph. \"\n"
          ],
          "name": "stdout"
        }
      ]
    },
    {
      "cell_type": "code",
      "metadata": {
        "id": "x0Lf8mj1RXrW",
        "colab_type": "code",
        "colab": {}
      },
      "source": [
        "%%R\n",
        "# Exercício 4 - Extraímos a página web abaixo para você. Agora faça a coleta da tag \"table\"\n",
        "url <- 'http://espn.go.com/nfl/superbowl/history/winners'\n",
        "pagina <- read_html(url)"
      ],
      "execution_count": 0,
      "outputs": []
    },
    {
      "cell_type": "code",
      "metadata": {
        "id": "RJl5iKE0lXhK",
        "colab_type": "code",
        "colab": {}
      },
      "source": [
        "%%R\n",
        "tabela <- html_nodes(pagina, 'table')"
      ],
      "execution_count": 0,
      "outputs": []
    },
    {
      "cell_type": "code",
      "metadata": {
        "id": "1USizIwElXgB",
        "colab_type": "code",
        "colab": {
          "base_uri": "https://localhost:8080/",
          "height": 35
        },
        "outputId": "8152c9e1-9ac1-42bc-d2ee-a6b990228815"
      },
      "source": [
        "%%R\n",
        "class(tabela) #tipo de dado retornado ao extrair com html_nodes()"
      ],
      "execution_count": 50,
      "outputs": [
        {
          "output_type": "stream",
          "text": [
            "[1] \"xml_nodeset\"\n"
          ],
          "name": "stdout"
        }
      ]
    },
    {
      "cell_type": "markdown",
      "metadata": {
        "id": "e0rYvTril6Uo",
        "colab_type": "text"
      },
      "source": [
        "#**html_table()** - Converter extração xml do node em DataFrame"
      ]
    },
    {
      "cell_type": "code",
      "metadata": {
        "id": "1D2LVw0KRXnj",
        "colab_type": "code",
        "colab": {
          "base_uri": "https://localhost:8080/",
          "height": 35
        },
        "outputId": "5bc46944-b59b-49e7-a0d0-ae86acabb761"
      },
      "source": [
        "%%R\n",
        "# Exercício 5 - Converta o item anterior em um dataframe\n",
        "tab <- html_table(tabela)[[1]]\n",
        "class(tab)"
      ],
      "execution_count": 51,
      "outputs": [
        {
          "output_type": "stream",
          "text": [
            "[1] \"data.frame\"\n"
          ],
          "name": "stdout"
        }
      ]
    },
    {
      "cell_type": "code",
      "metadata": {
        "id": "4s4BGKXDlWC5",
        "colab_type": "code",
        "colab": {
          "base_uri": "https://localhost:8080/",
          "height": 266
        },
        "outputId": "be4d6175-6e22-4f2b-aef8-578da908d272"
      },
      "source": [
        "%%R\n",
        "head(tab)"
      ],
      "execution_count": 52,
      "outputs": [
        {
          "output_type": "stream",
          "text": [
            "                              X1                             X2\n",
            "1 Super Bowl Winners and Results Super Bowl Winners and Results\n",
            "2                            NO.                           DATE\n",
            "3                              I                  Jan. 15, 1967\n",
            "4                             II                  Jan. 14, 1968\n",
            "5                            III                  Jan. 12, 1969\n",
            "6                             IV                  Jan. 11, 1970\n",
            "                              X3                             X4\n",
            "1 Super Bowl Winners and Results Super Bowl Winners and Results\n",
            "2                           SITE                         RESULT\n",
            "3  Los Angeles Memorial Coliseum   Green Bay 35, Kansas City 10\n",
            "4            Orange Bowl (Miami)       Green Bay 33, Oakland 14\n",
            "5            Orange Bowl (Miami)  New York Jets 16, Baltimore 7\n",
            "6   Tulane Stadium (New Orleans)    Kansas City 23, Minnesota 7\n"
          ],
          "name": "stdout"
        }
      ]
    },
    {
      "cell_type": "code",
      "metadata": {
        "id": "1W2CQfTzRnhH",
        "colab_type": "code",
        "colab": {
          "base_uri": "https://localhost:8080/",
          "height": 141
        },
        "outputId": "2037222f-d2c9-4657-eb3b-40a97868e82c"
      },
      "source": [
        "%%R\n",
        "# Exercício 6 - Remova as duas primeiras linhas e adicione nomes as colunas\n",
        "tab <- tab[-(1:2), ] #extrair um vetor que representa as duas primeiras linhas\n",
        "head(tab)\n"
      ],
      "execution_count": 53,
      "outputs": [
        {
          "output_type": "stream",
          "text": [
            "   X1            X2                            X3                            X4\n",
            "3   I Jan. 15, 1967 Los Angeles Memorial Coliseum  Green Bay 35, Kansas City 10\n",
            "4  II Jan. 14, 1968           Orange Bowl (Miami)      Green Bay 33, Oakland 14\n",
            "5 III Jan. 12, 1969           Orange Bowl (Miami) New York Jets 16, Baltimore 7\n",
            "6  IV Jan. 11, 1970  Tulane Stadium (New Orleans)   Kansas City 23, Minnesota 7\n",
            "7   V Jan. 17, 1971           Orange Bowl (Miami)       Baltimore 16, Dallas 13\n",
            "8  VI Jan. 16, 1972  Tulane Stadium (New Orleans)            Dallas 24, Miami 3\n"
          ],
          "name": "stdout"
        }
      ]
    },
    {
      "cell_type": "code",
      "metadata": {
        "id": "DHbYjkxRnRSm",
        "colab_type": "code",
        "colab": {
          "base_uri": "https://localhost:8080/",
          "height": 266
        },
        "outputId": "421140d5-3f6d-4dc2-9ab2-79f805252ee4"
      },
      "source": [
        "%%R\n",
        "names(tab) <- c(\"number\", \"date\", \"site\", \"result\")\n",
        "head(tab)"
      ],
      "execution_count": 54,
      "outputs": [
        {
          "output_type": "stream",
          "text": [
            "  number          date                          site\n",
            "3      I Jan. 15, 1967 Los Angeles Memorial Coliseum\n",
            "4     II Jan. 14, 1968           Orange Bowl (Miami)\n",
            "5    III Jan. 12, 1969           Orange Bowl (Miami)\n",
            "6     IV Jan. 11, 1970  Tulane Stadium (New Orleans)\n",
            "7      V Jan. 17, 1971           Orange Bowl (Miami)\n",
            "8     VI Jan. 16, 1972  Tulane Stadium (New Orleans)\n",
            "                         result\n",
            "3  Green Bay 35, Kansas City 10\n",
            "4      Green Bay 33, Oakland 14\n",
            "5 New York Jets 16, Baltimore 7\n",
            "6   Kansas City 23, Minnesota 7\n",
            "7       Baltimore 16, Dallas 13\n",
            "8            Dallas 24, Miami 3\n"
          ],
          "name": "stdout"
        }
      ]
    },
    {
      "cell_type": "code",
      "metadata": {
        "id": "_K6IbiLURp5F",
        "colab_type": "code",
        "colab": {
          "base_uri": "https://localhost:8080/",
          "height": 159
        },
        "outputId": "9de5f1f9-0415-41ca-8310-043fd3610642"
      },
      "source": [
        "%%R\n",
        "# Exercício 7 - Converta de algarismos romanos para números inteiros\n",
        "tab$number <- 1:52 #vetor de números aplicado à coluna number do objeto tab\n",
        "tab$date <- as.Date(tab$date, \"%B. %d, %Y\")\n",
        "head(tab)"
      ],
      "execution_count": 55,
      "outputs": [
        {
          "output_type": "stream",
          "text": [
            "R[write to console]: Error in `$<-.data.frame`(`*tmp*`, number, value = 1:52) : \n",
            "  replacement has 52 rows, data has 54\n",
            "Calls: <Anonymous> ... <Anonymous> -> withVisible -> $<- -> $<-.data.frame\n",
            "\n"
          ],
          "name": "stderr"
        },
        {
          "output_type": "stream",
          "text": [
            "\n",
            "Error in `$<-.data.frame`(`*tmp*`, number, value = 1:52) : \n",
            "  replacement has 52 rows, data has 54\n",
            "Calls: <Anonymous> ... <Anonymous> -> withVisible -> $<- -> $<-.data.frame\n"
          ],
          "name": "stdout"
        }
      ]
    },
    {
      "cell_type": "markdown",
      "metadata": {
        "id": "eKH8P5YmoYtG",
        "colab_type": "text"
      },
      "source": [
        "#**separate()** - {tidyr}\n",
        "\n",
        "## Separar o objeto tab, na coluna \"result\", gerando duas novas colunas \"winner\" e \"loser\" com base no separador ',' e dividir a coluna em duas"
      ]
    },
    {
      "cell_type": "code",
      "metadata": {
        "id": "0RodwuGMTHph",
        "colab_type": "code",
        "colab": {
          "base_uri": "https://localhost:8080/",
          "height": 266
        },
        "outputId": "065939bd-0d19-4779-da5e-c7f0b0b2e364"
      },
      "source": [
        "%%R\n",
        "# Exercício 8 - Divida as colunas em 4 colunas\n",
        "tab <- separate(tab, result, c('winner', 'loser'), sep = ', ', remove = TRUE)\n",
        "head(tab)"
      ],
      "execution_count": 56,
      "outputs": [
        {
          "output_type": "stream",
          "text": [
            "  number          date                          site           winner\n",
            "3      I Jan. 15, 1967 Los Angeles Memorial Coliseum     Green Bay 35\n",
            "4     II Jan. 14, 1968           Orange Bowl (Miami)     Green Bay 33\n",
            "5    III Jan. 12, 1969           Orange Bowl (Miami) New York Jets 16\n",
            "6     IV Jan. 11, 1970  Tulane Stadium (New Orleans)   Kansas City 23\n",
            "7      V Jan. 17, 1971           Orange Bowl (Miami)     Baltimore 16\n",
            "8     VI Jan. 16, 1972  Tulane Stadium (New Orleans)        Dallas 24\n",
            "           loser\n",
            "3 Kansas City 10\n",
            "4     Oakland 14\n",
            "5    Baltimore 7\n",
            "6    Minnesota 7\n",
            "7      Dallas 13\n",
            "8        Miami 3\n"
          ],
          "name": "stdout"
        }
      ]
    },
    {
      "cell_type": "markdown",
      "metadata": {
        "id": "OlRDsiC-pJvz",
        "colab_type": "text"
      },
      "source": [
        "#**str_extract**()\n",
        "##Encontrar o padrão digito \"\\\\d+$\" para fazer a divisão do score com o time. "
      ]
    },
    {
      "cell_type": "code",
      "metadata": {
        "id": "9X5u-mUUPO4-",
        "colab_type": "code",
        "colab": {
          "base_uri": "https://localhost:8080/",
          "height": 266
        },
        "outputId": "8cdaabe1-b540-4fdd-d908-ad90c958418a"
      },
      "source": [
        "%%R\n",
        "# Exercício 9 - Inclua mais 2 colunas com o score dos vencedores e perdedores\n",
        "# Dica: Você deve fazer mais uma divisão nas colunas\n",
        "pattern <- \" \\\\d+$\"\n",
        "tab$winnerScore <- as.numeric(str_extract(tab$winner, pattern))\n",
        "tab$loserScore <- as.numeric(str_extract(tab$loser, pattern))\n",
        "head(tab)\n"
      ],
      "execution_count": 57,
      "outputs": [
        {
          "output_type": "stream",
          "text": [
            "  number          date                          site           winner\n",
            "3      I Jan. 15, 1967 Los Angeles Memorial Coliseum     Green Bay 35\n",
            "4     II Jan. 14, 1968           Orange Bowl (Miami)     Green Bay 33\n",
            "5    III Jan. 12, 1969           Orange Bowl (Miami) New York Jets 16\n",
            "6     IV Jan. 11, 1970  Tulane Stadium (New Orleans)   Kansas City 23\n",
            "7      V Jan. 17, 1971           Orange Bowl (Miami)     Baltimore 16\n",
            "8     VI Jan. 16, 1972  Tulane Stadium (New Orleans)        Dallas 24\n",
            "           loser winnerScore loserScore\n",
            "3 Kansas City 10          35         10\n",
            "4     Oakland 14          33         14\n",
            "5    Baltimore 7          16          7\n",
            "6    Minnesota 7          23          7\n",
            "7      Dallas 13          16         13\n",
            "8        Miami 3          24          3\n"
          ],
          "name": "stdout"
        }
      ]
    },
    {
      "cell_type": "code",
      "metadata": {
        "id": "5DoUecbnpyjj",
        "colab_type": "code",
        "colab": {}
      },
      "source": [
        "%%R\n",
        "tab$winner <- gsub(pattern, \"\", tab$winner)\n",
        "tab$loser <- gsub(pattern, \"\", tab$loser)"
      ],
      "execution_count": 0,
      "outputs": []
    },
    {
      "cell_type": "code",
      "metadata": {
        "id": "DGNY9FzZpyiS",
        "colab_type": "code",
        "colab": {
          "base_uri": "https://localhost:8080/",
          "height": 266
        },
        "outputId": "656e2700-3f09-433b-9f5e-6a44e4cc8d31"
      },
      "source": [
        "%%R\n",
        "head(tab)"
      ],
      "execution_count": 59,
      "outputs": [
        {
          "output_type": "stream",
          "text": [
            "  number          date                          site        winner       loser\n",
            "3      I Jan. 15, 1967 Los Angeles Memorial Coliseum     Green Bay Kansas City\n",
            "4     II Jan. 14, 1968           Orange Bowl (Miami)     Green Bay     Oakland\n",
            "5    III Jan. 12, 1969           Orange Bowl (Miami) New York Jets   Baltimore\n",
            "6     IV Jan. 11, 1970  Tulane Stadium (New Orleans)   Kansas City   Minnesota\n",
            "7      V Jan. 17, 1971           Orange Bowl (Miami)     Baltimore      Dallas\n",
            "8     VI Jan. 16, 1972  Tulane Stadium (New Orleans)        Dallas       Miami\n",
            "  winnerScore loserScore\n",
            "3          35         10\n",
            "4          33         14\n",
            "5          16          7\n",
            "6          23          7\n",
            "7          16         13\n",
            "8          24          3\n"
          ],
          "name": "stdout"
        }
      ]
    },
    {
      "cell_type": "markdown",
      "metadata": {
        "id": "7v9bncD5qXfM",
        "colab_type": "text"
      },
      "source": [
        "#**write.csv**"
      ]
    },
    {
      "cell_type": "code",
      "metadata": {
        "id": "WjQ2FETER_bH",
        "colab_type": "code",
        "colab": {
          "base_uri": "https://localhost:8080/",
          "height": 35
        },
        "outputId": "407b4e9b-41de-4a24-b642-1f79a224e77a"
      },
      "source": [
        "%%R\n",
        "# Exercício 10 - Grave o resultado em um arquivo csv\n",
        "write.csv(tab, 'superbowl.csv', row.names = F)\n",
        "dir()\n"
      ],
      "execution_count": 60,
      "outputs": [
        {
          "output_type": "stream",
          "text": [
            "[1] \"sample_data\"   \"superbowl.csv\"\n"
          ],
          "name": "stdout"
        }
      ]
    }
  ]
}