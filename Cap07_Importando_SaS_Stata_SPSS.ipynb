{
  "nbformat": 4,
  "nbformat_minor": 0,
  "metadata": {
    "colab": {
      "name": "Cap07-Importando-SaS-Stata-SPSS.ipynb",
      "provenance": []
    },
    "kernelspec": {
      "name": "python3",
      "display_name": "Python 3"
    }
  },
  "cells": [
    {
      "cell_type": "code",
      "metadata": {
        "id": "2h-2I4CviFCR",
        "colab_type": "code",
        "colab": {}
      },
      "source": [
        "# activate R magic\n",
        "%load_ext rpy2.ipython"
      ],
      "execution_count": 0,
      "outputs": []
    },
    {
      "cell_type": "markdown",
      "metadata": {
        "id": "FBtwUKAmpKCS",
        "colab_type": "text"
      },
      "source": [
        "#**Importando Dados de Softwares Estatísticos (SAS, STATA, SPSS)**"
      ]
    },
    {
      "cell_type": "markdown",
      "metadata": {
        "id": "FLeO8NHMpVWu",
        "colab_type": "text"
      },
      "source": [
        "#**Pacote Heaven**"
      ]
    },
    {
      "cell_type": "code",
      "metadata": {
        "id": "Rrtak1ALpFSk",
        "colab_type": "code",
        "colab": {}
      },
      "source": [
        "%%R\n",
        "# Instalando o pacote\n",
        "install.packages(\"haven\")\n",
        "library(haven)"
      ],
      "execution_count": 0,
      "outputs": []
    },
    {
      "cell_type": "markdown",
      "metadata": {
        "id": "DgLenFw_q6eR",
        "colab_type": "text"
      },
      "source": [
        "#**read_sas() - {heaven}**\n",
        "\n",
        "## Permite fazer a leitura e escrita de formatos .sas"
      ]
    },
    {
      "cell_type": "code",
      "metadata": {
        "id": "hTqLbkiFpFPb",
        "colab_type": "code",
        "colab": {}
      },
      "source": [
        "%%R\n",
        "# SAS\n",
        "vendas <- read_sas(\"vendas.sas\") #aquivos do SAS têm extensão .sas"
      ],
      "execution_count": 0,
      "outputs": []
    },
    {
      "cell_type": "code",
      "metadata": {
        "id": "7iqYx_zipFMR",
        "colab_type": "code",
        "colab": {
          "base_uri": "https://localhost:8080/",
          "height": 35
        },
        "outputId": "638539ce-5b7f-4408-f59a-e9c8963d14f1"
      },
      "source": [
        "%%R\n",
        "class(vendas) #objeto tbl_df"
      ],
      "execution_count": 6,
      "outputs": [
        {
          "output_type": "stream",
          "text": [
            "[1] \"tbl_df\"     \"tbl\"        \"data.frame\"\n"
          ],
          "name": "stdout"
        }
      ]
    },
    {
      "cell_type": "code",
      "metadata": {
        "id": "dBjLhdb7pFLS",
        "colab_type": "code",
        "colab": {
          "base_uri": "https://localhost:8080/",
          "height": 266
        },
        "outputId": "6c23fffb-5685-452e-bf3f-8b1ee2496856"
      },
      "source": [
        "%%R\n",
        "print(vendas) #print no conjunto de dados"
      ],
      "execution_count": 7,
      "outputs": [
        {
          "output_type": "stream",
          "text": [
            "# A tibble: 431 x 4\n",
            "   purchase   age gender income\n",
            "      <dbl> <dbl> <chr>  <chr> \n",
            " 1        0    41 Female Low   \n",
            " 2        0    47 Female Low   \n",
            " 3        1    41 Female Low   \n",
            " 4        1    39 Female Low   \n",
            " 5        0    32 Female Low   \n",
            " 6        0    32 Female Low   \n",
            " 7        0    33 Female Low   \n",
            " 8        0    45 Female Low   \n",
            " 9        0    43 Female Low   \n",
            "10        0    40 Female Low   \n",
            "# … with 421 more rows\n"
          ],
          "name": "stdout"
        }
      ]
    },
    {
      "cell_type": "code",
      "metadata": {
        "id": "OxvujBJApFIi",
        "colab_type": "code",
        "colab": {
          "base_uri": "https://localhost:8080/",
          "height": 124
        },
        "outputId": "d06dcedd-efcb-423a-a34f-48ed774fdf5f"
      },
      "source": [
        "%%R\n",
        "str(vendas) #tipos de variáveis"
      ],
      "execution_count": 8,
      "outputs": [
        {
          "output_type": "stream",
          "text": [
            "tibble [431 × 4] (S3: tbl_df/tbl/data.frame)\n",
            " $ purchase: num [1:431] 0 0 1 1 0 0 0 0 0 0 ...\n",
            " $ age     : num [1:431] 41 47 41 39 32 32 33 45 43 40 ...\n",
            " $ gender  : chr [1:431] \"Female\" \"Female\" \"Female\" \"Female\" ...\n",
            " $ income  : chr [1:431] \"Low\" \"Low\" \"Low\" \"Low\" ...\n",
            " - attr(*, \"label\")= chr \"SALES\"\n"
          ],
          "name": "stdout"
        }
      ]
    },
    {
      "cell_type": "code",
      "metadata": {
        "id": "lnl2BmuupFFh",
        "colab_type": "code",
        "colab": {}
      },
      "source": [
        "%%R\n",
        "# Stata\n",
        "df_stata <- read_dta(\"mov.dta\")"
      ],
      "execution_count": 0,
      "outputs": []
    },
    {
      "cell_type": "code",
      "metadata": {
        "id": "cpefrfROpFCB",
        "colab_type": "code",
        "colab": {
          "base_uri": "https://localhost:8080/",
          "height": 35
        },
        "outputId": "6dc8d193-a924-4426-8fdc-58c8d7d300ad"
      },
      "source": [
        "%%R\n",
        "class(df_stata) #objeto tbl_df"
      ],
      "execution_count": 11,
      "outputs": [
        {
          "output_type": "stream",
          "text": [
            "[1] \"tbl_df\"     \"tbl\"        \"data.frame\"\n"
          ],
          "name": "stdout"
        }
      ]
    },
    {
      "cell_type": "code",
      "metadata": {
        "id": "O4yhBT7MpE-5",
        "colab_type": "code",
        "colab": {
          "base_uri": "https://localhost:8080/",
          "height": 355
        },
        "outputId": "324e7b18-de01-41b2-ab66-2a42c3ccf451"
      },
      "source": [
        "%%R\n",
        "str(df_stata) #tipos de variáveis "
      ],
      "execution_count": 12,
      "outputs": [
        {
          "output_type": "stream",
          "text": [
            "tibble [10 × 5] (S3: tbl_df/tbl/data.frame)\n",
            " $ Date    : dbl+lbl [1:10] 10,  9,  8,  7,  6,  5,  4,  3,  2,  1\n",
            "   ..@ label       : chr \"Date\"\n",
            "   ..@ format.stata: chr \"%9.0g\"\n",
            "   ..@ labels      : Named num [1:10] 1 2 3 4 5 6 7 8 9 10\n",
            "   .. ..- attr(*, \"names\")= chr [1:10] \"2004-12-31\" \"2005-12-31\" \"2006-12-31\" \"2007-12-31\" ...\n",
            " $ Import  : num [1:10] 37664782 16316512 11082246 35677943 9879878 ...\n",
            "  ..- attr(*, \"label\")= chr \"Import\"\n",
            "  ..- attr(*, \"format.stata\")= chr \"%9.0g\"\n",
            " $ Weight_I: num [1:10] 54029106 21584365 14526089 55034932 14806865 ...\n",
            "  ..- attr(*, \"label\")= chr \"Weight_I\"\n",
            "  ..- attr(*, \"format.stata\")= chr \"%9.0g\"\n",
            " $ Export  : num [1:10] 5.45e+07 1.03e+08 3.79e+07 4.85e+07 7.15e+07 ...\n",
            "  ..- attr(*, \"label\")= chr \"Export\"\n",
            "  ..- attr(*, \"format.stata\")= chr \"%9.0g\"\n",
            " $ Weight_E: num [1:10] 9.34e+07 1.58e+08 8.80e+07 1.12e+08 1.32e+08 ...\n",
            "  ..- attr(*, \"label\")= chr \"Weight_E\"\n",
            "  ..- attr(*, \"format.stata\")= chr \"%9.0g\"\n",
            " - attr(*, \"label\")= chr \"Written by R.\"\n"
          ],
          "name": "stdout"
        }
      ]
    },
    {
      "cell_type": "code",
      "metadata": {
        "id": "dLjJWKPrpE77",
        "colab_type": "code",
        "colab": {
          "base_uri": "https://localhost:8080/",
          "height": 177
        },
        "outputId": "0eaa593e-3e21-47bb-9dd5-4f2366547d32"
      },
      "source": [
        "%%R\n",
        "head(df_stata)"
      ],
      "execution_count": 13,
      "outputs": [
        {
          "output_type": "stream",
          "text": [
            "# A tibble: 6 x 5\n",
            "             Date   Import Weight_I    Export  Weight_E\n",
            "        <dbl+lbl>    <dbl>    <dbl>     <dbl>     <dbl>\n",
            "1 10 [2013-12-31] 37664782 54029106  54505513  93350013\n",
            "2  9 [2012-12-31] 16316512 21584365 102700010 158000010\n",
            "3  8 [2011-12-31] 11082246 14526089  37935000  88000000\n",
            "4  7 [2010-12-31] 35677943 55034932  48515008 112000005\n",
            "5  6 [2009-12-31]  9879878 14806865  71486545 131800000\n",
            "6  5 [2008-12-31]  1539992  1749318  12311696  18500014\n"
          ],
          "name": "stdout"
        }
      ]
    },
    {
      "cell_type": "markdown",
      "metadata": {
        "id": "ospxk3KcppHB",
        "colab_type": "text"
      },
      "source": [
        "#**Pacote Foreign**"
      ]
    },
    {
      "cell_type": "code",
      "metadata": {
        "id": "00emotYEpE5A",
        "colab_type": "code",
        "colab": {
          "base_uri": "https://localhost:8080/",
          "height": 70
        },
        "outputId": "c553db5d-5e32-44f7-df0a-84e61447b64d"
      },
      "source": [
        "%%R\n",
        "# Pacote Foreign\n",
        "install.packages(\"foreign\")\n",
        "library(foreign)\n"
      ],
      "execution_count": 14,
      "outputs": [
        {
          "output_type": "stream",
          "text": [
            "R[write to console]: Installing package into ‘/usr/local/lib/R/site-library’\n",
            "(as ‘lib’ is unspecified)\n",
            "\n"
          ],
          "name": "stderr"
        }
      ]
    },
    {
      "cell_type": "markdown",
      "metadata": {
        "id": "BwVOtirbptx_",
        "colab_type": "text"
      },
      "source": [
        "#**Stata**"
      ]
    },
    {
      "cell_type": "code",
      "metadata": {
        "id": "2qEEqAqGp2u0",
        "colab_type": "code",
        "colab": {}
      },
      "source": [
        "%%R\n",
        "# Stata\n",
        "florida <- read.dta(\"florida.dta\")"
      ],
      "execution_count": 0,
      "outputs": []
    },
    {
      "cell_type": "code",
      "metadata": {
        "id": "cdEvNCeap2rE",
        "colab_type": "code",
        "colab": {
          "base_uri": "https://localhost:8080/",
          "height": 141
        },
        "outputId": "5e7fb8a2-8f9c-4ac3-bbbd-2fd3a9293f73"
      },
      "source": [
        "%%R\n",
        "tail(florida)"
      ],
      "execution_count": 16,
      "outputs": [
        {
          "output_type": "stream",
          "text": [
            "    gore  bush buchanan nader  total\n",
            "62  2647  4051       27    59   6784\n",
            "63  1399  2326       26    29   3780\n",
            "64 97063 82214      396  2436 182109\n",
            "65  3835  4511       46   149   8541\n",
            "66  5637 12176      120   265  18198\n",
            "67  2796  4983       88    93   7960\n"
          ],
          "name": "stdout"
        }
      ]
    },
    {
      "cell_type": "code",
      "metadata": {
        "id": "v5UweloFp2n_",
        "colab_type": "code",
        "colab": {
          "base_uri": "https://localhost:8080/",
          "height": 35
        },
        "outputId": "50c6acd6-9676-4222-beba-9ffaf71a4e2f"
      },
      "source": [
        "%%R\n",
        "class(florida) #objeto data.frame "
      ],
      "execution_count": 17,
      "outputs": [
        {
          "output_type": "stream",
          "text": [
            "[1] \"data.frame\"\n"
          ],
          "name": "stdout"
        }
      ]
    },
    {
      "cell_type": "markdown",
      "metadata": {
        "id": "jpsOXxrOp6iD",
        "colab_type": "text"
      },
      "source": [
        "#**SPSS**\n",
        "#### http://cw.routledge.com/textbooks/9780415372985/resources/datasets.asp"
      ]
    },
    {
      "cell_type": "code",
      "metadata": {
        "id": "CycjdGmhp2kr",
        "colab_type": "code",
        "colab": {
          "base_uri": "https://localhost:8080/",
          "height": 52
        },
        "outputId": "075fc7ce-05d5-4060-a75a-a8e1a64a9f85"
      },
      "source": [
        "%%R\n",
        "dados <- read.spss(\"international.sav\")"
      ],
      "execution_count": 18,
      "outputs": [
        {
          "output_type": "stream",
          "text": [
            "R[write to console]: re-encoding from CP1252\n",
            "\n"
          ],
          "name": "stderr"
        }
      ]
    },
    {
      "cell_type": "code",
      "metadata": {
        "id": "Uie2cjLkp2hq",
        "colab_type": "code",
        "colab": {
          "base_uri": "https://localhost:8080/",
          "height": 35
        },
        "outputId": "bfb4957d-f226-4c4b-ac3b-390914a2c0b5"
      },
      "source": [
        "%%R\n",
        "class(dados) #objeto do tipo lista"
      ],
      "execution_count": 19,
      "outputs": [
        {
          "output_type": "stream",
          "text": [
            "[1] \"list\"\n"
          ],
          "name": "stdout"
        }
      ]
    },
    {
      "cell_type": "code",
      "metadata": {
        "id": "4j5hS2I1qNI9",
        "colab_type": "code",
        "colab": {
          "base_uri": "https://localhost:8080/",
          "height": 532
        },
        "outputId": "ceadaa28-c5d4-4eb3-d50a-1a1cf1343365"
      },
      "source": [
        "%%R\n",
        "head(dados)"
      ],
      "execution_count": 20,
      "outputs": [
        {
          "output_type": "stream",
          "text": [
            "$id\n",
            " [1]  1  2  3  4  5  6  7  8  9 10 11 12 13 14 15 16 17 18 19 20\n",
            "\n",
            "$country\n",
            " [1] \"Argentina           \" \"Benin               \" \"Burundi             \"\n",
            " [4] \"Chile               \" \"Dominican Republic  \" \"El Salvador         \"\n",
            " [7] \"Ghana               \" \"Hungary             \" \"Iran                \"\n",
            "[10] \"Laos                \" \"Malta               \" \"Mauritania          \"\n",
            "[13] \"Morocco             \" \"Namibia             \" \"Senegal             \"\n",
            "[16] \"Sierra Leone        \" \"Swaziland           \" \"Macedonia           \"\n",
            "[19] \"United Arab Emirates\" \"Uruguay             \"\n",
            "\n",
            "$contint\n",
            " [1] Americas Africa   Africa   Americas Americas Americas Africa   Europe  \n",
            " [9] Asia     Asia     Europe   Africa   Africa   Africa   Africa   Africa  \n",
            "[17] Africa   Europe   Asia     Americas\n",
            "Levels: Africa Americas Asia Europe\n",
            "\n",
            "$m_illit\n",
            " [1]  3.0 45.2 33.2  4.2 12.0 17.6 37.1  0.6 16.5 23.0  8.2 48.5 36.7 16.2 43.9\n",
            "[16] 60.2 19.6  1.8 24.4  2.7\n",
            "\n",
            "$f_illit\n",
            " [1]  3.0 74.5 48.1  4.4 12.7 22.9 54.3  0.7 29.6 39.1  6.6 68.7 61.7 17.2 71.5\n",
            "[16] 79.5 21.9  5.9 19.3  1.9\n",
            "\n",
            "$lifeexpt\n",
            " [1] 16  7  5 14 12 11  7 15 11  9 14  7  9 12  6  7 10 12 11 15\n",
            "\n"
          ],
          "name": "stdout"
        }
      ]
    },
    {
      "cell_type": "code",
      "metadata": {
        "id": "Yq7xsz1SqNGI",
        "colab_type": "code",
        "colab": {}
      },
      "source": [
        "%%R\n",
        "df <- data.frame(dados) #convertendo a lista para data.frame"
      ],
      "execution_count": 0,
      "outputs": []
    },
    {
      "cell_type": "code",
      "metadata": {
        "id": "m9m4338XqNC_",
        "colab_type": "code",
        "colab": {
          "base_uri": "https://localhost:8080/",
          "height": 141
        },
        "outputId": "be028a8e-db1d-41c0-df28-92fd240995af"
      },
      "source": [
        "%%R\n",
        "head(df)"
      ],
      "execution_count": 22,
      "outputs": [
        {
          "output_type": "stream",
          "text": [
            "  id              country  contint m_illit f_illit lifeexpt  gdp\n",
            "1  1 Argentina            Americas     3.0     3.0       16 3375\n",
            "2  2 Benin                  Africa    45.2    74.5        7  521\n",
            "3  3 Burundi                Africa    33.2    48.1        5   86\n",
            "4  4 Chile                Americas     4.2     4.4       14 4523\n",
            "5  5 Dominican Republic   Americas    12.0    12.7       12 2408\n",
            "6  6 El Salvador          Americas    17.6    22.9       11 2302\n"
          ],
          "name": "stdout"
        }
      ]
    },
    {
      "cell_type": "markdown",
      "metadata": {
        "id": "n-SdSqszqUum",
        "colab_type": "text"
      },
      "source": [
        "#**Boxplot**"
      ]
    },
    {
      "cell_type": "code",
      "metadata": {
        "id": "dcgrSTswqT5B",
        "colab_type": "code",
        "colab": {
          "base_uri": "https://localhost:8080/",
          "height": 497
        },
        "outputId": "0ac6fe20-a757-47d4-a868-067847ab04d3"
      },
      "source": [
        "%%R\n",
        "# Criando um boxplot\n",
        "boxplot(df$gdp)"
      ],
      "execution_count": 23,
      "outputs": [
        {
          "output_type": "display_data",
          "data": {
            "image/png": "[encoded data removed]"
          },
          "metadata": {
            "tags": []
          }
        }
      ]
    }
  ]
}