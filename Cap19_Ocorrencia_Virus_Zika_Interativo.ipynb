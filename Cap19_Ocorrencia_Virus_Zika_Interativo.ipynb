{
  "nbformat": 4,
  "nbformat_minor": 0,
  "metadata": {
    "colab": {
      "name": "Cap19-Ocorrencia-Virus-Zika-Interativo.ipynb",
      "provenance": [],
      "collapsed_sections": []
    },
    "kernelspec": {
      "name": "python3",
      "display_name": "Python 3"
    }
  },
  "cells": [
    {
      "cell_type": "code",
      "metadata": {
        "id": "elUm5hsZSMOV",
        "colab_type": "code",
        "colab": {}
      },
      "source": [
        "# Activate R magic\n",
        "%load_ext rpy2.ipython"
      ],
      "execution_count": 0,
      "outputs": []
    },
    {
      "cell_type": "code",
      "metadata": {
        "id": "9KO7Up22SPg1",
        "colab_type": "code",
        "colab": {}
      },
      "source": [
        "# Problemas com acentuação, consultar este link:\n",
        "# https://support.rstudio.com/hc/en-us/articles/200532197-Character-Encoding"
      ],
      "execution_count": 0,
      "outputs": []
    },
    {
      "cell_type": "code",
      "metadata": {
        "id": "LQcfu1gTSPds",
        "colab_type": "code",
        "colab": {}
      },
      "source": [
        "# Importar imagens\n",
        "from google.colab import files\n",
        "from IPython.display import Image"
      ],
      "execution_count": 0,
      "outputs": []
    },
    {
      "cell_type": "code",
      "metadata": {
        "id": "GNpkjXEYSPaj",
        "colab_type": "code",
        "colab": {}
      },
      "source": [
        "# Configurar o diretório de trabalho\n",
        "setwd(\"~/Dropbox/DSA/BigDataAnalytics-R-Azure/Projetos/Mini-Projeto04\")\n",
        "getwd()"
      ],
      "execution_count": 0,
      "outputs": []
    },
    {
      "cell_type": "markdown",
      "metadata": {
        "id": "o_E_hggJUJqX",
        "colab_type": "text"
      },
      "source": [
        "# Mapeando a ocorrência do vírus Zika\n",
        "[link text](http://combateaedes.saude.gov.br/pt/situacao-epidemiologica)"
      ]
    },
    {
      "cell_type": "code",
      "metadata": {
        "id": "ks3RwIgpUAEO",
        "colab_type": "code",
        "colab": {}
      },
      "source": [
        "%%R\n",
        "# Carregando os pacotes\n",
        "# devtools::install_github(\"wch/webshot\")\n",
        "install.packages(\"dplyr\")\n",
        "install.packages(\"ggplot2\")\n",
        "library(dplyr)\n",
        "library(ggplot2)"
      ],
      "execution_count": 0,
      "outputs": []
    },
    {
      "cell_type": "code",
      "metadata": {
        "id": "JPSw0cbkUABO",
        "colab_type": "code",
        "colab": {
          "base_uri": "https://localhost:8080/",
          "height": 163
        },
        "outputId": "fbd7560c-82b4-4b4d-8ceb-3d9ffd45c7b2"
      },
      "source": [
        "%%R\n",
        "# Listando os arquivos formato. csv neste diretório e gerando uma lista com os respectivos nomes\n",
        "temp_files <- list.files(pattern = \".csv\") \n",
        "temp_files"
      ],
      "execution_count": 7,
      "outputs": [
        {
          "output_type": "stream",
          "text": [
            "[1] \"Epidemiological_Bulletin-2016-04-02.csv\"\n",
            "[2] \"Epidemiological_Bulletin-2016-04-23.csv\"\n",
            "[3] \"Epidemiological_Bulletin-2016-04-30.csv\"\n",
            "[4] \"Epidemiological_Bulletin-2016-05-07.csv\"\n",
            "[5] \"Epidemiological_Bulletin-2016-05-14.csv\"\n",
            "[6] \"Epidemiological_Bulletin-2016-05-21.csv\"\n",
            "[7] \"Epidemiological_Bulletin-2016-05-28.csv\"\n",
            "[8] \"Epidemiological_Bulletin-2016-06-11.csv\"\n"
          ],
          "name": "stdout"
        }
      ]
    },
    {
      "cell_type": "markdown",
      "metadata": {
        "id": "VvCSWaEwXF97",
        "colab_type": "text"
      },
      "source": [
        "## Aplicar read.csv() à lista de arquivos temp_files com a função lapply() "
      ]
    },
    {
      "cell_type": "code",
      "metadata": {
        "id": "tDsaIPzFT_7P",
        "colab_type": "code",
        "colab": {}
      },
      "source": [
        "%%R\n",
        "# Carregando todos os arquivos em um único objeto\n",
        "myfiles <- lapply(temp_files, read.csv, stringsAsFactors = FALSE) "
      ],
      "execution_count": 0,
      "outputs": []
    },
    {
      "cell_type": "markdown",
      "metadata": {
        "id": "9TxzIJtrYBW7",
        "colab_type": "text"
      },
      "source": [
        "## Analisar names e head com lapply()"
      ]
    },
    {
      "cell_type": "code",
      "metadata": {
        "id": "60t-NQFHT_3C",
        "colab_type": "code",
        "colab": {
          "base_uri": "https://localhost:8080/",
          "height": 472
        },
        "outputId": "bb569148-e6d5-4a21-f2b7-f24dbb10eb5e"
      },
      "source": [
        "%%R\n",
        "# Resumo dos arquivos\n",
        "str(myfiles, 1)\n",
        "lapply(myfiles, names)[1]    # nomes das colunas dos arquivos\n",
        "lapply(myfiles, head,2)[1:2] "
      ],
      "execution_count": 13,
      "outputs": [
        {
          "output_type": "stream",
          "text": [
            "List of 8\n",
            " $ :'data.frame':\t33 obs. of  9 variables:\n",
            " $ :'data.frame':\t33 obs. of  9 variables:\n",
            " $ :'data.frame':\t33 obs. of  9 variables:\n",
            " $ :'data.frame':\t33 obs. of  9 variables:\n",
            " $ :'data.frame':\t33 obs. of  9 variables:\n",
            " $ :'data.frame':\t33 obs. of  9 variables:\n",
            " $ :'data.frame':\t33 obs. of  9 variables:\n",
            " $ :'data.frame':\t33 obs. of  9 variables:\n",
            "[[1]]\n",
            "  report_date        location location_type    data_field data_field_code\n",
            "1  2016-04-02           Norte        region zika_reported          BR0011\n",
            "2  2016-04-02 Brazil-Rondonia         state zika_reported          BR0011\n",
            "  time_period time_period_type value  unit\n",
            "1          NA               NA  6295 cases\n",
            "2          NA               NA   618 cases\n",
            "\n",
            "[[2]]\n",
            "  report_date    location location_type    data_field data_field_code\n",
            "1  2016-04-23       Norte        region zika_reported          BR0011\n",
            "2  2016-04-23 Brazil-Acre         state zika_reported          BR0011\n",
            "  time_period time_period_type value  unit\n",
            "1          NA               NA  8545 cases\n",
            "2          NA               NA   716 cases\n",
            "\n"
          ],
          "name": "stdout"
        }
      ]
    },
    {
      "cell_type": "markdown",
      "metadata": {
        "id": "eKlzjq94YkVu",
        "colab_type": "text"
      },
      "source": [
        "## Organizando Shape dos Dados"
      ]
    },
    {
      "cell_type": "code",
      "metadata": {
        "colab_type": "code",
        "id": "1A08o0JDYk_q",
        "colab": {}
      },
      "source": [
        "%%R\n",
        "# Organizando o shape dos dados\n",
        "brazil <- do.call(rbind, myfiles) #do.call\n",
        "\n",
        "brazil <- brazil %>% \n",
        "  mutate(report_date = as.Date(report_date)) #mutate"
      ],
      "execution_count": 0,
      "outputs": []
    },
    {
      "cell_type": "code",
      "metadata": {
        "id": "JqYJw03fT_uW",
        "colab_type": "code",
        "colab": {
          "base_uri": "https://localhost:8080/",
          "height": 217
        },
        "outputId": "d58cacb4-c866-4b60-8665-f28f9fad8c5a"
      },
      "source": [
        "%%R\n",
        "# Visualizando o dataset\n",
        "glimpse(brazil)"
      ],
      "execution_count": 16,
      "outputs": [
        {
          "output_type": "stream",
          "text": [
            "Rows: 264\n",
            "Columns: 9\n",
            "$ report_date      <date> 2016-04-02, 2016-04-02, 2016-04-02, 2016-04-02, 201…\n",
            "$ location         <chr> \"Norte\", \"Brazil-Rondonia\", \"Brazil-Acre\", \"Brazil-A…\n",
            "$ location_type    <chr> \"region\", \"state\", \"state\", \"state\", \"state\", \"state…\n",
            "$ data_field       <chr> \"zika_reported\", \"zika_reported\", \"zika_reported\", \"…\n",
            "$ data_field_code  <chr> \"BR0011\", \"BR0011\", \"BR0011\", \"BR0011\", \"BR0011\", \"B…\n",
            "$ time_period      <lgl> NA, NA, NA, NA, NA, NA, NA, NA, NA, NA, NA, NA, NA, …\n",
            "$ time_period_type <lgl> NA, NA, NA, NA, NA, NA, NA, NA, NA, NA, NA, NA, NA, …\n",
            "$ value            <int> 6295, 618, 375, 1520, 44, 771, 74, 2893, 30286, 1202…\n",
            "$ unit             <chr> \"cases\", \"cases\", \"cases\", \"cases\", \"cases\", \"cases\"…\n"
          ],
          "name": "stdout"
        }
      ]
    },
    {
      "cell_type": "code",
      "metadata": {
        "id": "4PoISMZBVV45",
        "colab_type": "code",
        "colab": {}
      },
      "source": [
        "%%R\n",
        "# Transformando o dataframe um uma tabela dplyr e removendo as colunas 5 a 7\n",
        "brazil <- brazil %>% select(-(6:7)) "
      ],
      "execution_count": 0,
      "outputs": []
    },
    {
      "cell_type": "code",
      "metadata": {
        "id": "CaVQWiQ9VV0n",
        "colab_type": "code",
        "colab": {
          "base_uri": "https://localhost:8080/",
          "height": 781
        },
        "outputId": "324dc90f-8fe3-42fa-af5e-054fb90c9e0a"
      },
      "source": [
        "%%R\n",
        "# Visualizando as primeiras 20 linhas\n",
        "brazil %>% slice (1:20) "
      ],
      "execution_count": 18,
      "outputs": [
        {
          "output_type": "stream",
          "text": [
            "   report_date                   location location_type    data_field\n",
            "1   2016-04-02                      Norte        region zika_reported\n",
            "2   2016-04-02            Brazil-Rondonia         state zika_reported\n",
            "3   2016-04-02                Brazil-Acre         state zika_reported\n",
            "4   2016-04-02            Brazil-Amazonas         state zika_reported\n",
            "5   2016-04-02             Brazil-Roraima         state zika_reported\n",
            "6   2016-04-02                Brazil-Para         state zika_reported\n",
            "7   2016-04-02               Brazil-Amapa         state zika_reported\n",
            "8   2016-04-02           Brazil-Tocantins         state zika_reported\n",
            "9   2016-04-02                   Nordeste        region zika_reported\n",
            "10  2016-04-02            Brazil-Maranhao         state zika_reported\n",
            "11  2016-04-02               Brazil-Piaui         state zika_reported\n",
            "12  2016-04-02               Brazil-Ceara         state zika_reported\n",
            "13  2016-04-02 Brazil-Rio_Grande_do_Norte         state zika_reported\n",
            "14  2016-04-02             Brazil-Paraiba         state zika_reported\n",
            "15  2016-04-02          Brazil-Pernambuco         state zika_reported\n",
            "16  2016-04-02             Brazil-Alagoas         state zika_reported\n",
            "17  2016-04-02             Brazil-Sergipe         state zika_reported\n",
            "18  2016-04-02               Brazil-Bahia         state zika_reported\n",
            "19  2016-04-02                    Sudeste        region zika_reported\n",
            "20  2016-04-02        Brazil-Minas_Gerais         state zika_reported\n",
            "   data_field_code value  unit\n",
            "1           BR0011  6295 cases\n",
            "2           BR0011   618 cases\n",
            "3           BR0011   375 cases\n",
            "4           BR0011  1520 cases\n",
            "5           BR0011    44 cases\n",
            "6           BR0011   771 cases\n",
            "7           BR0011    74 cases\n",
            "8           BR0011  2893 cases\n",
            "9           BR0011 30286 cases\n",
            "10          BR0011  1202 cases\n",
            "11          BR0011     7 cases\n",
            "12          BR0011   156 cases\n",
            "13          BR0011   640 cases\n",
            "14          BR0011  1060 cases\n",
            "15          BR0011   333 cases\n",
            "16          BR0011  1479 cases\n",
            "17          BR0011   348 cases\n",
            "18          BR0011 25061 cases\n",
            "19          BR0011 35505 cases\n",
            "20          BR0011  6693 cases\n"
          ],
          "name": "stdout"
        }
      ]
    },
    {
      "cell_type": "markdown",
      "metadata": {
        "id": "VQJZJ1OAbCie",
        "colab_type": "text"
      },
      "source": [
        "## Aplicando filtro por região "
      ]
    },
    {
      "cell_type": "code",
      "metadata": {
        "id": "nXX7NcnMVVxT",
        "colab_type": "code",
        "colab": {
          "base_uri": "https://localhost:8080/",
          "height": 497
        },
        "outputId": "3bdc3ae3-d8bd-4666-bb72-147ee78b9dd2"
      },
      "source": [
        "%%R\n",
        "# Para cada reporting_date nós temos 5 regiões\n",
        "brazil %>% filter(location_type == \"region\")\n",
        "brazil %>% filter(location_type == \"region\") %>% #concatenando filto\n",
        "\n",
        "  ggplot(aes(x = report_date, y = value, group = location, color = location)) + \n",
        "  geom_line() +  # gráfico de linhas\n",
        "  geom_point() + # pontos às linhas\n",
        "  ggtitle(\"Casos de Zika por Região do Brasil\")\n"
      ],
      "execution_count": 19,
      "outputs": [
        {
          "output_type": "display_data",
          "data": {
            "image/png": "[encoded data removed]"
          },
          "metadata": {
            "tags": []
          }
        }
      ]
    },
    {
      "cell_type": "code",
      "metadata": {
        "id": "ztx5bnNfVdo4",
        "colab_type": "code",
        "colab": {}
      },
      "source": [
        "%%R\n",
        "# Separando as regiões e Visualizando os Dados\n",
        "region <- brazil %>% \n",
        "  filter(location_type == \"region\")\n",
        "\n"
      ],
      "execution_count": 0,
      "outputs": []
    },
    {
      "cell_type": "code",
      "metadata": {
        "id": "voOLSnfyV1B8",
        "colab_type": "code",
        "colab": {
          "base_uri": "https://localhost:8080/",
          "height": 497
        },
        "outputId": "2e2b3bab-a03c-48e3-d2d5-c741624ad131"
      },
      "source": [
        "%%R\n",
        "region %>% \n",
        "  ggplot(aes(x =location, y = value)) + geom_bar(stat = \"identity\") +\n",
        "  ylab(\"Número de Casos Reportados\") + xlab(\"Region\") + \n",
        "  ggtitle(\"Casos de Zika Reportados no Brasil\")"
      ],
      "execution_count": 21,
      "outputs": [
        {
          "output_type": "display_data",
          "data": {
            "image/png": "[encoded data removed]"
          },
          "metadata": {
            "tags": []
          }
        }
      ]
    },
    {
      "cell_type": "code",
      "metadata": {
        "id": "kRcUcSGtV0-Z",
        "colab_type": "code",
        "colab": {
          "base_uri": "https://localhost:8080/",
          "height": 497
        },
        "outputId": "2c6c41cd-0f71-49b6-82a4-5a1723d672c1"
      },
      "source": [
        "%%R\n",
        "region %>% \n",
        "  slice(1:length(unique(region$location))) %>% \n",
        "  arrange(desc(value)) %>%\n",
        "  mutate(location = factor(location, levels = location,ordered = TRUE)) %>%\n",
        "  ggplot(aes(x = location, y = value)) + geom_bar(stat = \"identity\") +\n",
        "  ylab(\"Número de Casos Reportados\") + xlab(\"Region\") + \n",
        "  ggtitle(\"Casos de Zika Reportados no Brasil\")\n"
      ],
      "execution_count": 22,
      "outputs": [
        {
          "output_type": "display_data",
          "data": {
            "image/png": "[encoded data removed]"
          },
          "metadata": {
            "tags": []
          }
        }
      ]
    },
    {
      "cell_type": "code",
      "metadata": {
        "id": "EJXYakAPVdlp",
        "colab_type": "code",
        "colab": {
          "base_uri": "https://localhost:8080/",
          "height": 235
        },
        "outputId": "34519a14-b899-45ce-d0df-4bc5521b581f"
      },
      "source": [
        "%%R\n",
        "# Obtendo localidades únicas\n",
        "region %>% \n",
        "  slice(1:length(unique(region$location)))"
      ],
      "execution_count": 23,
      "outputs": [
        {
          "output_type": "stream",
          "text": [
            "  report_date     location location_type    data_field data_field_code value\n",
            "1  2016-04-02        Norte        region zika_reported          BR0011  6295\n",
            "2  2016-04-02     Nordeste        region zika_reported          BR0011 30286\n",
            "3  2016-04-02      Sudeste        region zika_reported          BR0011 35505\n",
            "4  2016-04-02          Sul        region zika_reported          BR0011  1797\n",
            "5  2016-04-02 Centro-Oeste        region zika_reported          BR0011 17504\n",
            "   unit\n",
            "1 cases\n",
            "2 cases\n",
            "3 cases\n",
            "4 cases\n",
            "5 cases\n"
          ],
          "name": "stdout"
        }
      ]
    },
    {
      "cell_type": "code",
      "metadata": {
        "id": "9JfGMuFLVdi8",
        "colab_type": "code",
        "colab": {
          "base_uri": "https://localhost:8080/",
          "height": 235
        },
        "outputId": "1706724a-9eee-4b9e-ceb6-292018289ca8"
      },
      "source": [
        "%%R\n",
        "# Organziando as localidades únicas por número de casos reportados\n",
        "region %>% \n",
        "  slice(1:length(unique(region$location))) %>% \n",
        "  arrange(desc(value))"
      ],
      "execution_count": 24,
      "outputs": [
        {
          "output_type": "stream",
          "text": [
            "  report_date     location location_type    data_field data_field_code value\n",
            "1  2016-04-02      Sudeste        region zika_reported          BR0011 35505\n",
            "2  2016-04-02     Nordeste        region zika_reported          BR0011 30286\n",
            "3  2016-04-02 Centro-Oeste        region zika_reported          BR0011 17504\n",
            "4  2016-04-02        Norte        region zika_reported          BR0011  6295\n",
            "5  2016-04-02          Sul        region zika_reported          BR0011  1797\n",
            "   unit\n",
            "1 cases\n",
            "2 cases\n",
            "3 cases\n",
            "4 cases\n",
            "5 cases\n"
          ],
          "name": "stdout"
        }
      ]
    },
    {
      "cell_type": "code",
      "metadata": {
        "id": "HtQyyAR0V-AS",
        "colab_type": "code",
        "colab": {
          "base_uri": "https://localhost:8080/",
          "height": 181
        },
        "outputId": "4e9bf490-e1bf-43f2-9501-51e2bddde679"
      },
      "source": [
        "%%R\n",
        "# Criando variáveis do tipo fator\n",
        "region %>% \n",
        "  slice(1:length(unique(region$location))) %>% \n",
        "  arrange(desc(value)) %>%\n",
        "  mutate(location = factor(location,levels=location,ordered=TRUE)) %>% \n",
        "  glimpse()\n"
      ],
      "execution_count": 25,
      "outputs": [
        {
          "output_type": "stream",
          "text": [
            "Rows: 5\n",
            "Columns: 7\n",
            "$ report_date     <date> 2016-04-02, 2016-04-02, 2016-04-02, 2016-04-02, 2016…\n",
            "$ location        <ord> Sudeste, Nordeste, Centro-Oeste, Norte, Sul\n",
            "$ location_type   <chr> \"region\", \"region\", \"region\", \"region\", \"region\"\n",
            "$ data_field      <chr> \"zika_reported\", \"zika_reported\", \"zika_reported\", \"z…\n",
            "$ data_field_code <chr> \"BR0011\", \"BR0011\", \"BR0011\", \"BR0011\", \"BR0011\"\n",
            "$ value           <int> 35505, 30286, 17504, 6295, 1797\n",
            "$ unit            <chr> \"cases\", \"cases\", \"cases\", \"cases\", \"cases\"\n"
          ],
          "name": "stdout"
        }
      ]
    },
    {
      "cell_type": "code",
      "metadata": {
        "id": "OfR2i48CV99K",
        "colab_type": "code",
        "colab": {
          "base_uri": "https://localhost:8080/",
          "height": 54
        },
        "outputId": "01a5f496-b082-4f5f-dc39-f1c1bcedb5ef"
      },
      "source": [
        "%%R\n",
        "# Agrupando o Sumarizando\n",
        "brazil_totals <- brazil %>% filter(location==\"Brazil\") \n",
        "region_totals <- brazil %>% filter(location_type==\"region\") %>%\n",
        "  group_by(report_date,location) %>%  \n",
        "  summarize(tot = sum(value)) "
      ],
      "execution_count": 26,
      "outputs": [
        {
          "output_type": "stream",
          "text": [
            "R[write to console]: `summarise()` regrouping output by 'report_date' (override with `.groups` argument)\n",
            "\n"
          ],
          "name": "stderr"
        }
      ]
    },
    {
      "cell_type": "code",
      "metadata": {
        "id": "X8NiQJxaV96X",
        "colab_type": "code",
        "colab": {}
      },
      "source": [
        "%%R\n",
        "# Padronizar os dados e remover as sumarizações\n",
        "regvec <- vector()  \n",
        "length(regvec) <- nrow(brazil)\n",
        "for (ii in 1:nrow(brazil)) {\n",
        "  if (brazil[ii,]$location_type != \"region\")  {\n",
        "    regvec[ii] <- newlab\n",
        "  } else {\n",
        "    newlab <- brazil[ii,]$location\n",
        "    regvec[ii] <- newlab\n",
        "  }\n",
        "}"
      ],
      "execution_count": 0,
      "outputs": []
    },
    {
      "cell_type": "code",
      "metadata": {
        "id": "xN4mjcLVV92p",
        "colab_type": "code",
        "colab": {}
      },
      "source": [
        "%%R\n",
        "# Agregando o vetor de regiões ao dataframe brasil\n",
        "statedf <- cbind(brazil,regvec)"
      ],
      "execution_count": 0,
      "outputs": []
    },
    {
      "cell_type": "code",
      "metadata": {
        "id": "Iyb3kT_hWGu1",
        "colab_type": "code",
        "colab": {}
      },
      "source": [
        "%%R\n",
        "# Eliminar o sumário de linhas por região e país\n",
        "statedf <- statedf %>% filter(location != \"Brazil\") \n",
        "statedf <- statedf %>% filter(location_type != \"region\")"
      ],
      "execution_count": 0,
      "outputs": []
    },
    {
      "cell_type": "code",
      "metadata": {
        "id": "iajAKUDNWGrE",
        "colab_type": "code",
        "colab": {
          "base_uri": "https://localhost:8080/",
          "height": 54
        },
        "outputId": "95c958ac-c9af-4e32-ed57-bc1dbcbb004b"
      },
      "source": [
        "%%R\n",
        "# Gerar o total por regiões a partir dos dados transformados\n",
        "statedf %>% group_by(report_date,regvec) %>% \n",
        "  summarize(tot=sum(value)) -> totals"
      ],
      "execution_count": 31,
      "outputs": [
        {
          "output_type": "stream",
          "text": [
            "R[write to console]: `summarise()` regrouping output by 'report_date' (override with `.groups` argument)\n",
            "\n"
          ],
          "name": "stderr"
        }
      ]
    },
    {
      "cell_type": "code",
      "metadata": {
        "id": "aUyoRnnacS2c",
        "colab_type": "code",
        "colab": {}
      },
      "source": [
        "%%R\n",
        "install.packages(\"ggmap\")\n",
        "library(ggmap)"
      ],
      "execution_count": 0,
      "outputs": []
    },
    {
      "cell_type": "code",
      "metadata": {
        "id": "6fWNP8HfWGoT",
        "colab_type": "code",
        "colab": {}
      },
      "source": [
        "%%R\n",
        "# Gerando os mapas de cada estado do Brasil\n",
        "library(ggmap)\n",
        "longlat <- geocode(unique(statedf$location)) %>% \n",
        "  mutate(loc = unique(statedf$location)) "
      ],
      "execution_count": 0,
      "outputs": []
    },
    {
      "cell_type": "code",
      "metadata": {
        "id": "DzQWQB6zWNBv",
        "colab_type": "code",
        "colab": {}
      },
      "source": [
        "%%R\n",
        "# Salvando os geocodes do dataframe statedf e salvando em um novo dataframe chamado formapping\n",
        "statedf %>% filter(as.character(report_date) == \"2016-06-11\") %>% \n",
        "  group_by(location) %>% summarize(cases = sum(value)) %>% \n",
        "  inner_join(longlat, by = c(\"location\" = \"loc\")) %>% \n",
        "  mutate(LatLon = paste(lat, lon, sep = \":\")) -> formapping\n"
      ],
      "execution_count": 0,
      "outputs": []
    },
    {
      "cell_type": "code",
      "metadata": {
        "id": "TAVS1jj4WM9_",
        "colab_type": "code",
        "colab": {}
      },
      "source": [
        "%%R\n",
        "# Visualizando os dados\n",
        "head(formapping) "
      ],
      "execution_count": 0,
      "outputs": []
    },
    {
      "cell_type": "code",
      "metadata": {
        "id": "k6gISvAhWM7N",
        "colab_type": "code",
        "colab": {}
      },
      "source": [
        "%%R\n",
        "# Formatando a saída e gerando um movo dataframe chamado long_formapping\n",
        "num_of_times_to_repeat <- formapping$cases\n",
        "long_formapping <- formapping[rep(seq_len(nrow(formapping)),\n",
        "                                  num_of_times_to_repeat),]"
      ],
      "execution_count": 0,
      "outputs": []
    },
    {
      "cell_type": "code",
      "metadata": {
        "id": "LTw6A0BjWM4w",
        "colab_type": "code",
        "colab": {}
      },
      "source": [
        "%%R\n",
        "# Visualizando os dados\n",
        "head(long_formapping)"
      ],
      "execution_count": 0,
      "outputs": []
    },
    {
      "cell_type": "code",
      "metadata": {
        "id": "fpiqntG5WM1t",
        "colab_type": "code",
        "colab": {}
      },
      "source": [
        "%%R\n",
        "# Instalando o pacote leaflet\n",
        "install.packages(\"leaflet\")\n",
        "library(leaflet)"
      ],
      "execution_count": 0,
      "outputs": []
    },
    {
      "cell_type": "code",
      "metadata": {
        "id": "_wqTw2nOT_rH",
        "colab_type": "code",
        "colab": {}
      },
      "source": [
        "%%R\n",
        "# Gerando o mapa com o dataframe\n",
        "# Aplique o zoom\n",
        "leaflet(long_formapping) %>% \n",
        "  addTiles() %>% \n",
        "  addMarkers(clusterOptions = markerClusterOptions())\n",
        "        "
      ],
      "execution_count": 0,
      "outputs": []
    }
  ]
}