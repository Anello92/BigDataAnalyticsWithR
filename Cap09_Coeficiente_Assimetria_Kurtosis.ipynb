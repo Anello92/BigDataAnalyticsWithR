{
  "nbformat": 4,
  "nbformat_minor": 0,
  "metadata": {
    "colab": {
      "name": "Cap09-Coeficiente-Assimetria-Kurtosis.ipynb",
      "provenance": []
    },
    "kernelspec": {
      "name": "python3",
      "display_name": "Python 3"
    }
  },
  "cells": [
    {
      "cell_type": "code",
      "metadata": {
        "id": "FCEwW_kFFhU0",
        "colab_type": "code",
        "colab": {}
      },
      "source": [
        "# Coeficiente de Curtose (Kurtosis)\n",
        "\n",
        "\n",
        "##### Coeficiente de Assimetria #####\n",
        "\n",
        "# O coeficiente de curtose é uma medida que caracteriza o achatamento da curva da função de distribuição.\n",
        "\n",
        "# Exemplo: Os seguintes dados representam o número de acidentes diários em um complexo industrial \n",
        "# (colocados em ordem crescente), durante o período de 50 dias. Represente o histograma desses dados.\n",
        "\n",
        "dados = c(18, 20, 20, 21, 22, 24, 25, 25, 26, 27, 29, 29, \n",
        "          30, 30, 31, 31, 32, 33, 34, 35, 36, 36, 37, 37, \n",
        "          37, 37, 38, 38, 38, 40, 41, 43, 44, 44, 45, 45, \n",
        "          45, 46, 47, 48, 49, 50, 51, 53, 54, 54, 56, 58, 62, 65)\n",
        "\n",
        "hist(dados, main = \"Número de Acidentes Diários\", xlab = \"Acidentes\", ylab = \"Frequência\")\n",
        "\n",
        "mean(dados)\n",
        "sd(dados)\n",
        "median(dados)\n",
        "\n",
        "library(moments)\n",
        "?kurtosis\n",
        "CK = kurtosis(dados)\n",
        "print(CK)\n",
        "\n",
        "# CK ≈ 0: Distribuição normal. Chamada de Curtose Mesocúrtica.\n",
        "# CK < 0: Cauda mais leve que a normal. Para um coeficiente de Curtose negativo, tem-se uma Curtose Platicúrtica.\n",
        "# CK > 0: Cauda mais pesada que a normal. Para um coeficiente de Curtose positivo, tem-se uma Curtose Leptocúrtica.\n",
        "\n",
        "# O coeficiente de curtose é igual a 2.37652. Logo, como o valor de CK é maior que 0, a curva é Leptocúrtica.\n",
        "\n",
        "# Outro exemplo\n",
        "n.sample <- rnorm(n = 10000, mean = 55, sd = 4.5)\n",
        "\n",
        "# Skewness e Kurtosis\n",
        "library(moments)\n",
        "skewness(n.sample)\n",
        "kurtosis(n.sample)\n",
        "\n",
        "# Histograma\n",
        "library(ggplot2)\n",
        "datasim <- data.frame(n.sample)\n",
        "ggplot(datasim, aes(x = n.sample), binwidth = 2) + \n",
        "  geom_histogram(aes(y = ..density..), fill = 'red', alpha = 0.5) + \n",
        "  geom_density(colour = 'blue') + xlab(expression(bold('Dados'))) + \n",
        "  ylab(expression(bold('Densidade')))\n",
        "\n",
        "\n",
        "\n",
        "\n",
        "\n",
        "\n",
        "\n",
        "\n",
        "\n",
        "\n"
      ],
      "execution_count": 0,
      "outputs": []
    }
  ]
}