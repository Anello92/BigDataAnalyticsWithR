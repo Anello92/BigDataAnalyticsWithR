{
  "nbformat": 4,
  "nbformat_minor": 0,
  "metadata": {
    "colab": {
      "name": "Cap07-Subsetting- Util-Atribuicao-Slicing.ipynb",
      "provenance": []
    },
    "kernelspec": {
      "name": "python3",
      "display_name": "Python 3"
    }
  },
  "cells": [
    {
      "cell_type": "code",
      "metadata": {
        "id": "2h-2I4CviFCR",
        "colab_type": "code",
        "colab": {}
      },
      "source": [
        "# activate R magic\n",
        "%load_ext rpy2.ipython"
      ],
      "execution_count": 0,
      "outputs": []
    },
    {
      "cell_type": "markdown",
      "metadata": {
        "id": "VJN7rBpmkqrm",
        "colab_type": "text"
      },
      "source": [
        "#**Subsetting** - subset(), merge(), plyr::arrange()\n",
        "# Conhecer estas notações é fundamental para compreeder como gerar subconjuntos \n"
      ]
    },
    {
      "cell_type": "code",
      "metadata": {
        "id": "3_ZeinjIlDY3",
        "colab_type": "code",
        "colab": {
          "base_uri": "https://localhost:8080/",
          "height": 34
        },
        "outputId": "c10492c9-b0d5-4e07-da24-30d19349352b"
      },
      "source": [
        "%%R\n",
        "## Vetores\n",
        "x <- c(\"A\", \"E\", \"D\", \"B\", \"C\")\n",
        "x[]\n",
        "x\n"
      ],
      "execution_count": 2,
      "outputs": [
        {
          "output_type": "stream",
          "text": [
            "[1] \"A\" \"E\" \"D\" \"B\" \"C\"\n"
          ],
          "name": "stdout"
        }
      ]
    },
    {
      "cell_type": "markdown",
      "metadata": {
        "id": "RKx52zrDJCBT",
        "colab_type": "text"
      },
      "source": [
        "#**[ ]**notação de colchetes|indexação permite colocar regras para retornar subsets"
      ]
    },
    {
      "cell_type": "code",
      "metadata": {
        "id": "j0ALQ5vnlDWC",
        "colab_type": "code",
        "colab": {
          "base_uri": "https://localhost:8080/",
          "height": 34
        },
        "outputId": "68f100c0-8347-4f43-bde1-7f159f1b3528"
      },
      "source": [
        "%%R\n",
        "# Índices Positivos - Elementos em posições específicas\n",
        "x[c(1, 3)]#retorne x. Como é apenas um vetor, retornar index de coluna 1 e 3"
      ],
      "execution_count": 8,
      "outputs": [
        {
          "output_type": "stream",
          "text": [
            "[1] \"A\" \"D\"\n"
          ],
          "name": "stdout"
        }
      ]
    },
    {
      "cell_type": "code",
      "metadata": {
        "id": "H9fjJSjwIS8W",
        "colab_type": "code",
        "colab": {
          "base_uri": "https://localhost:8080/",
          "height": 34
        },
        "outputId": "71cbe587-8aee-4134-e1af-97d366f25e06"
      },
      "source": [
        "%%R\n",
        "x[c(1, 1, 1)]#retornar o elemento mais de uma vez repetindo o índice"
      ],
      "execution_count": 9,
      "outputs": [
        {
          "output_type": "stream",
          "text": [
            "[1] \"A\" \"A\" \"A\"\n"
          ],
          "name": "stdout"
        }
      ]
    },
    {
      "cell_type": "code",
      "metadata": {
        "id": "NKn_deMxIS4g",
        "colab_type": "code",
        "colab": {
          "base_uri": "https://localhost:8080/",
          "height": 34
        },
        "outputId": "fa0bf4eb-db4e-4a78-baed-5af927544e4c"
      },
      "source": [
        "%%R\n",
        "x[order(x)]#possível usar a notação de order dentro da notação de slice"
      ],
      "execution_count": 7,
      "outputs": [
        {
          "output_type": "stream",
          "text": [
            "[1] \"A\" \"B\" \"C\" \"D\" \"E\"\n"
          ],
          "name": "stdout"
        }
      ]
    },
    {
      "cell_type": "code",
      "metadata": {
        "id": "JeH7oKwOlDSS",
        "colab_type": "code",
        "colab": {
          "base_uri": "https://localhost:8080/",
          "height": 34
        },
        "outputId": "0fd4c94d-6dbd-4931-842f-934140a3286f"
      },
      "source": [
        "%%R\n",
        "# Índices Negativos - Ignora elementos em posições específicas\n",
        "x[-c(1, 3)]#execto index 1 e 3"
      ],
      "execution_count": 10,
      "outputs": [
        {
          "output_type": "stream",
          "text": [
            "[1] \"E\" \"D\" \"C\"\n"
          ],
          "name": "stdout"
        }
      ]
    },
    {
      "cell_type": "code",
      "metadata": {
        "id": "BWSLKvJpJbdS",
        "colab_type": "code",
        "colab": {
          "base_uri": "https://localhost:8080/",
          "height": 34
        },
        "outputId": "d3631011-f245-4ca7-e9cb-00acc0fdb3cb"
      },
      "source": [
        "%%R\n",
        "x[-c(1, 4)]#exceto index 1 e 4"
      ],
      "execution_count": 11,
      "outputs": [
        {
          "output_type": "stream",
          "text": [
            "[1] \"E\" \"D\" \"C\"\n"
          ],
          "name": "stdout"
        }
      ]
    },
    {
      "cell_type": "code",
      "metadata": {
        "id": "gLIYfQN1lDMi",
        "colab_type": "code",
        "colab": {
          "base_uri": "https://localhost:8080/",
          "height": 34
        },
        "outputId": "ab7652e1-1884-4d55-f6ff-d078770ef935"
      },
      "source": [
        "%%R\n",
        "# Vetor Lógico para gerar subsetting - bacana\n",
        "x[c(TRUE, FALSE)]"
      ],
      "execution_count": 14,
      "outputs": [
        {
          "output_type": "stream",
          "text": [
            "[1] \"A\" \"D\" \"C\"\n"
          ],
          "name": "stdout"
        }
      ]
    },
    {
      "cell_type": "code",
      "metadata": {
        "id": "hE2W4GjoJjhJ",
        "colab_type": "code",
        "colab": {
          "base_uri": "https://localhost:8080/",
          "height": 34
        },
        "outputId": "f922c2dd-2cbb-44e1-efa2-02f2a1bfb8d6"
      },
      "source": [
        "%%R\n",
        "x[c(TRUE, FALSE, TRUE, FALSE)]"
      ],
      "execution_count": 13,
      "outputs": [
        {
          "output_type": "stream",
          "text": [
            "[1] \"A\" \"D\" \"C\"\n"
          ],
          "name": "stdout"
        }
      ]
    },
    {
      "cell_type": "code",
      "metadata": {
        "id": "wourpsZIlDDA",
        "colab_type": "code",
        "colab": {
          "base_uri": "https://localhost:8080/",
          "height": 52
        },
        "outputId": "f7cdb517-9409-4805-96fa-5c2a35a5ad3d"
      },
      "source": [
        "%%R\n",
        "# Vetor de caracteres\n",
        "x <- c(\"A\", \"B\", \"C\", \"D\")\n",
        "y <- setNames(x, letters[1:4]) #atribuir setNames() como nome para o vetor anterior a lista de letras de 1 a 4 (minúscula) cria\n",
        "y"
      ],
      "execution_count": 15,
      "outputs": [
        {
          "output_type": "stream",
          "text": [
            "  a   b   c   d \n",
            "\"A\" \"B\" \"C\" \"D\" \n"
          ],
          "name": "stdout"
        }
      ]
    },
    {
      "cell_type": "markdown",
      "metadata": {
        "id": "NEhtMHcALPmv",
        "colab_type": "text"
      },
      "source": [
        "## Chamar elementos através dos nomes das colunas"
      ]
    },
    {
      "cell_type": "code",
      "metadata": {
        "id": "U3FL2wRBKlRH",
        "colab_type": "code",
        "colab": {
          "base_uri": "https://localhost:8080/",
          "height": 52
        },
        "outputId": "3c5f8580-dba6-43db-e298-9a63a4b6ad42"
      },
      "source": [
        "%%R\n",
        "y[c(\"d\", \"c\", \"a\")] #chamar os elementos através dons nomes das colunas"
      ],
      "execution_count": 17,
      "outputs": [
        {
          "output_type": "stream",
          "text": [
            "  d   c   a \n",
            "\"D\" \"C\" \"A\" \n"
          ],
          "name": "stdout"
        }
      ]
    },
    {
      "cell_type": "code",
      "metadata": {
        "id": "eH7YUmoRKm0w",
        "colab_type": "code",
        "colab": {
          "base_uri": "https://localhost:8080/",
          "height": 52
        },
        "outputId": "9b2569a0-2307-47b8-fc18-9abf437e733e"
      },
      "source": [
        "%%R\n",
        "y[c(\"a\", \"a\", \"a\")]#chamar o mesmo elemento várias vezes"
      ],
      "execution_count": 18,
      "outputs": [
        {
          "output_type": "stream",
          "text": [
            "  a   a   a \n",
            "\"A\" \"A\" \"A\" \n"
          ],
          "name": "stdout"
        }
      ]
    },
    {
      "cell_type": "code",
      "metadata": {
        "id": "dqtkpphclJSd",
        "colab_type": "code",
        "colab": {
          "base_uri": "https://localhost:8080/",
          "height": 87
        },
        "outputId": "fae5b875-521c-457b-9def-ed5f3c57aacb"
      },
      "source": [
        "%%R\n",
        "# Matrizes\n",
        "mat <- matrix(1:9, nrow = 3)\n",
        "colnames(mat) <- c(\"A\", \"B\", \"C\")\n",
        "mat"
      ],
      "execution_count": 19,
      "outputs": [
        {
          "output_type": "stream",
          "text": [
            "     A B C\n",
            "[1,] 1 4 7\n",
            "[2,] 2 5 8\n",
            "[3,] 3 6 9\n"
          ],
          "name": "stdout"
        }
      ]
    },
    {
      "cell_type": "code",
      "metadata": {
        "id": "FwZUVnA-L0TN",
        "colab_type": "code",
        "colab": {
          "base_uri": "https://localhost:8080/",
          "height": 70
        },
        "outputId": "8c8e2768-07f9-4f20-9f0d-79269b113d11"
      },
      "source": [
        "%%R\n",
        "mat[1:2, ] #retornar linhas 1 a 2 e todas as colunas"
      ],
      "execution_count": 21,
      "outputs": [
        {
          "output_type": "stream",
          "text": [
            "     A B C\n",
            "[1,] 1 4 7\n",
            "[2,] 2 5 8\n"
          ],
          "name": "stdout"
        }
      ]
    },
    {
      "cell_type": "code",
      "metadata": {
        "id": "TPMIingSL0OQ",
        "colab_type": "code",
        "colab": {
          "base_uri": "https://localhost:8080/",
          "height": 70
        },
        "outputId": "dc084dc3-c927-4a69-f620-576580c01d88"
      },
      "source": [
        "%%R\n",
        "mat[1:2, 2:3] #retornar subset com linhas de 1 a 2 E colunas de 2 a 3 do dataset"
      ],
      "execution_count": 22,
      "outputs": [
        {
          "output_type": "stream",
          "text": [
            "     B C\n",
            "[1,] 4 7\n",
            "[2,] 5 8\n"
          ],
          "name": "stdout"
        }
      ]
    },
    {
      "cell_type": "markdown",
      "metadata": {
        "id": "ZAEUfOQRMoHI",
        "colab_type": "text"
      },
      "source": [
        "#**outer()** - função para criar matrizes\n",
        "\n",
        "## concatenando elementos do primeiro aos do segundo vetor\n"
      ]
    },
    {
      "cell_type": "code",
      "metadata": {
        "id": "63mLgYj6lJLc",
        "colab_type": "code",
        "colab": {
          "base_uri": "https://localhost:8080/",
          "height": 123
        },
        "outputId": "4fdccf48-c361-4852-cc5f-7da84a4c50a3"
      },
      "source": [
        "%%R\n",
        "# Função outer() permite que uma Matriz se comporte como vetores individuais\n",
        "vals <- outer(1:5, 1:5, FUN = \"paste\", sep = \",\")\n",
        "vals\n"
      ],
      "execution_count": 23,
      "outputs": [
        {
          "output_type": "stream",
          "text": [
            "     [,1]  [,2]  [,3]  [,4]  [,5] \n",
            "[1,] \"1,1\" \"1,2\" \"1,3\" \"1,4\" \"1,5\"\n",
            "[2,] \"2,1\" \"2,2\" \"2,3\" \"2,4\" \"2,5\"\n",
            "[3,] \"3,1\" \"3,2\" \"3,3\" \"3,4\" \"3,5\"\n",
            "[4,] \"4,1\" \"4,2\" \"4,3\" \"4,4\" \"4,5\"\n",
            "[5,] \"5,1\" \"5,2\" \"5,3\" \"5,4\" \"5,5\"\n"
          ],
          "name": "stdout"
        }
      ]
    },
    {
      "cell_type": "code",
      "metadata": {
        "id": "R75L8qz4MlN-",
        "colab_type": "code",
        "colab": {
          "base_uri": "https://localhost:8080/",
          "height": 34
        },
        "outputId": "9cfdbf31-01c6-47c2-f0e7-6ea34c3f0305"
      },
      "source": [
        "%%R \n",
        "vals[c(4, 15)] #elemento 15 tem a contagem em colunas primeira coluna 5, segunda 10, terceira 15, quarta 20, quinta 25"
      ],
      "execution_count": 24,
      "outputs": [
        {
          "output_type": "stream",
          "text": [
            "[1] \"4,1\" \"5,3\"\n"
          ],
          "name": "stdout"
        }
      ]
    },
    {
      "cell_type": "code",
      "metadata": {
        "id": "YS4JcNKslJDc",
        "colab_type": "code",
        "colab": {
          "base_uri": "https://localhost:8080/",
          "height": 87
        },
        "outputId": "e6da4c79-6262-49cd-d7cd-75d8bee0a072"
      },
      "source": [
        "%%R\n",
        "## Dataframes\n",
        "df <- data.frame(x = 1:3, y = 3:1, z = letters[1:3])\n",
        "df"
      ],
      "execution_count": 26,
      "outputs": [
        {
          "output_type": "stream",
          "text": [
            "  x y z\n",
            "1 1 3 a\n",
            "2 2 2 b\n",
            "3 3 1 c\n"
          ],
          "name": "stdout"
        }
      ]
    },
    {
      "cell_type": "code",
      "metadata": {
        "id": "rHvmAFrON-xm",
        "colab_type": "code",
        "colab": {
          "base_uri": "https://localhost:8080/",
          "height": 34
        },
        "outputId": "b0ea5d77-1b8d-451f-bc9c-03248f573512"
      },
      "source": [
        "%%R\n",
        "df$x #retornar apenas coluna x "
      ],
      "execution_count": 27,
      "outputs": [
        {
          "output_type": "stream",
          "text": [
            "[1] 1 2 3\n"
          ],
          "name": "stdout"
        }
      ]
    },
    {
      "cell_type": "code",
      "metadata": {
        "id": "5rVWhtQ9N-z2",
        "colab_type": "code",
        "colab": {
          "base_uri": "https://localhost:8080/",
          "height": 52
        },
        "outputId": "9e0da1a9-fca5-422d-ee37-29d2aca7eaad"
      },
      "source": [
        "%%R\n",
        "df[df$x == 2, ]#filtrar no momento do slice, retornar apenas a coluna x onde o elemento for igual a 2"
      ],
      "execution_count": 28,
      "outputs": [
        {
          "output_type": "stream",
          "text": [
            "  x y z\n",
            "2 2 2 b\n"
          ],
          "name": "stdout"
        }
      ]
    },
    {
      "cell_type": "code",
      "metadata": {
        "id": "Rm3DBo5WN-16",
        "colab_type": "code",
        "colab": {
          "base_uri": "https://localhost:8080/",
          "height": 70
        },
        "outputId": "6385e7e9-6c2e-41d1-f132-c4aaa9d04e3a"
      },
      "source": [
        "%%R\n",
        "df[c(1, 3), ]#retornar linhas 1 e 3 com todoas as colunas"
      ],
      "execution_count": 29,
      "outputs": [
        {
          "output_type": "stream",
          "text": [
            "  x y z\n",
            "1 1 3 a\n",
            "3 3 1 c\n"
          ],
          "name": "stdout"
        }
      ]
    },
    {
      "cell_type": "code",
      "metadata": {
        "id": "h6nfKWGDOhRZ",
        "colab_type": "code",
        "colab": {
          "base_uri": "https://localhost:8080/",
          "height": 87
        },
        "outputId": "6c798b98-a336-4490-8b39-ab783d7bcf87"
      },
      "source": [
        "%%R\n",
        "df[c(\"x\", \"z\")]#retonar vetor de letras, o título das colunas"
      ],
      "execution_count": 30,
      "outputs": [
        {
          "output_type": "stream",
          "text": [
            "  x z\n",
            "1 1 a\n",
            "2 2 b\n",
            "3 3 c\n"
          ],
          "name": "stdout"
        }
      ]
    },
    {
      "cell_type": "code",
      "metadata": {
        "id": "qMZhvwfmOhNg",
        "colab_type": "code",
        "colab": {
          "base_uri": "https://localhost:8080/",
          "height": 87
        },
        "outputId": "942b88e2-7db9-4b86-cf0f-f47a5121989f"
      },
      "source": [
        "%%R\n",
        "df[, c(\"x\", \"z\")]#mesma notação para retornar as mesmas colunas com todas as linhas"
      ],
      "execution_count": 31,
      "outputs": [
        {
          "output_type": "stream",
          "text": [
            "  x z\n",
            "1 1 a\n",
            "2 2 b\n",
            "3 3 c\n"
          ],
          "name": "stdout"
        }
      ]
    },
    {
      "cell_type": "code",
      "metadata": {
        "id": "qLa8DVw7N-wK",
        "colab_type": "code",
        "colab": {
          "base_uri": "https://localhost:8080/",
          "height": 52
        },
        "outputId": "bc3170b1-efd3-4ae6-dde4-7412e7135109"
      },
      "source": [
        "%%R\n",
        "str(df[\"x\"])# ao usar o str o retorno é uma coluna do tipo int"
      ],
      "execution_count": 35,
      "outputs": [
        {
          "output_type": "stream",
          "text": [
            "'data.frame':\t3 obs. of  1 variable:\n",
            " $ x: int  1 2 3\n"
          ],
          "name": "stdout"
        }
      ]
    },
    {
      "cell_type": "code",
      "metadata": {
        "id": "jRn2Uh3tN-jz",
        "colab_type": "code",
        "colab": {
          "base_uri": "https://localhost:8080/",
          "height": 34
        },
        "outputId": "94805a9b-a605-457a-dc81-555b765723c1"
      },
      "source": [
        "%%R\n",
        "str(df[, \"x\"])#ao usar a notação de slice o retorno é um veotr de inteiros"
      ],
      "execution_count": 33,
      "outputs": [
        {
          "output_type": "stream",
          "text": [
            " int [1:3] 1 2 3\n"
          ],
          "name": "stdout"
        }
      ]
    },
    {
      "cell_type": "code",
      "metadata": {
        "id": "DNBP9e2SlNI1",
        "colab_type": "code",
        "colab": {
          "base_uri": "https://localhost:8080/",
          "height": 87
        },
        "outputId": "b3c7f620-cbe2-4109-edb5-5c0dfc9d8694"
      },
      "source": [
        "%%R\n",
        "# Removendo colunas de dataframes\n",
        "df <- data.frame(x = 1:3, y = 3:1, z = letters[1:3])\n",
        "df"
      ],
      "execution_count": 36,
      "outputs": [
        {
          "output_type": "stream",
          "text": [
            "  x y z\n",
            "1 1 3 a\n",
            "2 2 2 b\n",
            "3 3 1 c\n"
          ],
          "name": "stdout"
        }
      ]
    },
    {
      "cell_type": "code",
      "metadata": {
        "id": "M-I2xzEFQ39-",
        "colab_type": "code",
        "colab": {
          "base_uri": "https://localhost:8080/",
          "height": 87
        },
        "outputId": "f8e2b8b3-c6e7-40d6-e997-0d6d5ba31fc7"
      },
      "source": [
        "%%R\n",
        "df$z <- NULL #anulando a coluna z\n",
        "df"
      ],
      "execution_count": 38,
      "outputs": [
        {
          "output_type": "stream",
          "text": [
            "  x y\n",
            "1 1 3\n",
            "2 2 2\n",
            "3 3 1\n"
          ],
          "name": "stdout"
        }
      ]
    },
    {
      "cell_type": "code",
      "metadata": {
        "id": "cbMfhlVflNGC",
        "colab_type": "code",
        "colab": {
          "base_uri": "https://localhost:8080/",
          "height": 123
        },
        "outputId": "49151460-c9e0-4fa4-9c06-0fa375930442"
      },
      "source": [
        "\n",
        "# Operadores [], [[]] e $\n",
        "a <- list(x = 1:3, y = 4:5) #temos dois elementos na lista \"a\"\n",
        "a"
      ],
      "execution_count": 39,
      "outputs": [
        {
          "output_type": "stream",
          "text": [
            "$x\n",
            "[1] 1 2 3\n",
            "\n",
            "$y\n",
            "[1] 4 5\n",
            "\n"
          ],
          "name": "stdout"
        }
      ]
    },
    {
      "cell_type": "code",
      "metadata": {
        "id": "EUP9qeFeQ4jD",
        "colab_type": "code",
        "colab": {
          "base_uri": "https://localhost:8080/",
          "height": 70
        },
        "outputId": "39487e48-162f-49ee-8046-539a9513abf4"
      },
      "source": [
        "%%R\n",
        "a[1]#retornar um elemento da lista com notação de slice"
      ],
      "execution_count": 40,
      "outputs": [
        {
          "output_type": "stream",
          "text": [
            "$x\n",
            "[1] 1 2 3\n",
            "\n"
          ],
          "name": "stdout"
        }
      ]
    },
    {
      "cell_type": "code",
      "metadata": {
        "id": "q6c2dxUQQ4e5",
        "colab_type": "code",
        "colab": {
          "base_uri": "https://localhost:8080/",
          "height": 34
        },
        "outputId": "94903de4-8d5a-41ee-e516-07bbedcac17b"
      },
      "source": [
        "%%R\n",
        "a[[1]]"
      ],
      "execution_count": 42,
      "outputs": [
        {
          "output_type": "stream",
          "text": [
            "[1] 1 2 3\n"
          ],
          "name": "stdout"
        }
      ]
    },
    {
      "cell_type": "code",
      "metadata": {
        "id": "dx9SEAiEQ4bj",
        "colab_type": "code",
        "colab": {
          "base_uri": "https://localhost:8080/",
          "height": 34
        },
        "outputId": "df24190b-f64e-4f48-f4c2-da285140dbad"
      },
      "source": [
        "%%R\n",
        "a[[1]][[1]] #indicar retornar o primeiro ELEMENTO da PRIMEIRA LISTA"
      ],
      "execution_count": 41,
      "outputs": [
        {
          "output_type": "stream",
          "text": [
            "[1] 1\n"
          ],
          "name": "stdout"
        }
      ]
    },
    {
      "cell_type": "code",
      "metadata": {
        "id": "7UVEeV_5Q4Xh",
        "colab_type": "code",
        "colab": {
          "base_uri": "https://localhost:8080/",
          "height": 34
        },
        "outputId": "7729313a-c5b7-4f9d-faa1-739bd4d30f0b"
      },
      "source": [
        "%%R\n",
        "a[[\"x\"]]#retornar pelo nome do elemento/coluna dentro da lista"
      ],
      "execution_count": 43,
      "outputs": [
        {
          "output_type": "stream",
          "text": [
            "[1] 1 2 3\n"
          ],
          "name": "stdout"
        }
      ]
    },
    {
      "cell_type": "code",
      "metadata": {
        "id": "GaJSR3oHlNCq",
        "colab_type": "code",
        "colab": {
          "base_uri": "https://localhost:8080/",
          "height": 176
        },
        "outputId": "8831cad8-7bf9-414b-fbd7-12d58a143a63"
      },
      "source": [
        "%%R\n",
        "b <- list(a = list(b = list(c = list(d = 1)))) #lista de listas que formam o \"endereço\" de 1\n",
        "b"
      ],
      "execution_count": 47,
      "outputs": [
        {
          "output_type": "stream",
          "text": [
            "$a\n",
            "$a$b\n",
            "$a$b$c\n",
            "$a$b$c$d\n",
            "[1] 1\n",
            "\n",
            "\n",
            "\n",
            "\n"
          ],
          "name": "stdout"
        }
      ]
    },
    {
      "cell_type": "code",
      "metadata": {
        "id": "rzbgnFFNS-uX",
        "colab_type": "code",
        "colab": {
          "base_uri": "https://localhost:8080/",
          "height": 34
        },
        "outputId": "4c298fbe-f84a-4ffa-dbc0-0fbbb3a3d62f"
      },
      "source": [
        "%%R\n",
        "b[[c(\"a\", \"b\", \"c\", \"d\")]]#buscar o elemento através de todos os títulos|índices"
      ],
      "execution_count": 48,
      "outputs": [
        {
          "output_type": "stream",
          "text": [
            "[1] 1\n"
          ],
          "name": "stdout"
        }
      ]
    },
    {
      "cell_type": "code",
      "metadata": {
        "id": "5shaZDWGS-i4",
        "colab_type": "code",
        "colab": {
          "base_uri": "https://localhost:8080/",
          "height": 34
        },
        "outputId": "e37c56ea-e4b7-4fdd-ecd0-d70c9379208b"
      },
      "source": [
        "%%R\n",
        "b[[\"a\"]][[\"b\"]][[\"c\"]][[\"d\"]]\n"
      ],
      "execution_count": 49,
      "outputs": [
        {
          "output_type": "stream",
          "text": [
            "[1] 1\n"
          ],
          "name": "stdout"
        }
      ]
    },
    {
      "cell_type": "code",
      "metadata": {
        "id": "eB4a283IlXMk",
        "colab_type": "code",
        "colab": {
          "base_uri": "https://localhost:8080/",
          "height": 34
        },
        "outputId": "eeed4036-8059-4929-c482-26e074ffa137"
      },
      "source": [
        "%%R\n",
        "# x$y é equivalente a x[[\"y\", exact = FALSE]]\n",
        "var <- \"cyl\"\n",
        "mtcars$var"
      ],
      "execution_count": 52,
      "outputs": [
        {
          "output_type": "stream",
          "text": [
            "NULL\n"
          ],
          "name": "stdout"
        }
      ]
    },
    {
      "cell_type": "code",
      "metadata": {
        "id": "pJq2udMcUTR0",
        "colab_type": "code",
        "colab": {
          "base_uri": "https://localhost:8080/",
          "height": 34
        },
        "outputId": "a7b701bb-9ed8-41c3-adb9-8576ce8942e3"
      },
      "source": [
        "%%R\n",
        "mtcars[[var]] #forma de automatizar o processo"
      ],
      "execution_count": 54,
      "outputs": [
        {
          "output_type": "stream",
          "text": [
            " [1] 6 6 4 6 8 6 8 4 4 6 6 8 8 8 8 8 8 4 4 4 4 8 8 8 8 4 4 4 8 6 8 4\n"
          ],
          "name": "stdout"
        }
      ]
    },
    {
      "cell_type": "code",
      "metadata": {
        "id": "bZOlCj_clbA-",
        "colab_type": "code",
        "colab": {
          "base_uri": "https://localhost:8080/",
          "height": 70
        },
        "outputId": "01b605a9-6e7e-4a8e-834c-2fa6cbde7fd1"
      },
      "source": [
        "%%R\n",
        "x <- list(abc = 1) # x é uma lista, com elemento abc e valor 1\n",
        "x"
      ],
      "execution_count": 58,
      "outputs": [
        {
          "output_type": "stream",
          "text": [
            "$abc\n",
            "[1] 1\n",
            "\n"
          ],
          "name": "stdout"
        }
      ]
    },
    {
      "cell_type": "code",
      "metadata": {
        "id": "OeL_bRDAUlXt",
        "colab_type": "code",
        "colab": {
          "base_uri": "https://localhost:8080/",
          "height": 34
        },
        "outputId": "e70c9bbe-c6e9-4f57-eba6-43877fb1f70a"
      },
      "source": [
        "%%R\n",
        "x$a#compreende que a letra a na lista x \"EXISTA dentro do título"
      ],
      "execution_count": 59,
      "outputs": [
        {
          "output_type": "stream",
          "text": [
            "[1] 1\n"
          ],
          "name": "stdout"
        }
      ]
    },
    {
      "cell_type": "code",
      "metadata": {
        "id": "sgzgWkahUkcf",
        "colab_type": "code",
        "colab": {
          "base_uri": "https://localhost:8080/",
          "height": 34
        },
        "outputId": "f9f9312b-9894-4df9-cb65-27ae6db82aea"
      },
      "source": [
        "%%R\n",
        "x[[\"a\"]]#ao indexar ele retorna nulo por não existir index|coluna de nome \"a\""
      ],
      "execution_count": 60,
      "outputs": [
        {
          "output_type": "stream",
          "text": [
            "NULL\n"
          ],
          "name": "stdout"
        }
      ]
    },
    {
      "cell_type": "code",
      "metadata": {
        "id": "9BcObzXMUkZS",
        "colab_type": "code",
        "colab": {
          "base_uri": "https://localhost:8080/",
          "height": 34
        },
        "outputId": "16313342-1c36-494e-af0c-88408068d58d"
      },
      "source": [
        "%%R\n",
        "x[[\"abc\"]]#retorna o valor por existir extatamente index|coluna \"abc\""
      ],
      "execution_count": 61,
      "outputs": [
        {
          "output_type": "stream",
          "text": [
            "[1] 1\n"
          ],
          "name": "stdout"
        }
      ]
    },
    {
      "cell_type": "markdown",
      "metadata": {
        "id": "cZOo7uJWWXTt",
        "colab_type": "text"
      },
      "source": [
        "---"
      ]
    },
    {
      "cell_type": "markdown",
      "metadata": {
        "id": "zxLZ9EjPWYSp",
        "colab_type": "text"
      },
      "source": [
        "#**Subsetting e Atribuição**"
      ]
    },
    {
      "cell_type": "code",
      "metadata": {
        "id": "20RFi_-4la90",
        "colab_type": "code",
        "colab": {
          "base_uri": "https://localhost:8080/",
          "height": 34
        },
        "outputId": "af72d072-8cc5-41b9-8d56-7ce18f0c4060"
      },
      "source": [
        "%%R\n",
        "x <- 1:5 #criando vetor\n",
        "x"
      ],
      "execution_count": 63,
      "outputs": [
        {
          "output_type": "stream",
          "text": [
            "[1] 1 2 3 4 5\n"
          ],
          "name": "stdout"
        }
      ]
    },
    {
      "cell_type": "code",
      "metadata": {
        "id": "6eO0pQk6VurT",
        "colab_type": "code",
        "colab": {
          "base_uri": "https://localhost:8080/",
          "height": 34
        },
        "outputId": "0e4d0c02-bdde-4622-e341-483d1b52f395"
      },
      "source": [
        "%%R\n",
        "x[c(1, 2)] <- 2:3 # selecionando elementos 1 e 2 do vetor e alterá-los para 2 e 3. \n",
        "x"
      ],
      "execution_count": 64,
      "outputs": [
        {
          "output_type": "stream",
          "text": [
            "[1] 2 3 3 4 5\n"
          ],
          "name": "stdout"
        }
      ]
    },
    {
      "cell_type": "code",
      "metadata": {
        "id": "bNbBBjyFVw-W",
        "colab_type": "code",
        "colab": {
          "base_uri": "https://localhost:8080/",
          "height": 34
        },
        "outputId": "db73eb7d-ce47-47e8-9594-135d420f0204"
      },
      "source": [
        "%%R \n",
        "x[-1] <- 4:1  # atribuindo valores na ordem inversa\n",
        "x"
      ],
      "execution_count": 66,
      "outputs": [
        {
          "output_type": "stream",
          "text": [
            "[1] 2 4 3 2 1\n"
          ],
          "name": "stdout"
        }
      ]
    },
    {
      "cell_type": "markdown",
      "metadata": {
        "id": "xK9qvbYbXCaf",
        "colab_type": "text"
      },
      "source": [
        "##Isso é Subsetting - Mantém estrutura ao aplicar funções"
      ]
    },
    {
      "cell_type": "code",
      "metadata": {
        "id": "JeurRPBBla57",
        "colab_type": "code",
        "colab": {
          "base_uri": "https://localhost:8080/",
          "height": 141
        },
        "outputId": "af9ab184-37b3-4fae-f3b8-8ee782d37fd3"
      },
      "source": [
        "%%R\n",
        "head(mtcars) #primeiras linhas de mtcars"
      ],
      "execution_count": 67,
      "outputs": [
        {
          "output_type": "stream",
          "text": [
            "                   mpg cyl disp  hp drat    wt  qsec vs am gear carb\n",
            "Mazda RX4         21.0   6  160 110 3.90 2.620 16.46  0  1    4    4\n",
            "Mazda RX4 Wag     21.0   6  160 110 3.90 2.875 17.02  0  1    4    4\n",
            "Datsun 710        22.8   4  108  93 3.85 2.320 18.61  1  1    4    1\n",
            "Hornet 4 Drive    21.4   6  258 110 3.08 3.215 19.44  1  0    3    1\n",
            "Hornet Sportabout 18.7   8  360 175 3.15 3.440 17.02  0  0    3    2\n",
            "Valiant           18.1   6  225 105 2.76 3.460 20.22  1  0    3    1\n"
          ],
          "name": "stdout"
        }
      ]
    },
    {
      "cell_type": "code",
      "metadata": {
        "id": "CqZFjaiZXSWg",
        "colab_type": "code",
        "colab": {
          "base_uri": "https://localhost:8080/",
          "height": 141
        },
        "outputId": "4d6d6f41-2ee8-4607-8e76-89ff3523ef7d"
      },
      "source": [
        "%%R \n",
        "mtcars[] <- lapply(mtcars, as.integer) #aplicar com a função lapply()a função as.integer() para elementos de mtcars, atribuindo a mtcars[ ] a todos os índices\n",
        "head(mtcars) "
      ],
      "execution_count": 69,
      "outputs": [
        {
          "output_type": "stream",
          "text": [
            "                  mpg cyl disp  hp drat wt qsec vs am gear carb\n",
            "Mazda RX4          21   6  160 110    3  2   16  0  1    4    4\n",
            "Mazda RX4 Wag      21   6  160 110    3  2   17  0  1    4    4\n",
            "Datsun 710         22   4  108  93    3  2   18  1  1    4    1\n",
            "Hornet 4 Drive     21   6  258 110    3  3   19  1  0    3    1\n",
            "Hornet Sportabout  18   8  360 175    3  3   17  0  0    3    2\n",
            "Valiant            18   6  225 105    2  3   20  1  0    3    1\n"
          ],
          "name": "stdout"
        }
      ]
    },
    {
      "cell_type": "markdown",
      "metadata": {
        "id": "3-NygyzNXCYN",
        "colab_type": "text"
      },
      "source": [
        "## Isso não é Subsetting\n"
      ]
    },
    {
      "cell_type": "code",
      "metadata": {
        "id": "tix0WtU8la19",
        "colab_type": "code",
        "colab": {
          "base_uri": "https://localhost:8080/",
          "height": 390
        },
        "outputId": "4028a770-9be5-4f53-b37f-c9143eaafb9b"
      },
      "source": [
        "%%R\n",
        "# Isso não é subsetting\n",
        "mtcars <- lapply(mtcars, as.integer) # a função agora está sendo aplicada a todo o dataset e não apenas aos índices\n",
        "head(mtcars)"
      ],
      "execution_count": 70,
      "outputs": [
        {
          "output_type": "stream",
          "text": [
            "$mpg\n",
            " [1] 21 21 22 21 18 18 14 24 22 19 17 16 17 15 10 10 14 32 30 33 21 15 15 13 19\n",
            "[26] 27 26 30 15 19 15 21\n",
            "\n",
            "$cyl\n",
            " [1] 6 6 4 6 8 6 8 4 4 6 6 8 8 8 8 8 8 4 4 4 4 8 8 8 8 4 4 4 8 6 8 4\n",
            "\n",
            "$disp\n",
            " [1] 160 160 108 258 360 225 360 146 140 167 167 275 275 275 472 460 440  78  75\n",
            "[20]  71 120 318 304 350 400  79 120  95 351 145 301 121\n",
            "\n",
            "$hp\n",
            " [1] 110 110  93 110 175 105 245  62  95 123 123 180 180 180 205 215 230  66  52\n",
            "[20]  65  97 150 150 245 175  66  91 113 264 175 335 109\n",
            "\n",
            "$drat\n",
            " [1] 3 3 3 3 3 2 3 3 3 3 3 3 3 3 2 3 3 4 4 4 3 2 3 3 3 4 4 3 4 3 3 4\n",
            "\n",
            "$wt\n",
            " [1] 2 2 2 3 3 3 3 3 3 3 3 4 3 3 5 5 5 2 1 1 2 3 3 3 3 1 2 1 3 2 3 2\n",
            "\n"
          ],
          "name": "stdout"
        }
      ]
    },
    {
      "cell_type": "code",
      "metadata": {
        "id": "SXifvdiulax0",
        "colab_type": "code",
        "colab": {
          "base_uri": "https://localhost:8080/",
          "height": 34
        },
        "outputId": "44a40c4f-f68f-4720-d83b-5182256f83e5"
      },
      "source": [
        "%%R\n",
        "# Lookup tables\n",
        "x <- c(\"m\", \"f\", \"u\", \"f\", \"f\", \"m\", \"m\")\n",
        "x"
      ],
      "execution_count": 71,
      "outputs": [
        {
          "output_type": "stream",
          "text": [
            "[1] \"m\" \"f\" \"u\" \"f\" \"f\" \"m\" \"m\"\n"
          ],
          "name": "stdout"
        }
      ]
    },
    {
      "cell_type": "code",
      "metadata": {
        "id": "0TQtDRk_YSf2",
        "colab_type": "code",
        "colab": {
          "base_uri": "https://localhost:8080/",
          "height": 52
        },
        "outputId": "f869711e-1866-43a2-dcd2-ff8cf890e76e"
      },
      "source": [
        "%%R\n",
        "lookup <- c(m = \"Male\", f = \"Female\", u = NA) #buscar algo dentro do conjunto com a função lookup()\n",
        "lookup"
      ],
      "execution_count": 73,
      "outputs": [
        {
          "output_type": "stream",
          "text": [
            "       m        f        u \n",
            "  \"Male\" \"Female\"       NA \n"
          ],
          "name": "stdout"
        }
      ]
    },
    {
      "cell_type": "code",
      "metadata": {
        "id": "3dg9ksAMYSb9",
        "colab_type": "code",
        "colab": {
          "base_uri": "https://localhost:8080/",
          "height": 52
        },
        "outputId": "a4d4206d-a090-4bf6-db3a-a1e672f955d5"
      },
      "source": [
        "%%R\n",
        "lookup[x] #buscar por lookup através do índice x - \"de-para\""
      ],
      "execution_count": 74,
      "outputs": [
        {
          "output_type": "stream",
          "text": [
            "       m        f        u        f        f        m        m \n",
            "  \"Male\" \"Female\"       NA \"Female\" \"Female\"   \"Male\"   \"Male\" \n"
          ],
          "name": "stdout"
        }
      ]
    },
    {
      "cell_type": "code",
      "metadata": {
        "id": "pZS8veD5YSak",
        "colab_type": "code",
        "colab": {
          "base_uri": "https://localhost:8080/",
          "height": 34
        },
        "outputId": "91af4bf1-7c29-4b15-c1b9-bb5173db9e4a"
      },
      "source": [
        "%%R\n",
        "unname(lookup[x]) #lookup sem títulos, sem nomes"
      ],
      "execution_count": 77,
      "outputs": [
        {
          "output_type": "stream",
          "text": [
            "[1] \"Male\"   \"Female\" NA       \"Female\" \"Female\" \"Male\"   \"Male\"  \n"
          ],
          "name": "stdout"
        }
      ]
    },
    {
      "cell_type": "markdown",
      "metadata": {
        "id": "66kdTM-YZg-K",
        "colab_type": "text"
      },
      "source": [
        "---"
      ]
    },
    {
      "cell_type": "markdown",
      "metadata": {
        "id": "-5Rb5lsIaYWP",
        "colab_type": "text"
      },
      "source": [
        "#**Usando Operadores Lógicos**"
      ]
    },
    {
      "cell_type": "code",
      "metadata": {
        "id": "zpyA1c9CliIw",
        "colab_type": "code",
        "colab": {
          "base_uri": "https://localhost:8080/",
          "height": 34
        },
        "outputId": "7b3187e6-e74c-4d70-8897-be6f660eda8c"
      },
      "source": [
        "%%R\n",
        "# Usando operadores lógicos\n",
        "x1 <- 1:10 %% 2 == 0\n",
        "x1"
      ],
      "execution_count": 78,
      "outputs": [
        {
          "output_type": "stream",
          "text": [
            " [1] FALSE  TRUE FALSE  TRUE FALSE  TRUE FALSE  TRUE FALSE  TRUE\n"
          ],
          "name": "stdout"
        }
      ]
    },
    {
      "cell_type": "code",
      "metadata": {
        "id": "gazjUoafZO8N",
        "colab_type": "code",
        "colab": {
          "base_uri": "https://localhost:8080/",
          "height": 34
        },
        "outputId": "74fbffc1-a8b9-4865-bedf-83d50bc067e0"
      },
      "source": [
        "%%R\n",
        "which(x1)"
      ],
      "execution_count": 80,
      "outputs": [
        {
          "output_type": "stream",
          "text": [
            "[1]  2  4  6  8 10\n"
          ],
          "name": "stdout"
        }
      ]
    },
    {
      "cell_type": "code",
      "metadata": {
        "id": "hyzRReV-ZO4_",
        "colab_type": "code",
        "colab": {
          "base_uri": "https://localhost:8080/",
          "height": 34
        },
        "outputId": "c153ee5d-795d-420e-ada5-fd2e588d04c2"
      },
      "source": [
        "%%R\n",
        "x2 <- which(x1)\n",
        "x2"
      ],
      "execution_count": 81,
      "outputs": [
        {
          "output_type": "stream",
          "text": [
            "[1]  2  4  6  8 10\n"
          ],
          "name": "stdout"
        }
      ]
    },
    {
      "cell_type": "code",
      "metadata": {
        "id": "-2BaRwYoZO0x",
        "colab_type": "code",
        "colab": {
          "base_uri": "https://localhost:8080/",
          "height": 34
        },
        "outputId": "e522a9ca-7101-4638-9bd9-e1a953d73b5b"
      },
      "source": [
        "%%R\n",
        "y1 <- 1:10 %% 5 == 0\n",
        "y2 <- which(y1)\n",
        "y2"
      ],
      "execution_count": 82,
      "outputs": [
        {
          "output_type": "stream",
          "text": [
            "[1]  5 10\n"
          ],
          "name": "stdout"
        }
      ]
    },
    {
      "cell_type": "code",
      "metadata": {
        "id": "07RlkGVxZcJq",
        "colab_type": "code",
        "colab": {
          "base_uri": "https://localhost:8080/",
          "height": 34
        },
        "outputId": "f661afa5-23c3-4b2b-eeb1-65518336d6dc"
      },
      "source": [
        "%%R\n",
        "intersect(x2, y2)"
      ],
      "execution_count": 83,
      "outputs": [
        {
          "output_type": "stream",
          "text": [
            "[1] 10\n"
          ],
          "name": "stdout"
        }
      ]
    },
    {
      "cell_type": "code",
      "metadata": {
        "id": "yrltDw-XZ4Bt",
        "colab_type": "code",
        "colab": {
          "base_uri": "https://localhost:8080/",
          "height": 34
        },
        "outputId": "c474586d-84d8-401b-c9cb-4eb70a8f996b"
      },
      "source": [
        "%%R\n",
        "x1 & y1"
      ],
      "execution_count": 84,
      "outputs": [
        {
          "output_type": "stream",
          "text": [
            " [1] FALSE FALSE FALSE FALSE FALSE FALSE FALSE FALSE FALSE  TRUE\n"
          ],
          "name": "stdout"
        }
      ]
    },
    {
      "cell_type": "code",
      "metadata": {
        "id": "4doWObEgZ3-n",
        "colab_type": "code",
        "colab": {
          "base_uri": "https://localhost:8080/",
          "height": 34
        },
        "outputId": "0516c6d1-e770-451e-9588-2cbe8bdff9af"
      },
      "source": [
        "%%R\n",
        "union(x2, y2)#união dos dois conjuntos"
      ],
      "execution_count": 85,
      "outputs": [
        {
          "output_type": "stream",
          "text": [
            "[1]  2  4  6  8 10  5\n"
          ],
          "name": "stdout"
        }
      ]
    },
    {
      "cell_type": "code",
      "metadata": {
        "id": "3KQ3kw3VZ38F",
        "colab_type": "code",
        "colab": {
          "base_uri": "https://localhost:8080/",
          "height": 34
        },
        "outputId": "3f39110d-9724-4e70-9629-3d0177eef322"
      },
      "source": [
        "%%R\n",
        "setdiff(x2, y2) #diferença entre os conjuntos de dados"
      ],
      "execution_count": 86,
      "outputs": [
        {
          "output_type": "stream",
          "text": [
            "[1] 2 4 6 8\n"
          ],
          "name": "stdout"
        }
      ]
    }
  ]
}