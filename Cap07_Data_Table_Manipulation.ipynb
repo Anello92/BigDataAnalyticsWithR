{
  "nbformat": 4,
  "nbformat_minor": 0,
  "metadata": {
    "colab": {
      "name": "Cap07-Data-Table-Manipulation.ipynb",
      "provenance": []
    },
    "kernelspec": {
      "name": "python3",
      "display_name": "Python 3"
    },
    "accelerator": "GPU"
  },
  "cells": [
    {
      "cell_type": "code",
      "metadata": {
        "id": "2h-2I4CviFCR",
        "colab_type": "code",
        "colab": {}
      },
      "source": [
        "# activate R magic\n",
        "%load_ext rpy2.ipython"
      ],
      "execution_count": 0,
      "outputs": []
    },
    {
      "cell_type": "markdown",
      "metadata": {
        "id": "o6xUkvAMA3-3",
        "colab_type": "text"
      },
      "source": [
        "#**Data.table** - Melhorar Performance de Processamento R\n",
        "## data.table herda data.frame\n"
      ]
    },
    {
      "cell_type": "code",
      "metadata": {
        "id": "RBd1KV4UA30I",
        "colab_type": "code",
        "colab": {}
      },
      "source": [
        "%%R\n",
        "# Instalando os pacotes\n",
        "install.packages(\"data.table\")\n",
        "library(data.table)\n",
        "# r-datatable.com"
      ],
      "execution_count": 0,
      "outputs": []
    },
    {
      "cell_type": "code",
      "metadata": {
        "id": "nZpeUBLVBVjV",
        "colab_type": "code",
        "colab": {}
      },
      "source": [
        "%%R\n",
        "# Criando 2 vetores\n",
        "vec1 <- c(1, 2, 3, 4)\n",
        "vec2 <- c('Vermelho', 'Verde', 'Marrom', 'Laranja')"
      ],
      "execution_count": 0,
      "outputs": []
    },
    {
      "cell_type": "code",
      "metadata": {
        "id": "0KaHeQYuDFlc",
        "colab_type": "code",
        "outputId": "82c32c84-4650-4108-d1ba-e353d293aa80",
        "colab": {
          "base_uri": "https://localhost:8080/",
          "height": 34
        }
      },
      "source": [
        "%%R\n",
        "vec1"
      ],
      "execution_count": 4,
      "outputs": [
        {
          "output_type": "stream",
          "text": [
            "[1] 1 2 3 4\n"
          ],
          "name": "stdout"
        }
      ]
    },
    {
      "cell_type": "code",
      "metadata": {
        "id": "SfFBO7dnDFwg",
        "colab_type": "code",
        "outputId": "09ce10e0-7855-4d18-c2ec-b6d3516c7827",
        "colab": {
          "base_uri": "https://localhost:8080/",
          "height": 34
        }
      },
      "source": [
        "%%R\n",
        "vec2"
      ],
      "execution_count": 5,
      "outputs": [
        {
          "output_type": "stream",
          "text": [
            "[1] \"Vermelho\" \"Verde\"    \"Marrom\"   \"Laranja\" \n"
          ],
          "name": "stdout"
        }
      ]
    },
    {
      "cell_type": "code",
      "metadata": {
        "id": "J4d0zob15Da4",
        "colab_type": "code",
        "colab": {
          "base_uri": "https://localhost:8080/",
          "height": 105
        },
        "outputId": "5707a0fa-a421-47f2-9e08-e281625cbf34"
      },
      "source": [
        "%%R\n",
        "dt1 <- data.table(vec1, vec2)\n",
        "dt1"
      ],
      "execution_count": 7,
      "outputs": [
        {
          "output_type": "stream",
          "text": [
            "   vec1     vec2\n",
            "1:    1 Vermelho\n",
            "2:    2    Verde\n",
            "3:    3   Marrom\n",
            "4:    4  Laranja\n"
          ],
          "name": "stdout"
        }
      ]
    },
    {
      "cell_type": "code",
      "metadata": {
        "id": "t3HmGww95DZe",
        "colab_type": "code",
        "colab": {
          "base_uri": "https://localhost:8080/",
          "height": 34
        },
        "outputId": "c205c128-8801-4df5-f0d5-c044952e8dbd"
      },
      "source": [
        "%%R\n",
        "class(dt1)"
      ],
      "execution_count": 9,
      "outputs": [
        {
          "output_type": "stream",
          "text": [
            "[1] \"data.table\" \"data.frame\"\n"
          ],
          "name": "stdout"
        }
      ]
    },
    {
      "cell_type": "markdown",
      "metadata": {
        "id": "h6IdB47DDhIT",
        "colab_type": "text"
      },
      "source": [
        "---"
      ]
    },
    {
      "cell_type": "markdown",
      "metadata": {
        "id": "Z1a6gZsvDjkw",
        "colab_type": "text"
      },
      "source": [
        "#**Slicing**"
      ]
    },
    {
      "cell_type": "code",
      "metadata": {
        "id": "bt1-JHu1BeHN",
        "colab_type": "code",
        "colab": {
          "base_uri": "https://localhost:8080/",
          "height": 194
        },
        "outputId": "06ba34d8-27d3-4a94-d8f0-b3f4d579a694"
      },
      "source": [
        "%%R\n",
        "# Slicing do data.table\n",
        "dt2 <- data.table(A = 1:9, \n",
        "                  B = c(\"Z\", \"W\", \"Q\"), #replica 3 vezes\n",
        "                  C = rnorm(9), \n",
        "                  D = TRUE) #replica 9 vezes\n",
        "dt2"
      ],
      "execution_count": 11,
      "outputs": [
        {
          "output_type": "stream",
          "text": [
            "   A B           C    D\n",
            "1: 1 Z  0.83773081 TRUE\n",
            "2: 2 W -0.97453172 TRUE\n",
            "3: 3 Q  0.50585811 TRUE\n",
            "4: 4 Z -0.21557670 TRUE\n",
            "5: 5 W -0.02604121 TRUE\n",
            "6: 6 Q -0.35083621 TRUE\n",
            "7: 7 Z -0.09027873 TRUE\n",
            "8: 8 W -0.35001220 TRUE\n",
            "9: 9 Q  0.03879616 TRUE\n"
          ],
          "name": "stdout"
        }
      ]
    },
    {
      "cell_type": "code",
      "metadata": {
        "id": "FIaXRxDH6Atw",
        "colab_type": "code",
        "colab": {
          "base_uri": "https://localhost:8080/",
          "height": 34
        },
        "outputId": "e574ba6d-fb03-4d9c-8da2-048347f93d1c"
      },
      "source": [
        "%%R\n",
        "class(dt2)"
      ],
      "execution_count": 13,
      "outputs": [
        {
          "output_type": "stream",
          "text": [
            "[1] \"data.table\" \"data.frame\"\n"
          ],
          "name": "stdout"
        }
      ]
    },
    {
      "cell_type": "code",
      "metadata": {
        "id": "oqyYtfgd6Aoc",
        "colab_type": "code",
        "colab": {
          "base_uri": "https://localhost:8080/",
          "height": 52
        },
        "outputId": "006775e7-1549-42f2-82b5-147dad73c9df"
      },
      "source": [
        "%%R\n",
        "dt2[1,1] # A x 1"
      ],
      "execution_count": 14,
      "outputs": [
        {
          "output_type": "stream",
          "text": [
            "   A\n",
            "1: 1\n"
          ],
          "name": "stdout"
        }
      ]
    },
    {
      "cell_type": "code",
      "metadata": {
        "id": "_wfIvIRb6Aiu",
        "colab_type": "code",
        "colab": {
          "base_uri": "https://localhost:8080/",
          "height": 87
        },
        "outputId": "f17464e7-f26c-4da1-b1a5-11fdf99e55de"
      },
      "source": [
        "%%R\n",
        "dt2[3:5,] # linha 3, 4 e 5 e todas as colunas"
      ],
      "execution_count": 15,
      "outputs": [
        {
          "output_type": "stream",
          "text": [
            "   A B           C    D\n",
            "1: 3 Q  0.50585811 TRUE\n",
            "2: 4 Z -0.21557670 TRUE\n",
            "3: 5 W -0.02604121 TRUE\n"
          ],
          "name": "stdout"
        }
      ]
    },
    {
      "cell_type": "code",
      "metadata": {
        "id": "0Zjpfmf06Ab4",
        "colab_type": "code",
        "colab": {
          "base_uri": "https://localhost:8080/",
          "height": 194
        },
        "outputId": "608d7cc0-af52-413c-ee57-bcef27282768"
      },
      "source": [
        "%%R\n",
        "dt2[, .(B, C)] # todas as linhas, coluna b e c"
      ],
      "execution_count": 16,
      "outputs": [
        {
          "output_type": "stream",
          "text": [
            "   B           C\n",
            "1: Z  0.83773081\n",
            "2: W -0.97453172\n",
            "3: Q  0.50585811\n",
            "4: Z -0.21557670\n",
            "5: W -0.02604121\n",
            "6: Q -0.35083621\n",
            "7: Z -0.09027873\n",
            "8: W -0.35001220\n",
            "9: Q  0.03879616\n"
          ],
          "name": "stdout"
        }
      ]
    },
    {
      "cell_type": "code",
      "metadata": {
        "id": "s9jHTERvBeO3",
        "colab_type": "code",
        "colab": {
          "base_uri": "https://localhost:8080/",
          "height": 52
        },
        "outputId": "5d714592-4a79-4b4e-8b30-e1c893ae2be8"
      },
      "source": [
        "%%R\n",
        "# Aplicando função ao data.table\n",
        "dt2[, .(Total = sum(A), Média = mean(C))] #coluna será somatório de A com nome \"Total\", coluna será média de C, nome \"Mean\""
      ],
      "execution_count": 21,
      "outputs": [
        {
          "output_type": "stream",
          "text": [
            "   Total       Média\n",
            "1:    45 -0.06943241\n"
          ],
          "name": "stdout"
        }
      ]
    },
    {
      "cell_type": "code",
      "metadata": {
        "id": "gXsth5_r8xoB",
        "colab_type": "code",
        "colab": {
          "base_uri": "https://localhost:8080/",
          "height": 514
        },
        "outputId": "758b261e-17b6-4c0f-a3a0-dc47bf921a00"
      },
      "source": [
        "%%R\n",
        "dt2[, plot(A, C)]"
      ],
      "execution_count": 18,
      "outputs": [
        {
          "output_type": "stream",
          "text": [
            "NULL\n"
          ],
          "name": "stdout"
        },
        {
          "output_type": "display_data",
          "data": {
            "image/png": "[encoded data removed]"
          },
          "metadata": {
            "tags": []
          }
        }
      ]
    },
    {
      "cell_type": "code",
      "metadata": {
        "id": "Qih9NKYK8xlT",
        "colab_type": "code",
        "colab": {
          "base_uri": "https://localhost:8080/",
          "height": 70
        },
        "outputId": "7d431ce8-f600-45ac-887c-bf054eaeef1f"
      },
      "source": [
        "%%R\n",
        "dt2[, .(MySum = sum(A)), by = .(Grp = A%%2)]"
      ],
      "execution_count": 20,
      "outputs": [
        {
          "output_type": "stream",
          "text": [
            "   Grp MySum\n",
            "1:   1    25\n",
            "2:   0    20\n"
          ],
          "name": "stdout"
        }
      ]
    },
    {
      "cell_type": "code",
      "metadata": {
        "id": "pEgu3FQuBeVn",
        "colab_type": "code",
        "colab": {
          "base_uri": "https://localhost:8080/",
          "height": 212
        },
        "outputId": "ad7a01cc-a25e-46aa-d025-7a2db22b7bdc"
      },
      "source": [
        "%%R\n",
        "# Definindo valores por grupos\n",
        "dt3 <- data.table(B = c(\"a\", \"b\", \"c\", \"d\", \"e\", \"a\", \"b\", \"c\", \"d\", \"e\"), \n",
        "                  val = as.integer(c(6:10, 1:5)))\n",
        "dt3"
      ],
      "execution_count": 23,
      "outputs": [
        {
          "output_type": "stream",
          "text": [
            "    B val\n",
            " 1: a   6\n",
            " 2: b   7\n",
            " 3: c   8\n",
            " 4: d   9\n",
            " 5: e  10\n",
            " 6: a   1\n",
            " 7: b   2\n",
            " 8: c   3\n",
            " 9: d   4\n",
            "10: e   5\n"
          ],
          "name": "stdout"
        }
      ]
    },
    {
      "cell_type": "code",
      "metadata": {
        "id": "ufKOVf03BebJ",
        "colab_type": "code",
        "colab": {
          "base_uri": "https://localhost:8080/",
          "height": 176
        },
        "outputId": "894a11b6-6cc7-4add-f17e-bf59ce3e55b8"
      },
      "source": [
        "%%R\n",
        "# Operações com data.tables\n",
        "dt4 <- data.table(A = rep(letters[2:1], each = 4L), \n",
        "                  B = rep(1:4, each = 2L), \n",
        "                  C = sample(8))\n",
        "\n",
        "dt4"
      ],
      "execution_count": 24,
      "outputs": [
        {
          "output_type": "stream",
          "text": [
            "   A B C\n",
            "1: b 1 2\n",
            "2: b 1 5\n",
            "3: b 2 4\n",
            "4: b 2 8\n",
            "5: a 3 6\n",
            "6: a 3 3\n",
            "7: a 4 7\n",
            "8: a 4 1\n"
          ],
          "name": "stdout"
        }
      ]
    },
    {
      "cell_type": "code",
      "metadata": {
        "id": "Yhvz92Z9BefS",
        "colab_type": "code",
        "colab": {}
      },
      "source": [
        "%%R\n",
        "new_dt4 <- dt4[, sum(C), by = A] #retonar a soma da coluna C, agrupado pelos valores da coluna A"
      ],
      "execution_count": 0,
      "outputs": []
    },
    {
      "cell_type": "code",
      "metadata": {
        "id": "3oJpKYT8Bcs1",
        "colab_type": "code",
        "colab": {
          "base_uri": "https://localhost:8080/",
          "height": 70
        },
        "outputId": "6a2302d0-c780-4604-87ce-a6876ffd0a4f"
      },
      "source": [
        "%%R\n",
        "new_dt4"
      ],
      "execution_count": 27,
      "outputs": [
        {
          "output_type": "stream",
          "text": [
            "   A V1\n",
            "1: b 19\n",
            "2: a 17\n"
          ],
          "name": "stdout"
        }
      ]
    },
    {
      "cell_type": "code",
      "metadata": {
        "id": "lJ7hfGYSBci5",
        "colab_type": "code",
        "colab": {
          "base_uri": "https://localhost:8080/",
          "height": 34
        },
        "outputId": "8a7ecae3-6905-4c9c-ae06-dc8c396329e5"
      },
      "source": [
        "%%R\n",
        "class(new_dt4)"
      ],
      "execution_count": 28,
      "outputs": [
        {
          "output_type": "stream",
          "text": [
            "[1] \"data.table\" \"data.frame\"\n"
          ],
          "name": "stdout"
        }
      ]
    },
    {
      "cell_type": "code",
      "metadata": {
        "id": "VioCn8xSBlNQ",
        "colab_type": "code",
        "colab": {
          "base_uri": "https://localhost:8080/",
          "height": 70
        },
        "outputId": "ca3f583c-d408-4c81-a38d-08af1c5cdb86"
      },
      "source": [
        "%%R\n",
        "new_dt4[order(A)]"
      ],
      "execution_count": 29,
      "outputs": [
        {
          "output_type": "stream",
          "text": [
            "   A V1\n",
            "1: a 17\n",
            "2: b 19\n"
          ],
          "name": "stdout"
        }
      ]
    },
    {
      "cell_type": "code",
      "metadata": {
        "id": "L0YdPiS4BnSl",
        "colab_type": "code",
        "colab": {}
      },
      "source": [
        "%%R\n",
        "new_dt4 <- dt4[, sum(B), by = A][order(A)] #somar a coluna B e ordernar pelos valores da coluna a "
      ],
      "execution_count": 0,
      "outputs": []
    },
    {
      "cell_type": "code",
      "metadata": {
        "id": "DK4IEv1pBqGp",
        "colab_type": "code",
        "colab": {
          "base_uri": "https://localhost:8080/",
          "height": 70
        },
        "outputId": "b7917be2-3bd4-41be-ea90-499de2e253a1"
      },
      "source": [
        "%%R \n",
        "new_dt4"
      ],
      "execution_count": 31,
      "outputs": [
        {
          "output_type": "stream",
          "text": [
            "   A V1\n",
            "1: a 14\n",
            "2: b  6\n"
          ],
          "name": "stdout"
        }
      ]
    },
    {
      "cell_type": "markdown",
      "metadata": {
        "id": "s0mU9JgCDg16",
        "colab_type": "text"
      },
      "source": [
        "#**Com apenas uma instrução, resolver vários PROBLEMAS.**"
      ]
    },
    {
      "cell_type": "code",
      "metadata": {
        "id": "0qcmyVVSCfyz",
        "colab_type": "code",
        "colab": {
          "base_uri": "https://localhost:8080/",
          "height": 87
        },
        "outputId": "986cbeb3-abb4-4b19-8a70-e4ef7a3c5503"
      },
      "source": [
        "%%R\n",
        "# Iris\n",
        "dt5 <- as.data.table(iris)\n",
        "dt5\n",
        "dt5[, .(Sepal.Length = median(Sepal.Length),\n",
        "         Sepal.Width = median(Sepal.Width),\n",
        "         Petal.Length = median(Petal.Length),\n",
        "         Petal.Width = median(Petal.Width)),\n",
        "     by = Species]"
      ],
      "execution_count": 32,
      "outputs": [
        {
          "output_type": "stream",
          "text": [
            "      Species Sepal.Length Sepal.Width Petal.Length Petal.Width\n",
            "1:     setosa          5.0         3.4         1.50         0.2\n",
            "2: versicolor          5.9         2.8         4.35         1.3\n",
            "3:  virginica          6.5         3.0         5.55         2.0\n"
          ],
          "name": "stdout"
        }
      ]
    },
    {
      "cell_type": "markdown",
      "metadata": {
        "id": "Cz6ivpbDCjkZ",
        "colab_type": "text"
      },
      "source": [
        "## O parâmetro .SD significa Subset Data e um subset é criado considerando a coluna Species e depois calculda a mediana.\n",
        "## O resultado deve ser igual ao comando anterior. \n",
        "## O .SD faz parte da notação do pacote data.table.\n",
        "\n"
      ]
    },
    {
      "cell_type": "code",
      "metadata": {
        "id": "bTYmjeiQCtiI",
        "colab_type": "code",
        "colab": {
          "base_uri": "https://localhost:8080/",
          "height": 87
        },
        "outputId": "aae0b5da-0413-471d-8550-396a64a1f834"
      },
      "source": [
        "%%R\n",
        "dt5[, lapply(.SD, median), by = Species]"
      ],
      "execution_count": 33,
      "outputs": [
        {
          "output_type": "stream",
          "text": [
            "      Species Sepal.Length Sepal.Width Petal.Length Petal.Width\n",
            "1:     setosa          5.0         3.4         1.50         0.2\n",
            "2: versicolor          5.9         2.8         4.35         1.3\n",
            "3:  virginica          6.5         3.0         5.55         2.0\n"
          ],
          "name": "stdout"
        }
      ]
    },
    {
      "cell_type": "code",
      "metadata": {
        "id": "qY46rUFBEZYl",
        "colab_type": "code",
        "colab": {}
      },
      "source": [
        ""
      ],
      "execution_count": 0,
      "outputs": []
    }
  ]
}