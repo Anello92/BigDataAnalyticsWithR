{
  "nbformat": 4,
  "nbformat_minor": 0,
  "metadata": {
    "colab": {
      "name": "Cap10-Exercicios.ipynb",
      "provenance": []
    },
    "kernelspec": {
      "name": "python3",
      "display_name": "Python 3"
    },
    "accelerator": "GPU"
  },
  "cells": [
    {
      "cell_type": "code",
      "metadata": {
        "id": "PmuYItlL6a7q",
        "colab_type": "code",
        "outputId": "3e987aca-b5f4-4b27-f6c9-f060ac92cdb8",
        "colab": {
          "base_uri": "https://localhost:8080/",
          "height": 108
        }
      },
      "source": [
        "# activate R magic\n",
        "%load_ext rpy2.ipython\n"
      ],
      "execution_count": 5,
      "outputs": [
        {
          "output_type": "stream",
          "text": [
            "/usr/local/lib/python3.6/dist-packages/rpy2/robjects/pandas2ri.py:14: FutureWarning: pandas.core.index is deprecated and will be removed in a future version.  The public classes are available in the top-level namespace.\n",
            "  from pandas.core.index import Index as PandasIndex\n",
            "/usr/local/lib/python3.6/dist-packages/rpy2/robjects/pandas2ri.py:34: UserWarning: pandas >= 1.0 is not supported.\n",
            "  warnings.warn('pandas >= 1.0 is not supported.')\n"
          ],
          "name": "stderr"
        }
      ]
    },
    {
      "cell_type": "code",
      "metadata": {
        "id": "Pamrgpo65z3D",
        "colab_type": "code",
        "outputId": "9a121c3e-d1ef-44a2-dbe6-1c13b7b53a85",
        "colab": {
          "base_uri": "https://localhost:8080/",
          "height": 1000
        }
      },
      "source": [
        "%%R\n",
        "install.packages(\"ggplot2\")\n",
        "install.packages(\"dplyr\")\n",
        "install.packages('nycflights13') #pacote sobre 3 aeroportos americanos\n",
        "library(\"ggplot2\")\n",
        "library(\"dplyr\")\n",
        "library(\"nycflights13\")\n",
        "\n",
        "# Definindo o Problema de Negócio\n",
        "# Crie um teste de hipótese para verificar se os voos da DeltaAirlines (DL) atrasam mais do que os voos da UA (United Airlines)"
      ],
      "execution_count": 6,
      "outputs": [
        {
          "output_type": "stream",
          "text": [
            "R[write to console]: Installing package into ‘/usr/local/lib/R/site-library’\n",
            "(as ‘lib’ is unspecified)\n",
            "\n",
            "R[write to console]: trying URL 'https://cran.rstudio.com/src/contrib/ggplot2_3.3.0.tar.gz'\n",
            "\n",
            "R[write to console]: Content type 'application/x-gzip'\n",
            "R[write to console]:  length 3031461 bytes (2.9 MB)\n",
            "\n",
            "R[write to console]: =\n",
            "R[write to console]: =\n",
            "R[write to console]: =\n",
            "R[write to console]: =\n",
            "R[write to console]: =\n",
            "R[write to console]: =\n",
            "R[write to console]: =\n",
            "R[write to console]: =\n",
            "R[write to console]: =\n",
            "R[write to console]: =\n",
            "R[write to console]: =\n",
            "R[write to console]: =\n",
            "R[write to console]: =\n",
            "R[write to console]: =\n",
            "R[write to console]: =\n",
            "R[write to console]: =\n",
            "R[write to console]: =\n",
            "R[write to console]: =\n",
            "R[write to console]: =\n",
            "R[write to console]: =\n",
            "R[write to console]: =\n",
            "R[write to console]: =\n",
            "R[write to console]: =\n",
            "R[write to console]: =\n",
            "R[write to console]: =\n",
            "R[write to console]: =\n",
            "R[write to console]: =\n",
            "R[write to console]: =\n",
            "R[write to console]: =\n",
            "R[write to console]: =\n",
            "R[write to console]: =\n",
            "R[write to console]: =\n",
            "R[write to console]: =\n",
            "R[write to console]: =\n",
            "R[write to console]: =\n",
            "R[write to console]: =\n",
            "R[write to console]: =\n",
            "R[write to console]: =\n",
            "R[write to console]: =\n",
            "R[write to console]: =\n",
            "R[write to console]: =\n",
            "R[write to console]: =\n",
            "R[write to console]: =\n",
            "R[write to console]: =\n",
            "R[write to console]: =\n",
            "R[write to console]: =\n",
            "R[write to console]: =\n",
            "R[write to console]: =\n",
            "R[write to console]: =\n",
            "R[write to console]: =\n",
            "R[write to console]: \n",
            "\n",
            "R[write to console]: downloaded 2.9 MB\n",
            "\n",
            "\n",
            "R[write to console]: \n",
            "\n",
            "R[write to console]: \n",
            "R[write to console]: The downloaded source packages are in\n",
            "\t‘/tmp/RtmppMpJtq/downloaded_packages’\n",
            "R[write to console]: \n",
            "R[write to console]: \n",
            "\n",
            "R[write to console]: Installing package into ‘/usr/local/lib/R/site-library’\n",
            "(as ‘lib’ is unspecified)\n",
            "\n",
            "R[write to console]: trying URL 'https://cran.rstudio.com/src/contrib/dplyr_0.8.5.tar.gz'\n",
            "\n",
            "R[write to console]: Content type 'application/x-gzip'\n",
            "R[write to console]:  length 1378766 bytes (1.3 MB)\n",
            "\n",
            "R[write to console]: =\n",
            "R[write to console]: =\n",
            "R[write to console]: =\n",
            "R[write to console]: =\n",
            "R[write to console]: =\n",
            "R[write to console]: =\n",
            "R[write to console]: =\n",
            "R[write to console]: =\n",
            "R[write to console]: =\n",
            "R[write to console]: =\n",
            "R[write to console]: =\n",
            "R[write to console]: =\n",
            "R[write to console]: =\n",
            "R[write to console]: =\n",
            "R[write to console]: =\n",
            "R[write to console]: =\n",
            "R[write to console]: =\n",
            "R[write to console]: =\n",
            "R[write to console]: =\n",
            "R[write to console]: =\n",
            "R[write to console]: =\n",
            "R[write to console]: =\n",
            "R[write to console]: =\n",
            "R[write to console]: =\n",
            "R[write to console]: =\n",
            "R[write to console]: =\n",
            "R[write to console]: =\n",
            "R[write to console]: =\n",
            "R[write to console]: =\n",
            "R[write to console]: =\n",
            "R[write to console]: =\n",
            "R[write to console]: =\n",
            "R[write to console]: =\n",
            "R[write to console]: =\n",
            "R[write to console]: =\n",
            "R[write to console]: =\n",
            "R[write to console]: =\n",
            "R[write to console]: =\n",
            "R[write to console]: =\n",
            "R[write to console]: =\n",
            "R[write to console]: =\n",
            "R[write to console]: =\n",
            "R[write to console]: =\n",
            "R[write to console]: =\n",
            "R[write to console]: =\n",
            "R[write to console]: =\n",
            "R[write to console]: =\n",
            "R[write to console]: =\n",
            "R[write to console]: =\n",
            "R[write to console]: =\n",
            "R[write to console]: \n",
            "\n",
            "R[write to console]: downloaded 1.3 MB\n",
            "\n",
            "\n",
            "R[write to console]: \n",
            "\n",
            "R[write to console]: \n",
            "R[write to console]: The downloaded source packages are in\n",
            "\t‘/tmp/RtmppMpJtq/downloaded_packages’\n",
            "R[write to console]: \n",
            "R[write to console]: \n",
            "\n",
            "R[write to console]: Installing package into ‘/usr/local/lib/R/site-library’\n",
            "(as ‘lib’ is unspecified)\n",
            "\n",
            "R[write to console]: trying URL 'https://cran.rstudio.com/src/contrib/nycflights13_1.0.1.tar.gz'\n",
            "\n",
            "R[write to console]: Content type 'application/x-gzip'\n",
            "R[write to console]:  length 4504590 bytes (4.3 MB)\n",
            "\n",
            "R[write to console]: =\n",
            "R[write to console]: =\n",
            "R[write to console]: =\n",
            "R[write to console]: =\n",
            "R[write to console]: =\n",
            "R[write to console]: =\n",
            "R[write to console]: =\n",
            "R[write to console]: =\n",
            "R[write to console]: =\n",
            "R[write to console]: =\n",
            "R[write to console]: =\n",
            "R[write to console]: =\n",
            "R[write to console]: =\n",
            "R[write to console]: =\n",
            "R[write to console]: =\n",
            "R[write to console]: =\n",
            "R[write to console]: =\n",
            "R[write to console]: =\n",
            "R[write to console]: =\n",
            "R[write to console]: =\n",
            "R[write to console]: =\n",
            "R[write to console]: =\n",
            "R[write to console]: =\n",
            "R[write to console]: =\n",
            "R[write to console]: =\n",
            "R[write to console]: =\n",
            "R[write to console]: =\n",
            "R[write to console]: =\n",
            "R[write to console]: =\n",
            "R[write to console]: =\n",
            "R[write to console]: =\n",
            "R[write to console]: =\n",
            "R[write to console]: =\n",
            "R[write to console]: =\n",
            "R[write to console]: =\n",
            "R[write to console]: =\n",
            "R[write to console]: =\n",
            "R[write to console]: =\n",
            "R[write to console]: =\n",
            "R[write to console]: =\n",
            "R[write to console]: =\n",
            "R[write to console]: =\n",
            "R[write to console]: =\n",
            "R[write to console]: =\n",
            "R[write to console]: =\n",
            "R[write to console]: =\n",
            "R[write to console]: =\n",
            "R[write to console]: =\n",
            "R[write to console]: =\n",
            "R[write to console]: =\n",
            "R[write to console]: \n",
            "\n",
            "R[write to console]: downloaded 4.3 MB\n",
            "\n",
            "\n",
            "R[write to console]: \n",
            "\n",
            "R[write to console]: \n",
            "R[write to console]: The downloaded source packages are in\n",
            "\t‘/tmp/RtmppMpJtq/downloaded_packages’\n",
            "R[write to console]: \n",
            "R[write to console]: \n",
            "\n",
            "R[write to console]: \n",
            "Attaching package: ‘dplyr’\n",
            "\n",
            "\n",
            "R[write to console]: The following objects are masked from ‘package:stats’:\n",
            "\n",
            "    filter, lag\n",
            "\n",
            "\n",
            "R[write to console]: The following objects are masked from ‘package:base’:\n",
            "\n",
            "    intersect, setdiff, setequal, union\n",
            "\n",
            "\n"
          ],
          "name": "stderr"
        }
      ]
    },
    {
      "cell_type": "markdown",
      "metadata": {
        "id": "plhjBui5C1MX",
        "colab_type": "text"
      },
      "source": [
        "#Criar Dataset"
      ]
    },
    {
      "cell_type": "code",
      "metadata": {
        "id": "bUA7JhAY5XCq",
        "colab_type": "code",
        "colab": {}
      },
      "source": [
        "# Exercício 1 \n",
        "# Construa o dataset pop_data com os dados de voos das companhias aéreas UA e DL. \n",
        "# O dataset deve conter apenas 2 colunas, \"nome companhia\" a e \"atraso\".\n",
        "# Os dados devem ser extraídos do dataset flights para construir -> o dataset pop_data"
      ],
      "execution_count": 0,
      "outputs": []
    },
    {
      "cell_type": "code",
      "metadata": {
        "id": "gwHu_wmqDQag",
        "colab_type": "code",
        "colab": {
          "base_uri": "https://localhost:8080/",
          "height": 177
        },
        "outputId": "f18a2dd0-5812-49ad-c23b-9d5c2801421c"
      },
      "source": [
        "%%R\n",
        "pop_data = na.omit(flights) %>% # o que for missing desconsiderar\n",
        "  filter(carrier == \"UA\"| carrier == \"DL\", arr_delay >= 0) %>%\n",
        "  select(carrier, arr_delay)%>%\n",
        "  group_by(carrier) %>% \n",
        "  sample_n(17000) %>%\n",
        "  ungroup()\n",
        "\n",
        "head(pop_data)"
      ],
      "execution_count": 9,
      "outputs": [
        {
          "output_type": "stream",
          "text": [
            "# A tibble: 6 x 2\n",
            "  carrier arr_delay\n",
            "  <chr>       <dbl>\n",
            "1 DL            111\n",
            "2 DL             71\n",
            "3 DL             12\n",
            "4 DL             14\n",
            "5 DL             15\n",
            "6 DL             17\n"
          ],
          "name": "stdout"
        }
      ]
    },
    {
      "cell_type": "code",
      "metadata": {
        "id": "GZwHFlku5W_T",
        "colab_type": "code",
        "colab": {}
      },
      "source": [
        "%%R\n",
        "# Exercício 2 \n",
        "# Crie duas amostras de 1.000 observações cada uma a partir dodataset pop_data\n",
        "# apenas com dados da companhia DL para amostra 1 e apenas dados da companhia UA na amostra 2\n",
        "# Dica: inclua uma coluna chamada sample_id preenchida com número 1 para a primeira amostra e 2 para a segunda amostra\n",
        "\n",
        "\n",
        "\n",
        "\n"
      ],
      "execution_count": 0,
      "outputs": []
    },
    {
      "cell_type": "code",
      "metadata": {
        "id": "H_cBzdi1duvE",
        "colab_type": "code",
        "colab": {
          "base_uri": "https://localhost:8080/",
          "height": 177
        },
        "outputId": "54384940-27bd-4a51-dd75-4285a5bf71fb"
      },
      "source": [
        "%%R\n",
        "amostra1 = na.omit(pop_data) %>%\n",
        "  select(carrier, arr_delay) %>%\n",
        "  filter(carrier == \"DL\" ) %>%\n",
        "  mutate(sample_id = \"1\" ) %>%\n",
        "  sample_n(1000)\n",
        "head(amostra1)"
      ],
      "execution_count": 14,
      "outputs": [
        {
          "output_type": "stream",
          "text": [
            "# A tibble: 6 x 3\n",
            "  carrier arr_delay sample_id\n",
            "  <chr>       <dbl> <chr>    \n",
            "1 DL             20 1        \n",
            "2 DL             31 1        \n",
            "3 DL             26 1        \n",
            "4 DL             59 1        \n",
            "5 DL             67 1        \n",
            "6 DL              3 1        \n"
          ],
          "name": "stdout"
        }
      ]
    },
    {
      "cell_type": "code",
      "metadata": {
        "id": "tipltfz6dunC",
        "colab_type": "code",
        "colab": {
          "base_uri": "https://localhost:8080/",
          "height": 177
        },
        "outputId": "865c1364-5fcb-469d-8156-be1900962420"
      },
      "source": [
        "%%R\n",
        "amostra2 = na.omit(pop_data) %>% #omitir valores na dde pop_data\n",
        "  select(carrier, arr_delay) %>% #select para retornar apenas duas colunas\n",
        "  filter(carrier == \"UA\") %>% #filter para retornar apenas UA\n",
        "  mutate(sample_id = \"2\") %>% #aplicar mutate para adicionar mais uma coluna\n",
        "  sample_n(1000) #retornar uma Amostra de 1000 registros\n",
        "head(amostra2)"
      ],
      "execution_count": 13,
      "outputs": [
        {
          "output_type": "stream",
          "text": [
            "# A tibble: 6 x 3\n",
            "  carrier arr_delay sample_id\n",
            "  <chr>       <dbl> <chr>    \n",
            "1 UA             53 2        \n",
            "2 UA             96 2        \n",
            "3 UA              3 2        \n",
            "4 UA             13 2        \n",
            "5 UA             28 2        \n",
            "6 UA             10 2        \n"
          ],
          "name": "stdout"
        }
      ]
    },
    {
      "cell_type": "code",
      "metadata": {
        "id": "6-rtuIYQYLRJ",
        "colab_type": "code",
        "colab": {}
      },
      "source": [
        "%%R\n",
        "# Exercício 3 - Crie um dataset contendo os dados das 2 amostras criadas no item anterior. \n",
        "#unir os dois datasets por LINHAS\n",
        "samples = rbind(amostra1, amostra2)"
      ],
      "execution_count": 0,
      "outputs": []
    },
    {
      "cell_type": "code",
      "metadata": {
        "id": "WuSoFEdo5W4c",
        "colab_type": "code",
        "colab": {}
      },
      "source": [
        "\n",
        "# Exercício 4 - Calcule o intervalo de confiança (95%) da amostra1\n",
        "\n",
        "# Usamos a fórmula: erro_padrao_amostra1 = sd(amostra1$arr_delay) / sqrt(nrow(amostra1))\n",
        "\n",
        "# Esta fórmula é usada para calcular o desvio padrão de uma distribuição da média amostral\n",
        "# (de um grande número de amostras de uma população). Em outras palavras, só é aplicável \n",
        "# quando você está procurando o desvio padrão de médias calculadas a partir de uma amostra de \n",
        "# tamanho n𝑛, tirada de uma população.\n",
        "\n",
        "# Digamos que você obtenha 10000 amostras de uma população qualquer com um tamanho de amostra de n = 2.\n",
        "# Então calculamos as médias de cada uma dessas amostras (teremos 10000 médias calculadas).\n",
        "# A equação acima informa que, com um número de amostras grande o suficiente, o desvio padrão das médias \n",
        "# da amostra pode ser aproximado usando esta fórmula: sd(amostra) / sqrt(nrow(amostra))\n",
        "  \n",
        "# Deve ser intuitivo que o seu desvio padrão das médias da amostra será muito pequeno, \n",
        "# ou em outras palavras, as médias de cada amostra terão muito pouca variação.\n",
        "\n",
        "# Com determinadas condições de inferência (nossa amostra é aleatória, normal, independente), \n",
        "# podemos realmente usar esse cálculo de desvio padrão para estimar o desvio padrão de nossa população. \n",
        "# Como isso é apenas uma estimativa, é chamado de erro padrão. A condição para usar isso como \n",
        "# uma estimativa é que o tamanho da amostra n é maior que 30 (dado pelo teorema do limite central) \n",
        "# e atende a condição de independência n <= 10% do tamanho da população.\n",
        "\n",
        "# Erro padrão\n",
        "%%R\n",
        "erro_padrao_amostra1 = sd(amostra1$arr_delay) / sqrt(nrow(amostra1))\n",
        "\n",
        "# Limites inferior e superior\n",
        "# 1.96 é o valor de z score para 95% de confiança\n",
        "lower = mean(amostra1$arr_delay) - 1.96 * erro_padrao_amostra1\n",
        "upper = mean(amostra1$arr_delay) + 1.96 * erro padrao_amostra1\n",
        "\n",
        "# Intervalo de confiança\n",
        "ic_1= c(lower, upper)\n",
        "mean(amostra1$arr_delay)\n",
        "ic_1"
      ],
      "execution_count": 0,
      "outputs": []
    },
    {
      "cell_type": "code",
      "metadata": {
        "id": "UDatbbwxkC6b",
        "colab_type": "code",
        "colab": {
          "base_uri": "https://localhost:8080/",
          "height": 35
        },
        "outputId": "5a434d22-a34c-43e2-eeaa-f9ee6c23db85"
      },
      "source": [
        "%%R\n",
        "erro_padrao_amostra1 = sd(amostra1$arr_delay) / sqrt(nrow(amostra1))\n",
        "\n",
        "lower = mean(amostra1$arr_delay) - 1.96 * erro_padrao_amostra1\n",
        "upper = mean(amostra1$arr_delay) + 1.96 * erro_padrao_amostra1\n",
        "\n",
        "ic_1= c(lower, upper)\n",
        "mean(amostra1$arr_delay)\n"
      ],
      "execution_count": 25,
      "outputs": [
        {
          "output_type": "stream",
          "text": [
            "[1] 34.737\n"
          ],
          "name": "stdout"
        }
      ]
    },
    {
      "cell_type": "code",
      "metadata": {
        "id": "hSIHV7Fukg3O",
        "colab_type": "code",
        "colab": {
          "base_uri": "https://localhost:8080/",
          "height": 35
        },
        "outputId": "b65bc7e2-fec8-4d76-a1ed-82fecef01f9c"
      },
      "source": [
        "%%R\n",
        "ic_1"
      ],
      "execution_count": 27,
      "outputs": [
        {
          "output_type": "stream",
          "text": [
            "[1] 31.31276 38.16124\n"
          ],
          "name": "stdout"
        }
      ]
    },
    {
      "cell_type": "code",
      "metadata": {
        "id": "E0gwHTOh5W0z",
        "colab_type": "code",
        "colab": {}
      },
      "source": [
        "# Exercício 5 - Calcule o intervalo de confiança (95%) da amostra2\n",
        "%%R\n",
        "erro_padrao_amostra2 = sd(amostra2$arr_delay) / sqrt(nrow(amostra2))\n",
        "lower = mean(amostra2$arr_delay) - 1.96 * erro_padrao_amostra2\n",
        "upper = mean(amostra2$arr_daley) + 1.96 * erro_padrao_amostra2"
      ],
      "execution_count": 0,
      "outputs": []
    },
    {
      "cell_type": "code",
      "metadata": {
        "id": "Oiq4njJO5WxZ",
        "colab_type": "code",
        "colab": {
          "base_uri": "https://localhost:8080/",
          "height": 159
        },
        "outputId": "d044bc50-49d3-4e6f-f3b9-d1c531f14ed4"
      },
      "source": [
        "# Exercício 6 - Crie um plot Visualizando os intervalos de confiança criados nos itens anteriores\n",
        "# Dica: Use o geom_point() e geom_errorbar() do pacote ggplot2\n",
        "%%R\n",
        "toPlot = summarise(group_by(samples, sample_id), mean = mean(arr_delay))\n",
        "toPlot = mutate(toPlot, lower = ifelse(toPlot$sample_id == 1, ic_1[1], ic_2[1]))\n",
        "toPlot = mutate(toPlot, upper = ifelse(toPlot$sample_id == 1, ic_1[2], ic_2[2]))\n",
        "ggplot(toPlot, aes(x= sample_id, y = mean, colour = sample_id)) + \n",
        "geom_point() + geom_errorbar(aes(ymin =lower, ymax = upper), width =.1)"
      ],
      "execution_count": 33,
      "outputs": [
        {
          "output_type": "stream",
          "text": [
            "R[write to console]: Error in ifelse(toPlot$sample_id == 1, ic_1[1], ic_2[1]) : \n",
            "  object 'ic_2' not found\n",
            "Calls: <Anonymous> ... withVisible -> mutate -> mutate.tbl_df -> mutate_impl -> ifelse\n",
            "\n"
          ],
          "name": "stderr"
        },
        {
          "output_type": "stream",
          "text": [
            "\n",
            "Error in ifelse(toPlot$sample_id == 1, ic_1[1], ic_2[1]) : \n",
            "  object 'ic_2' not found\n",
            "Calls: <Anonymous> ... withVisible -> mutate -> mutate.tbl_df -> mutate_impl -> ifelse\n"
          ],
          "name": "stdout"
        }
      ]
    },
    {
      "cell_type": "code",
      "metadata": {
        "id": "POGeQHJ65Wsa",
        "colab_type": "code",
        "colab": {}
      },
      "source": [
        "# Exercício 7 - Podemos dizer que muito provavelmente, as amostras vieram da mesma população? \n",
        "# Por que?\n",
        "# Sim. A maior parte dos dados reside no mesmo intervalo de confiança nas duas amostras. "
      ],
      "execution_count": 0,
      "outputs": []
    },
    {
      "cell_type": "code",
      "metadata": {
        "id": "gmq74nIx5nOQ",
        "colab_type": "code",
        "colab": {}
      },
      "source": [
        "# Exercício 8 - Crie um teste de hipótese para verificar se os voos da Delta Airlines (DL)\n",
        "# atrasam mais do que os voos da UA (United Airlines)\n",
        "\n",
        "# H0 e H1 devem ser mutuamente exclusivas."
      ],
      "execution_count": 0,
      "outputs": []
    },
    {
      "cell_type": "code",
      "metadata": {
        "id": "bnbGQ5Jf5nFt",
        "colab_type": "code",
        "colab": {}
      },
      "source": [
        ""
      ],
      "execution_count": 0,
      "outputs": []
    }
  ]
}