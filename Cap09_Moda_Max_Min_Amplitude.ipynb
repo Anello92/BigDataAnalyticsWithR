{
  "nbformat": 4,
  "nbformat_minor": 0,
  "metadata": {
    "colab": {
      "name": "Cap09-Moda-Max-Min-Amplitude.ipynb",
      "provenance": []
    },
    "kernelspec": {
      "name": "python3",
      "display_name": "Python 3"
    }
  },
  "cells": [
    {
      "cell_type": "code",
      "metadata": {
        "id": "FCEwW_kFFhU0",
        "colab_type": "code",
        "colab": {}
      },
      "source": [
        "# Medidas de Tendência Central - Moda, Valores Máximo e Mínimo e Amplitude\n",
        "\n",
        "##### Moda #####\n",
        "\n",
        "# A moda de uma distribuição é o valor que ocorre mais frequentemente, \n",
        "# ou o valor que corresponde ao intervalo de classe com a maior frequência. \n",
        "\n",
        "# A moda, da mesma forma que a mediana, não é afetada por valores extremos.\n",
        "\n",
        "# Uma distribuição de frequência que apresenta apenas uma moda é chamada de unimodal. \n",
        "# Se a distribuição apresenta dois pontos de alta concentração ela é chamada de bimodal. \n",
        "\n",
        "# Distribuições bimodais ou multimodais podem indicar que na realidade a distribuição de frequência \n",
        "# se refere a duas populações cujas medidas foram misturadas. \n",
        "\n",
        "# Por exemplo, suponha que um lote de caixas de leite longa vida é amostrado e em cada caixa da \n",
        "# amostra é medido o volume envasado. Se o lote é formado pela produção de duas máquinas de envase \n",
        "# que estão calibradas em valores diferentes, é possível que o histograma apresente duas modas, \n",
        "# uma para cada valor de calibração.\n",
        "\n",
        "# Exemplo: Uma loja de calçados quer saber qual o tamanho mais comprado em um dia de vendas. \n",
        "# A partir dos dados coletados a seguir, determine o tamanho mais pedido. \n",
        "tamanhos = c(38, 38, 36, 37, 36, 36, 40, 39, 36, 35, 36)\n",
        "mean(tamanhos)  \n",
        "median(tamanhos)\n",
        "\n",
        "moda = function(dados) {\n",
        "  vetor = table(as.vector(dados))\n",
        "  names(vetor)[vetor == max(vetor)]\n",
        "}\n",
        "\n",
        "moda(tamanhos)\n",
        "\n",
        "\n",
        "##### Valores Máximo e Mínimo #####\n",
        "\n",
        "# Representam os valores máximos e mínimos da distribuição de dados\n",
        "\n",
        "# Exemplo: Quais são os valores máximo e mínimo dos tamanhos de sapatos do item anterior.\n",
        "tamanhos = c(38, 38, 36, 37, 36, 36, 40, 39, 36, 35, 36)\n",
        "max(tamanhos)\n",
        "min(tamanhos)\n",
        "\n",
        "\n",
        "##### Amplitude #####\n",
        "\n",
        "# A amplitude é a diferença entre o maior e menor valor de um conjunto de dados qualquer.\n",
        "\n",
        "# Exemplo: Bob quer aprender a voar com asa delta, e ele quer saber qual a amplitude máxima que um voo pode ter. \n",
        "# A partir dos dados de outros praticantes de voo livre, determine qual a amplitude. \n",
        "dados = c(28, 31, 45, 58, 22, 33, 42, 68, 24, 37)\n",
        "range(dados)\n",
        "diff(range(dados))\n",
        "\n",
        "\n",
        "\n",
        "\n",
        "\n",
        "\n"
      ],
      "execution_count": 0,
      "outputs": []
    }
  ]
}