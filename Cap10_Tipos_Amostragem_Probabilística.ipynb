{
  "nbformat": 4,
  "nbformat_minor": 0,
  "metadata": {
    "colab": {
      "name": "Cap10-Tipos-Amostragem-Probabilística.ipynb",
      "provenance": []
    },
    "kernelspec": {
      "name": "python3",
      "display_name": "Python 3"
    }
  },
  "cells": [
    {
      "cell_type": "markdown",
      "metadata": {
        "id": "cObv2Dx7r_TX",
        "colab_type": "text"
      },
      "source": [
        "Amostragem probabilística é uma amostraem que todos os membros da população têmchance de pertencer a amostra.O que não significa que cada membro tenha exatamente amesma chance de ser selecionado.\n",
        "\n",
        "Com Amostragem Probabilística, nós temos a possibilidade de realizar uma variedade de testes  de estatística  inferencial,  que  nos  permitirá  extrair  conclusões  confiáveis  sobre  a população.Vejamos uma descrição dos tipos de amostragem probabilística.\n"
      ]
    },
    {
      "cell_type": "markdown",
      "metadata": {
        "id": "hhxxdSy3r_SC",
        "colab_type": "text"
      },
      "source": [
        "![alt text](https://drive.google.com/uc?id=18-KC29sgiLzmVIxAppQaGdy61w39sspr)"
      ]
    },
    {
      "cell_type": "markdown",
      "metadata": {
        "id": "_hI--Cvrr_Qr",
        "colab_type": "text"
      },
      "source": [
        "## **Amostragem aleatória simples**"
      ]
    },
    {
      "cell_type": "markdown",
      "metadata": {
        "id": "UQLVIAl9tNFm",
        "colab_type": "text"
      },
      "source": [
        "Uma amostra aleatória simples é a amostra em que cada membro de uma população tem igual chance de ser selecionado. Na amostragem aleatória simples, todos os elementos da população têm a mesma probabilidade de pertencerem à amostra. Essa amostragem pode ser sem reposição, que é quando o elemento que já foi sorteado não continua no sorteio, ou com reposição,  quando  o  elemento  sorteado  continua  no  sorteio,  podendo  ser  escolhido novamente"
      ]
    },
    {
      "cell_type": "markdown",
      "metadata": {
        "id": "Q7o6M5RStRKh",
        "colab_type": "text"
      },
      "source": [
        "# **Amostragem Sistemática**"
      ]
    },
    {
      "cell_type": "markdown",
      "metadata": {
        "id": "LsIpMl6_tVoW",
        "colab_type": "text"
      },
      "source": [
        "utra  forma  de  garantir  que  uma  amostra  é  selecionada  randomicamente,  é  usar Amostragem  Sistemática.  A  amostragem  sistemática  consiste  em  selecionar  as  unidades elementares  da  população  em  intervalos  pré-fixados.  Para  funcionar,  a  técnica  requer  a listagem  prévia  da  população,  que  deverá  ser  homogênea  e  uma  atenção  especial  na periodicidade dos dados. A amostragem sistemática é semelhante à aleatória simples, mas a listagem é ORDENADA.\n",
        "\n",
        "O processo basicamente é:\n",
        "\n",
        "• Divide-se  o  tamanho  da  população  (N)  pelo  tamanho  da  amostra  (n),  obtendo  um intervalo de retirada (k).\n",
        "\n",
        "\n",
        "• Sorteia-se o ponto de partida. A cada k elementos retira-se um para a amostra (k pode ser o segundo, quarto, vigésimo elemento, etc...)\n",
        "\n",
        "\n",
        "Uma  das  vantagens  de  se  utilizar  esta  técnicaé  evitar  amostra  tendenciosa.  Como  o membro  da  amostra  será  selecionado sempre  na  mesma  posição  a  partir  da  população, evitamos uma seleção direcionada a membros específicos. Entretanto, deve-se ter cuidado com o  conceito  de  periodicidade,  quando  um  padrão  da  população  coincide  com  a  posição  que estamos selecionando.\n",
        "\n",
        "\n",
        "Por exemplo: Vamos supor que exista a necessidade de fazer uma pesquisa com estudantes universitários, para descobrir quantas horas por semana eles estudam. Para tal experimento, selecionamos  sempre  a  quarta  semana  de  cada  mês  para  a  pesquisa.  Entretanto,  a  cada  2 meses  a  universidade  aplica  testes  e  provas,  previstos  no  calendário,  na  última  semana  do bimestre.\n",
        "\n",
        " Obviamente, a pesquisa terá valores diferentes nesta semana (caso seja coincidente com a semana do nosso experimento), pois os alunos estarão estudando mais horas para os testes. Isso pode comprometer o resultado da pesquisa.\n",
        " \n"
      ]
    },
    {
      "cell_type": "markdown",
      "metadata": {
        "id": "T432u5-FtuT5",
        "colab_type": "text"
      },
      "source": [
        "# Amostragem Estratificada"
      ]
    },
    {
      "cell_type": "markdown",
      "metadata": {
        "id": "OsRwflnUtzpV",
        "colab_type": "text"
      },
      "source": [
        "Nós dividimos nossa população em grupos mutuamente exclusivos (chamados estratos) e randomicamente selecionamos membros de cada grupo para nossa amostra.\n",
        "\n",
        "Por exemplo: Vamos supor que continuamos fazendo um experimento com estudantes universitários, mas desta vez desejamos criar uma amostra de estudantes, com a qual faremos nossa pesquisa de horas de estudo por semana. Nossa amostra deve conter 100 estudantes e sabemos que 30% dos alunos sãocalouros, 22% estão no segundo ano, 28% no terceiro ano e 20%  no  quarto  ano.    Nossa  amostra  deve  ter  uma  proporção  de  alunos,  condizente  com  a população. \n",
        " \n",
        " Para isso, dividimos os alunos em grupos mutuamente exclusivos (um aluno não pode ser calouro e estar no quarto ano ao mesmo tempo) e aplicamos a regra a seguir para criar nossa  amostra  de  100  alunos,  que  serão  alvo  da  nossa  pesquisa.  Com  isso,  teremos  uma amostra (100 alunos) que é representativa da população (todos os alunos da universidade).\n",
        " \n",
        " \n",
        " Cada  grupo  é  homogêneo,  ou  seja,  possui  as  mesmas  características  em  relação  a população."
      ]
    },
    {
      "cell_type": "markdown",
      "metadata": {
        "id": "DmJ3RL3xuMuo",
        "colab_type": "text"
      },
      "source": [
        "![alt text](https://drive.google.com/uc?id=1ZcLN8qb7DzVdh2F7pEAzcOkXzOXpSiUo)"
      ]
    },
    {
      "cell_type": "markdown",
      "metadata": {
        "id": "it1zGAX3ugRK",
        "colab_type": "text"
      },
      "source": [
        "### **Amostragem por Conglomerado**"
      ]
    },
    {
      "cell_type": "markdown",
      "metadata": {
        "id": "cEalhc90umBy",
        "colab_type": "text"
      },
      "source": [
        "Na amostragem  por  conglomerados,  a  população  é  dividida  fisicamente  em conglomerados(grupos  ou  clusters).  Selecionam-se  aleatoriamente  os  conglomerados  que farão  parte  da  amostra,  ao  passo  que todos  os  elementos  dos  conglomerados  selecionados serão  amostrados.  É  muito  utilizada  quando  hánecessidadede  se  realizar  entrevistas  ou observações em grandes áreas.\n",
        "\n",
        "Na amostragem por conglomerados, também criamos grupos mutuamente exclusivos, cada  um  representativo  da  população.  Ao  invés  de  selecionarmos  membros  de  cada  grupo, selecionamos  randomicamente  grupos  inteiros  para  nossa  amostra.  Vamos  usar  o  exemplo anterior, mas desta vez criar uma amostra por conglomerados."
      ]
    },
    {
      "cell_type": "markdown",
      "metadata": {
        "id": "Be7ieuw6ul6y",
        "colab_type": "text"
      },
      "source": [
        "![alt text](https://drive.google.com/uc?id=1OB8aQxOoC9lbASD1RKhlK8lyL102ckqA)"
      ]
    },
    {
      "cell_type": "code",
      "metadata": {
        "id": "I0zEQHh3v_qi",
        "colab_type": "code",
        "colab": {}
      },
      "source": [
        ""
      ],
      "execution_count": 0,
      "outputs": []
    }
  ]
}