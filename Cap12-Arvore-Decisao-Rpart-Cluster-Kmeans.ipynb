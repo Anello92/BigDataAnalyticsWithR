{
 "cells": [
  {
   "cell_type": "markdown",
   "metadata": {},
   "source": [
    "# Árvore de Decisão em R\n",
    "\n",
    "O processo:\n",
    "1. Definir problema de negócio\n",
    "2. Coletar dados\n",
    "3. Análise Exploratória\n",
    "4. Manipulação de Dados - Munging\n",
    "5. Treinar modelos\n",
    "6. Avaliar modelo\n",
    "7. Otimizar modelo\n"
   ]
  },
  {
   "cell_type": "markdown",
   "metadata": {},
   "source": [
    "## Existem diversos pacotes para Árvores de Decisão em R. \n",
    "\n",
    "## Usaremos o rpart()"
   ]
  },
  {
   "cell_type": "code",
   "execution_count": 7,
   "metadata": {},
   "outputs": [],
   "source": [
    "#install.packages('rpart')\n",
    "library(rpart)"
   ]
  },
  {
   "cell_type": "raw",
   "metadata": {},
   "source": [
    "Utilizar um dataset que é disponibilizado junto com o pacote rpart - kyphosis"
   ]
  },
  {
   "cell_type": "code",
   "execution_count": 3,
   "metadata": {},
   "outputs": [
    {
     "name": "stdout",
     "output_type": "stream",
     "text": [
      "'data.frame':\t81 obs. of  4 variables:\n",
      " $ Kyphosis: Factor w/ 2 levels \"absent\",\"present\": 1 1 2 1 1 1 1 1 1 2 ...\n",
      " $ Age     : int  71 158 128 2 1 1 61 37 113 59 ...\n",
      " $ Number  : int  3 3 4 5 4 2 2 3 2 6 ...\n",
      " $ Start   : int  5 14 5 1 15 16 17 16 16 12 ...\n"
     ]
    }
   ],
   "source": [
    "str(kyphosis)"
   ]
  },
  {
   "cell_type": "code",
   "execution_count": 8,
   "metadata": {},
   "outputs": [
    {
     "data": {
      "text/html": [
       "<table>\n",
       "<thead><tr><th scope=col>Kyphosis</th><th scope=col>Age</th><th scope=col>Number</th><th scope=col>Start</th></tr></thead>\n",
       "<tbody>\n",
       "\t<tr><td>absent</td><td>71    </td><td>3     </td><td>5     </td></tr>\n",
       "</tbody>\n",
       "</table>\n"
      ],
      "text/latex": [
       "\\begin{tabular}{r|llll}\n",
       " Kyphosis & Age & Number & Start\\\\\n",
       "\\hline\n",
       "\t absent & 71     & 3      & 5     \\\\\n",
       "\\end{tabular}\n"
      ],
      "text/markdown": [
       "\n",
       "| Kyphosis | Age | Number | Start |\n",
       "|---|---|---|---|\n",
       "| absent | 71     | 3      | 5      |\n",
       "\n"
      ],
      "text/plain": [
       "  Kyphosis Age Number Start\n",
       "1 absent   71  3      5    "
      ]
     },
     "metadata": {},
     "output_type": "display_data"
    }
   ],
   "source": [
    "head(kyphosis, n = 1)"
   ]
  },
  {
   "cell_type": "raw",
   "metadata": {},
   "source": [
    "kyphosis é um fator com níveis ausente|presente indicando se a deformação está presente pós operação "
   ]
  },
  {
   "cell_type": "code",
   "execution_count": null,
   "metadata": {},
   "outputs": [],
   "source": [
    "View(kyphosis)"
   ]
  },
  {
   "cell_type": "markdown",
   "metadata": {},
   "source": [
    "## Após explorar o Dataset, criar Modelo de Árvore de Decisão"
   ]
  },
  {
   "cell_type": "code",
   "execution_count": 10,
   "metadata": {},
   "outputs": [],
   "source": [
    "?rpart"
   ]
  },
  {
   "cell_type": "code",
   "execution_count": 12,
   "metadata": {},
   "outputs": [],
   "source": [
    "arvore <- rpart(Kyphosis ~ .,       # relacionando a deformação com todas as variáveis\n",
    "                method = 'class',   # método classificação para um PROBLEMA de classificação\n",
    "                data = kyphosis)    # dataset"
   ]
  },
  {
   "cell_type": "code",
   "execution_count": 13,
   "metadata": {},
   "outputs": [
    {
     "data": {
      "text/html": [
       "'rpart'"
      ],
      "text/latex": [
       "'rpart'"
      ],
      "text/markdown": [
       "'rpart'"
      ],
      "text/plain": [
       "[1] \"rpart\""
      ]
     },
     "metadata": {},
     "output_type": "display_data"
    }
   ],
   "source": [
    "class(arvore)"
   ]
  },
  {
   "cell_type": "code",
   "execution_count": 14,
   "metadata": {},
   "outputs": [
    {
     "data": {
      "text/plain": [
       "n= 81 \n",
       "\n",
       "node), split, n, loss, yval, (yprob)\n",
       "      * denotes terminal node\n",
       "\n",
       " 1) root 81 17 absent (0.79012346 0.20987654)  \n",
       "   2) Start>=8.5 62  6 absent (0.90322581 0.09677419)  \n",
       "     4) Start>=14.5 29  0 absent (1.00000000 0.00000000) *\n",
       "     5) Start< 14.5 33  6 absent (0.81818182 0.18181818)  \n",
       "      10) Age< 55 12  0 absent (1.00000000 0.00000000) *\n",
       "      11) Age>=55 21  6 absent (0.71428571 0.28571429)  \n",
       "        22) Age>=111 14  2 absent (0.85714286 0.14285714) *\n",
       "        23) Age< 111 7  3 present (0.42857143 0.57142857) *\n",
       "   3) Start< 8.5 19  8 present (0.42105263 0.57894737) *"
      ]
     },
     "metadata": {},
     "output_type": "display_data"
    }
   ],
   "source": [
    "arvore # esta impressão não é visual"
   ]
  },
  {
   "cell_type": "code",
   "execution_count": 15,
   "metadata": {},
   "outputs": [
    {
     "name": "stdout",
     "output_type": "stream",
     "text": [
      "\n",
      "Classification tree:\n",
      "rpart(formula = Kyphosis ~ ., data = kyphosis, method = \"class\")\n",
      "\n",
      "Variables actually used in tree construction:\n",
      "[1] Age   Start\n",
      "\n",
      "Root node error: 17/81 = 0.20988\n",
      "\n",
      "n= 81 \n",
      "\n",
      "        CP nsplit rel error  xerror    xstd\n",
      "1 0.176471      0   1.00000 1.00000 0.21559\n",
      "2 0.019608      1   0.82353 0.94118 0.21078\n",
      "3 0.010000      4   0.76471 0.94118 0.21078\n"
     ]
    }
   ],
   "source": [
    "printcp(arvore)"
   ]
  },
  {
   "cell_type": "code",
   "execution_count": null,
   "metadata": {},
   "outputs": [],
   "source": [
    "#variáveis usadas: Age | Start\n",
    "#erro do modelo árvore = 0.2098\n",
    "#qtde observações = 81"
   ]
  },
  {
   "cell_type": "markdown",
   "metadata": {},
   "source": [
    "### Visualizar Árvore e aplicar camada gráfica"
   ]
  },
  {
   "cell_type": "code",
   "execution_count": 17,
   "metadata": {},
   "outputs": [
    {
     "data": {
      "image/png": "[encoded data removed]",
      "text/plain": [
       "Plot with title \"Arvore de Decisao em R\""
      ]
     },
     "metadata": {},
     "output_type": "display_data"
    }
   ],
   "source": [
    "plot(arvore, uniform = TRUE, main = \"Arvore de Decisao em R\")\n",
    "text(arvore, use.n = TRUE, all = TRUE)"
   ]
  },
  {
   "cell_type": "markdown",
   "metadata": {},
   "source": [
    "## Este pacote é complementar ao {rpart} - Visualização legível"
   ]
  },
  {
   "cell_type": "code",
   "execution_count": 27,
   "metadata": {},
   "outputs": [],
   "source": [
    "#install.packages('rpart.plot')\n",
    "library(rpart.plot)"
   ]
  },
  {
   "cell_type": "markdown",
   "metadata": {},
   "source": [
    "## Dataset Iris - 3 espécies de flores, 4 medidas"
   ]
  },
  {
   "cell_type": "code",
   "execution_count": 30,
   "metadata": {},
   "outputs": [],
   "source": [
    "library(datasets)"
   ]
  },
  {
   "cell_type": "markdown",
   "metadata": {},
   "source": [
    "head(iris, n = 1)"
   ]
  },
  {
   "cell_type": "code",
   "execution_count": null,
   "metadata": {},
   "outputs": [],
   "source": [
    "View(iris)"
   ]
  },
  {
   "cell_type": "markdown",
   "metadata": {},
   "source": [
    "## Análise Exploratória de dados com ggplot2"
   ]
  },
  {
   "cell_type": "code",
   "execution_count": 31,
   "metadata": {},
   "outputs": [
    {
     "name": "stderr",
     "output_type": "stream",
     "text": [
      "also installing the dependencies 'desc', 'pkgbuild', 'pkgload', 'praise', 'rlang', 'testthat', 'isoband'\n",
      "\n"
     ]
    },
    {
     "name": "stdout",
     "output_type": "stream",
     "text": [
      "package 'desc' successfully unpacked and MD5 sums checked\n",
      "package 'pkgbuild' successfully unpacked and MD5 sums checked\n",
      "package 'pkgload' successfully unpacked and MD5 sums checked\n",
      "package 'praise' successfully unpacked and MD5 sums checked\n",
      "package 'rlang' successfully unpacked and MD5 sums checked\n",
      "package 'testthat' successfully unpacked and MD5 sums checked\n",
      "package 'isoband' successfully unpacked and MD5 sums checked\n",
      "package 'ggplot2' successfully unpacked and MD5 sums checked\n",
      "\n",
      "The downloaded binary packages are in\n",
      "\tC:\\Users\\anell\\AppData\\Local\\Temp\\Rtmpi28bEi\\downloaded_packages\n"
     ]
    },
    {
     "name": "stderr",
     "output_type": "stream",
     "text": [
      "Warning message:\n",
      "\"package 'ggplot2' was built under R version 3.6.3\""
     ]
    }
   ],
   "source": [
    "install.packages(\"ggplot2\")\n",
    "library(ggplot2)"
   ]
  },
  {
   "cell_type": "markdown",
   "metadata": {},
   "source": [
    "## Nitidamente o cojunto possui grupos com características similares"
   ]
  },
  {
   "cell_type": "code",
   "execution_count": 33,
   "metadata": {},
   "outputs": [
    {
     "data": {
      "image/png": "[encoded data removed]",
      "text/plain": [
       "plot without title"
      ]
     },
     "metadata": {},
     "output_type": "display_data"
    }
   ],
   "source": [
    "ggplot(iris, aes(Petal.Length, Petal.Width, color = Species)) + geom_point(size = 3)"
   ]
  },
  {
   "cell_type": "markdown",
   "metadata": {},
   "source": [
    "## Agora usar o K-Means para agrupar dados em Clusters"
   ]
  },
  {
   "cell_type": "code",
   "execution_count": null,
   "metadata": {},
   "outputs": [],
   "source": [
    "help(kmeans) # algoritmo mais famoso de clusterizaçãos"
   ]
  },
  {
   "cell_type": "markdown",
   "metadata": {},
   "source": [
    "## Criar modelo de clusterings com K-Kmeans (não-supervisionada)\n"
   ]
  },
  {
   "cell_type": "code",
   "execution_count": 34,
   "metadata": {},
   "outputs": [],
   "source": [
    "irisCluster <- kmeans(iris[, 1:4], #conjunto de dados e slicing das 4 colunas\n",
    "                      3,           #indicar número de clusters desejado\n",
    "                      nstart = 20) #quantidade de números randômicos"
   ]
  },
  {
   "cell_type": "code",
   "execution_count": 35,
   "metadata": {},
   "outputs": [
    {
     "data": {
      "text/plain": [
       "K-means clustering with 3 clusters of sizes 62, 50, 38\n",
       "\n",
       "Cluster means:\n",
       "  Sepal.Length Sepal.Width Petal.Length Petal.Width\n",
       "1     5.901613    2.748387     4.393548    1.433871\n",
       "2     5.006000    3.428000     1.462000    0.246000\n",
       "3     6.850000    3.073684     5.742105    2.071053\n",
       "\n",
       "Clustering vector:\n",
       "  [1] 2 2 2 2 2 2 2 2 2 2 2 2 2 2 2 2 2 2 2 2 2 2 2 2 2 2 2 2 2 2 2 2 2 2 2 2 2\n",
       " [38] 2 2 2 2 2 2 2 2 2 2 2 2 2 1 1 3 1 1 1 1 1 1 1 1 1 1 1 1 1 1 1 1 1 1 1 1 1\n",
       " [75] 1 1 1 3 1 1 1 1 1 1 1 1 1 1 1 1 1 1 1 1 1 1 1 1 1 1 3 1 3 3 3 3 1 3 3 3 3\n",
       "[112] 3 3 1 1 3 3 3 3 1 3 1 3 1 3 3 1 1 3 3 3 3 3 1 3 3 3 3 1 3 3 3 1 3 3 3 1 3\n",
       "[149] 3 1\n",
       "\n",
       "Within cluster sum of squares by cluster:\n",
       "[1] 39.82097 15.15100 23.87947\n",
       " (between_SS / total_SS =  88.4 %)\n",
       "\n",
       "Available components:\n",
       "\n",
       "[1] \"cluster\"      \"centers\"      \"totss\"        \"withinss\"     \"tot.withinss\"\n",
       "[6] \"betweenss\"    \"size\"         \"iter\"         \"ifault\"      "
      ]
     },
     "metadata": {},
     "output_type": "display_data"
    }
   ],
   "source": [
    "irisCluster"
   ]
  },
  {
   "cell_type": "markdown",
   "metadata": {},
   "source": [
    "## Aplicar tabulação à saída de K-Means"
   ]
  },
  {
   "cell_type": "code",
   "execution_count": 36,
   "metadata": {},
   "outputs": [
    {
     "data": {
      "text/plain": [
       "   \n",
       "    setosa versicolor virginica\n",
       "  1      0         48        14\n",
       "  2     50          0         0\n",
       "  3      0          2        36"
      ]
     },
     "metadata": {},
     "output_type": "display_data"
    }
   ],
   "source": [
    "table(irisCluster$cluster, iris$Species)"
   ]
  },
  {
   "cell_type": "markdown",
   "metadata": {},
   "source": [
    "## Visualizar clusters graficamente"
   ]
  },
  {
   "cell_type": "code",
   "execution_count": 37,
   "metadata": {},
   "outputs": [
    {
     "name": "stdout",
     "output_type": "stream",
     "text": [
      "package 'cluster' successfully unpacked and MD5 sums checked\n",
      "\n",
      "The downloaded binary packages are in\n",
      "\tC:\\Users\\anell\\AppData\\Local\\Temp\\Rtmpi28bEi\\downloaded_packages\n"
     ]
    },
    {
     "name": "stderr",
     "output_type": "stream",
     "text": [
      "Warning message:\n",
      "\"package 'cluster' was built under R version 3.6.3\""
     ]
    }
   ],
   "source": [
    "install.packages(\"cluster\")\n",
    "library(cluster)\n",
    "#help(clusplot)"
   ]
  },
  {
   "cell_type": "raw",
   "metadata": {},
   "source": [
    "## Plot passando dataset iris e cluster criado\n",
    "## Modelo retorna os pontos de dados que representam cada planta por padrão, similaridade\n",
    "\n",
    "#1.Detectar padrões e similaridades (aprnedizagem não supervisionada)\n",
    "#2.divir dados em grupos, \n",
    "#3.estudar cada grupo de maneira individual (aprendizagem supervisionada)"
   ]
  },
  {
   "cell_type": "code",
   "execution_count": 38,
   "metadata": {},
   "outputs": [
    {
     "data": {
      "image/png": "[encoded data removed]",
      "text/plain": [
       "Plot with title \"CLUSPLOT( iris )\""
      ]
     },
     "metadata": {},
     "output_type": "display_data"
    }
   ],
   "source": [
    "clusplot(iris, irisCluster$cluster, color = TRUE, shade = TRUE, labels = 0, lines = 0 )"
   ]
  },
  {
   "cell_type": "code",
   "execution_count": null,
   "metadata": {},
   "outputs": [],
   "source": []
  }
 ],
 "metadata": {
  "kernelspec": {
   "display_name": "R",
   "language": "R",
   "name": "ir"
  },
  "language_info": {
   "codemirror_mode": "r",
   "file_extension": ".r",
   "mimetype": "text/x-r-source",
   "name": "R",
   "pygments_lexer": "r",
   "version": "3.6.1"
  }
 },
 "nbformat": 4,
 "nbformat_minor": 4
}
